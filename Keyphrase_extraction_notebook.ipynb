{
  "nbformat": 4,
  "nbformat_minor": 0,
  "metadata": {
    "colab": {
      "provenance": [],
      "collapsed_sections": [],
      "authorship_tag": "ABX9TyO1+JzOmt0kZcZz9TSsXLwu",
      "include_colab_link": true
    },
    "kernelspec": {
      "name": "python3",
      "display_name": "Python 3"
    },
    "language_info": {
      "name": "python"
    }
  },
  "cells": [
    {
      "cell_type": "markdown",
      "metadata": {
        "id": "view-in-github",
        "colab_type": "text"
      },
      "source": [
        "<a href=\"https://colab.research.google.com/github/abualhamd/nlp/blob/main/Keyphrase_extraction_notebook.ipynb\" target=\"_parent\"><img src=\"https://colab.research.google.com/assets/colab-badge.svg\" alt=\"Open In Colab\"/></a>"
      ]
    },
    {
      "cell_type": "code",
      "source": [
        "from google.colab import drive\n",
        "drive.mount('/content/drive')"
      ],
      "metadata": {
        "colab": {
          "base_uri": "https://localhost:8080/"
        },
        "id": "5wGM6OFSz1ZY",
        "outputId": "a00c4b9c-2735-4cb0-82cb-dc7dab0d7d48"
      },
      "execution_count": null,
      "outputs": [
        {
          "output_type": "stream",
          "name": "stdout",
          "text": [
            "Drive already mounted at /content/drive; to attempt to forcibly remount, call drive.mount(\"/content/drive\", force_remount=True).\n"
          ]
        }
      ]
    },
    {
      "cell_type": "code",
      "source": [
        "file_path = '/content/drive/MyDrive/datasets/orange hackathon/cleaned_text.txt'\n",
        "\n",
        "txt = ''\n",
        "\n",
        "with open(file_path, encoding= 'utf-16') as f:\n",
        "    for line in f:\n",
        "        txt += line\n",
        "    \n",
        "print(txt)    "
      ],
      "metadata": {
        "colab": {
          "base_uri": "https://localhost:8080/"
        },
        "id": "Lahbj5ZQz3Nj",
        "outputId": "179761ed-b1fc-449b-962c-f6c6f6d772bb"
      },
      "execution_count": null,
      "outputs": [
        {
          "output_type": "stream",
          "name": "stdout",
          "text": [
            "\n",
            "Python (programming language)\n",
            "From Wikipedia, the free encyclopedia\n",
            "Python is an interpreted highlevel generalpurpose programming language. Its design philosophy emphasizes code readability with its use of significant indentation. Its language constructs as well as its objectoriented approach aim to help programmers write clear, logical code for small and largescale projects.\n",
            "Python is dynamicallytyped and garbagecollected. It supports multiple programming paradigms, including structured (particularly, procedural), objectoriented and functional programming. It is often described as a batteries included language due to its comprehensive standard library.\n",
            "Guido van Rossum began working on Python in the late s, as a successor to the ABC programming language, and first released it in  as Python ... Python . was released in  and introduced new features, such as list comprehensions and a garbage collection system using reference counting. Python . was released in  and was a major revision of the language that is not completely backwardcompatible. Python  was discontinued with version .. in .\n",
            "Python consistently ranks as one of the most popular programming languages.\n",
            "History\n",
            "Python was conceived in the late s by Guido van Rossum at Centrum Wiskunde & Informatica (CWI) in the Netherlands as a successor to ABC programming language, which was inspired by SETL, capable of exception handling and interfacing with the Amoeba operating system. Its implementation began in December . Van Rossum shouldered sole responsibility for the project, as the lead developer, until  July , when he announced his permanent vacation from his responsibilities as Python's Benevolent Dictator For Life, a title the Python community bestowed upon him to reflect his longterm commitment as the project's chief decisionmaker. In January , active Python core developers elected a fivemember Steering Council to lead the project.\n",
            "Python . was released on  October , with many major new features, including a cycledetecting garbage collector and support for Unicode.\n",
            "Python . was released on  December . It was a major revision of the language that is not completely backwardcompatible. Many of its major features were backported to Python ..x and ..x version series. Releases of Python  include the to utility, which automates the translation of Python  code to Python .\n",
            "Python .'s endoflife date was initially set at  then postponed to  out of concern that a large body of existing code could not easily be forwardported to Python . No more security patches or other improvements will be released for it. With Python 's endoflife, only Python ..x and later are supported.\n",
            "Python .. and .. were expedited as all versions of Python (including .) had security issues, leading to possible remote code execution and web cache poisoning.\n",
            "Design philosophy and features\n",
            "Python is a multiparadigm programming language. Objectoriented programming and structured programming are fully supported, and many of its features support functional programming and aspectoriented programming (including by metaprogramming and metaobjects (magic methods)). Many other paradigms are supported via extensions, including design by contract and logic programming.\n",
            "Python uses dynamic typing and a combination of reference counting and a cycledetecting garbage collector for memory management. It also features dynamic name resolution (late binding), which binds method and variable names during program execution.\n",
            "Python's design offers some support for functional programming in the Lisp tradition. It has filter,mapandreduce functions; list comprehensions, dictionaries, sets, and generator expressions. The standard library has two modules (itertools and functools) that implement functional tools borrowed from Haskell and Standard ML.\n",
            "The language's core philosophy is summarized in the document The Zen of Python (PEP ), which includes aphorisms such as:\n",
            "Beautiful is better than ugly.\n",
            "Explicit is better than implicit.\n",
            "Simple is better than complex.\n",
            "Complex is better than complicated.\n",
            "Readability counts.\n",
            "Rather than having all of its functionality built into its core, Python was designed to be highly extensible (with modules). This compact modularity has made it particularly popular as a means of adding programmable interfaces to existing applications. Van Rossum's vision of a small core language with a large standard library and easily extensible interpreter stemmed from his frustrations with ABC, which espoused the opposite approach. It is often described as a batteries included language due to its comprehensive standard library.\n",
            "Python strives for a simpler, lesscluttered syntax and grammar while giving developers a choice in their coding methodology. In contrast to Perl's there is more than one way to do it motto, Python embraces a there should be one— and preferably only one —obvious way to do it design philosophy. Alex Martelli, a Fellow at the Python Software Foundation and Python book author, writes that To describe something as 'clever' is not considered a compliment in the Python culture.\n",
            "Python's developers strive to avoid premature optimization, and reject patches to noncritical parts of the CPython reference implementation that would offer marginal increases in speed at the cost of clarity. When speed is important, a Python programmer can move timecritical functions to extension modules written in languages such as C, or use PyPy, a justintime compiler. Cython is also available, which translates a Python script into C and makes direct Clevel API calls into the Python interpreter.\n",
            "Python's developers aim for the language to be fun to use. This is reflected in its name—a tribute to the British comedy group Monty Python—and in occasionally playful approaches to tutorials and reference materials, such as examples that refer to spam and eggs (a reference to a Monty Python sketch) instead of the standard foo and bar.\n",
            "A common neologism in the Python community is pythonic, which can have a wide range of meanings related to program style. To say that code is pythonic is to say that it uses Python idioms well, that it is natural or shows fluency in the language, that it conforms with Python's minimalist philosophy and emphasis on readability. In contrast, code that is difficult to understand or reads like a rough transcription from another programming language is called unpythonic.\n",
            "Users and admirers of Python, especially those considered knowledgeable or experienced, are often referred to as Pythonistas.\n",
            "Syntax and semantics\n",
            "Main article: Python syntax and semantics\n",
            "Python is meant to be an easily readable language. Its formatting is visually uncluttered, and it often uses English keywords where other languages use punctuation. Unlike many other languages, it does not use curly brackets to delimit blocks, and semicolons after statements are allowed but are rarely, if ever, used. It has fewer syntactic exceptions and special cases than C or Pascal.\n",
            "Indentation\n",
            "Main article: Python syntax and semantics  Indentation\n",
            "Python uses whitespace indentation, rather than curly brackets or keywords, to delimit blocks. An increase in indentation comes after certain statements; a decrease in indentation signifies the end of the current block. Thus, the program's visual structure accurately represents the program's semantic structure. This feature is sometimes termed the offside rule, which some other languages share, but in most languages indentation does not have any semantic meaning. The recommended indent size is four spaces.\n",
            "Statements and control flow\n",
            "Python's statements include (among others):\n",
            "The assignment statement, using a single equals sign =.\n",
            "The if statement, which conditionally executes a block of code, along with else and elif (a contraction of elseif).\n",
            "The for statement, which iterates over an iterable object, capturing each element to a local variable for use by the attached block.\n",
            "The while statement, which executes a block of code as long as its condition is true.\n",
            "The try statement, which allows exceptions raised in its attached code block to be caught and handled by except clauses; it also ensures that cleanup code in a finally block will always be run regardless of how the block exits.\n",
            "The raise statement, used to raise a specified exception or reraise a caught exception.\n",
            "The class statement, which executes a block of code and attaches its local namespace to a class, for use in objectoriented programming.\n",
            "     . \n",
            "The def statement, which defines a function or method.\n",
            "The with statement, which encloses a code block within a context manager (for example, acquiring a lock before the block of code is run and releasing the lock afterwards, or opening a file and then closing it), allowing resourceacquisitionisinitialization (RAII)like behavior and replaces a common try/finally idiom.\n",
            "The break statement, exits from a loop.\n",
            "The continue statement, skips this iteration and continues with the next item.\n",
            "The del statement, removes a variable, which means the reference from the name to the value is deleted and trying to use that variable will cause an error. A deleted variable can be reassigned.\n",
            "The pass statement, which serves as a NOP. It is syntactically needed to create an empty code block.\n",
            "The assert statement, used during debugging to check for conditions that should apply.\n",
            "The yield statement, which returns a value from a generator function and yield is also an operator. This form is used to implement coroutines.\n",
            "The return statement, used to return a value from a function.\n",
            "The import statement, which is used to import modules whose functions or variables can be used in the current program.\n",
            "The assignment statement (=) operates by binding a name as a reference to a separate, dynamicallyallocated object. Variables may subsequently be rebound at any time to any object. In Python, a variable name is a generic reference holder and does not have a fixed data type associated with it. However, at a given time, a variable will refer to some object, which will have a type. This is referred to as dynamic typing and is contrasted with staticallytyped programming languages, where each variable may only contain values of a certain type.\n",
            "Python does not support tail call optimization or firstclass continuations, and, according to Guido van Rossum, it never will. However, better support for coroutinelike functionality is provided, by extending Python's generators. Before ., generators were lazy iterators; information was passed unidirectionally out of the generator. From Python ., it is possible to pass information back into a generator function, and from Python ., the information can be passed through multiple stack levels.\n",
            "Expressions\n",
            "Some Python expressions are similar to those found in languages such as C and Java, while some are not:\n",
            "Addition, subtraction, and multiplication are the same, but the behavior of division differs. There are two types of divisions in Python. They are floor division (or integer division) // and floatingpoint/division. Python also uses the ** operator for exponentiation.\n",
            "From Python ., the new infix operator was introduced. It is intended to be used by libraries such as NumPy for matrix multiplication.\n",
            "From Python ., the syntax :=, called the 'walrus operator' was introduced. It assigns values to variables as part of a larger expression.\n",
            "In Python, == compares by value, versus Java, which compares numerics by value and objects by reference. (Value comparisons in Java on objects can be performed with the equals() method.) Python's is operator may be used to compare object identities (comparison by reference). In Python, comparisons may be chained, for example a <= b <= c.\n",
            "Python uses the words and, or, not for its boolean operators rather than the symbolic &&, ||, ! used in Java and C.\n",
            "Python has a type of expression termed a list comprehension as well as a more general expression termed a generator expression.\n",
            "Anonymous functions are implemented using lambda expressions; however, these are limited in that the body can only be one expression.\n",
            "Conditional expressions in Python are written as x if c else y (different in order of operands from the c ? x : y operator common to many other languages).\n",
            "Python makes a distinction between lists and tuples. Lists are written as [, , ], are mutable, and cannot be used as the keys of dictionaries (dictionary keys must be immutable in Python). Tuples are written as (, , ), are immutable and thus can be used as the keys of dictionaries, provided all elements of the tuple are immutable. The + operator can be used to concatenate two tuples, which does not directly modify their contents, but rather produces a new tuple containing the elements of both provided tuples. Thus, given the variable t initially equal to (, , ), executing t = t + (, ) first evaluates t + (, ), which yields (, , , , ), which is then assigned back to t, thereby effectively modifying the contents of t, while conforming to the immutable nature of tuple objects. Parentheses are optional for tuples in unambiguous contexts.\n",
            "Python features sequence unpacking wherein multiple expressions, each evaluating to anything that can be assigned to (a variable, a writable property, etc.), are associated in an identical manner to that forming tuple literals and, as a whole, are put on the lefthand side of the equal sign in an assignment statement. The statement expects an iterable object on the righthand side of the equal sign that produces the same number of values as the provided writable expressions when iterated through and will iterate through it, assigning each of the produced values to the corresponding expression on the left.\n",
            "Python has a string format operator %. This functions analogously to printf format strings in C, e.g. spam=%s eggs=%d % (blah, ) evaluates to spam=blah eggs=. In Python  and .+, this was supplemented by the format() method of the str class, e.g. spam={} eggs={}.format(blah, ). Python . added fstrings: blah = blah; eggs = ; f'spam={blah} eggs={eggs}'.\n",
            "Strings in Python can be concatenated, by adding them (same operator as for adding integers and floats). E.g. spam + eggs returns spameggs. Even if your strings contain numbers, they are still added as strings rather than integers. E.g.  +  returns .\n",
            "Python has various kinds of string literals:\n",
            "Strings delimited by single or double quote marks. Unlike in Unix shells, Perl and Perlinfluenced languages, single quote marks and double quote marks function identically. Both kinds of string use the backslash (\\) as an escape character. String interpolation became available in Python . as formatted string literals.\n",
            "Triplequoted strings, which begin and end with a series of three single or double quote marks. They may span multiple lines and function like here documents in shells, Perl and Ruby.\n",
            "Raw string varieties, denoted by prefixing the string literal with an r. Escape sequences are not interpreted; hence raw strings are useful where literal backslashes are common, such as regular expressions and Windowsstyle paths. Compare in C#.\n",
            "Python has array index and array slicing expressions on lists, denoted as a[key], a[start:stop] or a[start:stop:step]. Indexes are zerobased, and negative indexes are relative to the end. Slices take elements from the start index up to, but not including, the stop index. The third slice parameter, called step or stride, allows elements to be skipped and reversed. Slice indexes may be omitted, for example a[:] returns a copy of the entire list. Each element of a slice is a shallow copy.\n",
            "In Python, a distinction between expressions and statements is rigidly enforced, in contrast to languages such as Common Lisp, Scheme, or Ruby. This leads to duplicating some functionality. For example:\n",
            "List comprehensions vs. forloops\n",
            "Conditional expressions vs. if blocks\n",
            "The eval() vs. exec() builtin functions (in Python , exec is a statement); the former is for expressions, the latter is for statements.\n",
            "Statements cannot be a part of an expression, so list and other comprehensions or lambda expressions, all being expressions, cannot contain statements. A particular case of this is that an assignment statement such as a =  cannot form part of the conditional expression of a conditional statement. This has the advantage of avoiding a classic C error of mistaking an assignment operator = for an equality operator == in conditions: if (c = ) { ... } is syntactically valid (but probably unintended) C code but if c = : ... causes a syntax error in Python.\n",
            "Methods\n",
            "Methods on objects are functions attached to the object's class; the syntax instance.method(argument) is, for normal methods and functions, syntactic sugar for Class.method(instance, argument). Python methods have an explicit self parameter to access instance data, in contrast to the implicit self (or this) in some other objectoriented programming languages (e.g., C++, Java, ObjectiveC, or Ruby). Apart from this, Python also provides methods, often called dunder methods (due to their names beginning and ending with doubleunderscores), to allow userdefined classes to modify how they are handled by native operations such as length, comparison, in arithmetic operations, type conversion, and many more.\n",
            "Typing\n",
            "Python uses duck typing and has typed objects but untyped variable names. Type constraints are not checked at compile time; rather, operations on an object may fail, signifying that the given object is not of a suitable type. Despite being dynamicallytyped, Python is stronglytyped, forbidding operations that are not welldefined (for example, adding a number to a string) rather than silently attempting to make sense of them.\n",
            "Python allows programmers to define their own types using classes, which are most often used for objectoriented programming. New instances of classes are constructed by calling the class (for example, SpamClass() or EggsClass()), and the classes are instances of the metaclass type (itself an instance of itself), allowing metaprogramming and reflection.\n",
            "Before version ., Python had two kinds of classes: oldstyle and newstyle. The syntax of both styles is the same, the difference being whether the class object is inherited from, directly or indirectly (all newstyle classes inherit from object and are instances of type). In versions of Python  from Python . onwards, both kinds of classes can be used. Oldstyle classes were eliminated in Python ..\n",
            "The longterm plan is to support gradual typing and from Python ., the syntax of the language allows specifying static types but they are not checked in the default implementation, CPython. An experimental optional static type checker named mypy supports compiletime type checking.\n",
            "Arithmetic operations\n",
            "Python has the usual symbols for arithmetic operators (+, , *, /), the floor division operator // and the modulo operation % (where the remainder can be negative, e.g.  %  == ). It also has ** for exponentiation, e.g. ** ==  and **. == ., and a matrix‑multiplication operator . These operators work like in traditional math; with the same precedence rules, the operators infix (+ and  can also be unary to represent positive and negative numbers respectively).\n",
            "The division between integers produces floatingpoint results. The behavior of division has changed significantly over time:\n",
            "Current Python (i.e. since .) changed / to always be floatingpoint division, e.g. / == ..\n",
            "Python . changed integer division to round towards negative infinity, e.g. / ==  and / == . The floor division // operator was introduced. So // == , // == , .// == . and .// == .. Adding from future import division causes a module to use Python . rules for division (see next).\n",
            "Python . and earlier used C's division behavior. The / operator is integer division if both operands are integers, and floatingpoint division otherwise. Integer division rounds towards , e.g. / ==  and / == .\n",
            "In Python terms, / is true division (or simply division), and // is floor division. / before version . is classic division.\n",
            "Rounding towards negative infinity, though different from most languages, adds consistency. For instance, it means that the equation (a + b)//b == a//b +  is always true. It also means that the equation b*(a//b) + a%b == a is valid for both positive and negative values of a. However, maintaining the validity of this equation means that while the result of a%b is, as expected, in the halfopen interval [, b), where b is a positive integer, it has to lie in the interval (b, ] when b is negative.\n",
            "Python provides a round function for rounding a float to the nearest integer. For tiebreaking, Python  uses round to even: round(.) and round(.) both produce . Versions before  used roundawayfromzero: round(.) is ., round(.) is −..\n",
            "Python allows boolean expressions with multiple equality relations in a manner that is consistent with general use in mathematics. For example, the expression a < b < c tests whether a is less than b and b is less than c. Cderived languages interpret this expression differently: in C, the expression would first evaluate a < b, resulting in  or , and that result would then be compared with c.\n",
            "Python uses arbitraryprecision arithmetic for all integer operations. The Decimal type/class in the decimal module provides decimal floatingpoint numbers to a predefined arbitrary precision and several rounding modes. The Fraction class in the fractions module provides arbitrary precision for rational numbers.\n",
            "Due to Python's extensive mathematics library, and the thirdparty library NumPy that further extends the native capabilities, it is frequently used as a scientific scripting language to aid in problems such as numerical data processing and manipulation.\n",
            "Programming examples\n",
            "Hello world program:\n",
            "print('Hello, world!')\n",
            "Program to calculate the factorial of a positive integer:\n",
            "n = int(input('Type a number, and its factorial will be printed: '))\n",
            "if n < :\n",
            "raise ValueError('You must enter a nonnegative integer')\n",
            "factorial = \n",
            "for i in range(, n + ):\n",
            "factorial *= i\n",
            "print(factorial)\n",
            "Libraries\n",
            "Python's large standard library, commonly cited as one of its greatest strengths, provides tools suited to many tasks. For Internetfacing applications, many standard formats and protocols such as MIME and HTTP are supported. It includes modules for creating graphical user interfaces, connecting to relational databases, generating pseudorandom numbers, arithmetic with arbitraryprecision decimals, manipulating regular expressions, and unit testing.\n",
            "Some parts of the standard library are covered by specifications (for example, the Web Server Gateway Interface (WSGI) implementation wsgiref follows PEP ), but most modules are not. They are specified by their code, internal documentation, and test suites. However, because most of the standard library is crossplatform Python code, only a few modules need altering or rewriting for variant implementations.\n",
            "As of September , the Python Package Index (PyPI), the official repository for thirdparty Python software, contains over , packages with a wide range of functionality, including:\n",
            "Automation\n",
            "Data analytics\n",
            "Databases\n",
            "Documentation\n",
            "Graphical user interfaces\n",
            "Image processing\n",
            "Machine learning\n",
            "Mobile App\n",
            "Multimedia\n",
            "Computer networking\n",
            "Scientific computing\n",
            "System administration\n",
            "Test frameworks\n",
            "Text processing\n",
            "Web frameworks\n",
            "Web scraping\n",
            "Development environments\n",
            "See also: Comparison of integrated development environments  Python\n",
            "Most Python implementations (including CPython) include a read–eval–print loop (REPL), permitting them to function as a command line interpreter for which the user enters statements sequentially and receives results immediately.\n",
            "Other shells, including IDLE and IPython, add further abilities such as improved autocompletion, session state retention and syntax highlighting.\n",
            "As well as standard desktop integrated development environments, there are Web browserbased IDEs; SageMath (intended for developing science and mathrelated Python programs); PythonAnywhere, a browserbased IDE and hosting environment; and Canopy IDE, a commercial Python IDE emphasizing scientific computing.\n",
            "\n",
            "Implementations\n",
            "See also: List of Python software  Python implementations\n",
            "Reference implementation\n",
            "CPython is the reference implementation of Python. It is written in C, meeting the C standard with several select C features (with later C versions out, it's considered outdated; CPython includes its own C extensions, but thirdparty extensions are not limited to older C versions, can e.g. be implemented with C or C++). It compiles Python programs into an intermediate bytecode which is then executed by its virtual machine. CPython is distributed with a large standard library written in a mixture of C and native Python. It is available for many platforms, including Windows (starting with Python ., the Python installer deliberately fails to install on Windows  and ; Windows XP was supported until Python .) and most modern Unixlike systems, including macOS (and Apple M Macs, since Python .., with experimental installer) and unofficial support for e.g. VMS. Platform portability was one of its earliest priorities, during the Python  and Python  timeframe, even OS/ and Solaris were supported; support has since been dropped for a lot of platforms.\n",
            "Other implementations\n",
            "PyPy is a fast, compliant interpreter of Python . and .. Its justintime compiler brings a significant speed improvement over CPython but several libraries written in C cannot be used with it.\n",
            "Stackless Python is a significant fork of CPython that implements microthreads; it does not use the call stack in the same way, thus allowing massively concurrent programs. PyPy also has a stackless version.\n",
            "MicroPython and CircuitPython are Python  variants optimized for microcontrollers, including Lego Mindstorms EV.\n",
            "Pyston is a variant of the Python runtime that uses justintime compilation to speed up the execution of Python programs.\n",
            "Cinder is a performanceoriented fork of CPython . that contains a number of optimizations including bytecode inline caching, eager evaluation of coroutines, a methodatatime JIT and an experimental bytecode compiler.\n",
            "Unsupported implementations\n",
            "Other justintime Python compilers have been developed, but are now unsupported:\n",
            "Google began a project named Unladen Swallow in , with the aim of speeding up the Python interpreter fivefold by using the LLVM, and of improving its multithreading ability to scale to thousands of cores, while ordinary implementations suffer from the global interpreter lock.\n",
            "Psyco is a discontinued justintime specializing compiler that integrates with CPython and transforms bytecode to machine code at runtime. The emitted code is specialized for certain data types and is faster than the standard Python code. Psyco does not support Python . or later.\n",
            "PyS was a Python  interpreter for Series  mobile phones released by Nokia in . It implemented many of the modules from the standard library and some additional modules for integrating with the Symbian operating system. The Nokia N also supports Python with GTK widget libraries, enabling programs to be written and run on the target device.\n",
            "Crosscompilers to other languages\n",
            "There are several compilers to highlevel object languages, with either unrestricted Python, a restricted subset of Python, or a language similar to Python as the source language:\n",
            "Cython compiles (a superset of) Python . to C (while the resulting code is also usable with Python  and also e.g. C++).\n",
            "Nuitka compiles Python into C++.\n",
            "Pythran compiles a subset of Python  to C++.\n",
            "Pyrex (latest release in ) and Shed Skin (latest release in ) compile to C and C++ respectively.\n",
            "Google's Grumpy (latest release in ) transpiles Python  to Go.\n",
            "IronPython (now abandoned by Microsoft) allows running Python . programs on the .NET Common Language Runtime.\n",
            "Jython compiles Python . to Java bytecode, allowing the use of the Java libraries from a Python program.\n",
            "MyHDL is a Pythonbased hardware description language (HDL), that converts MyHDL code to Verilog or VHDL code.\n",
            "Numba uses LLVM to compile a subset of Python to machine code.\n",
            "Brython, Transcrypt and Pyjs (latest release in ) compile Python to JavaScript.\n",
            "RPython can be compiled to C, and is used to build the PyPy interpreter of Python.\n",
            "Performance\n",
            "A performance comparison of various Python implementations on a nonnumerical (combinatorial) workload was presented at EuroSciPy '. Python's performance compared to other programming languages is also benchmarked by The Computer Language Benchmarks Game.\n",
            "Development\n",
            "Python's development is conducted largely through the Python Enhancement Proposal (PEP) process, the primary mechanism for proposing major new features, collecting community input on issues and documenting Python design decisions. Python coding style is covered in PEP . Outstanding PEPs are reviewed and commented on by the Python community and the steering council.\n",
            "Enhancement of the language corresponds with development of the CPython reference implementation. The mailing list pythondev is the primary forum for the language's development. Specific issues are discussed in the Roundup bug tracker hosted at bugs.python.org. Development originally took place on a selfhosted sourcecode repository running Mercurial, until Python moved to GitHub in January .\n",
            "CPython's public releases come in three types, distinguished by which part of the version number is incremented:\n",
            "Backwardincompatible versions, where code is expected to break and needs to be manually ported. The first part of the version number is incremented. These releases happen infrequently—version . was released  years after ..\n",
            "Major or feature releases, occurred about every  months but with the adoption of a yearly release cadence starting with Python . are expected to happen once a year. They are largely compatible but introduce new features. The second part of the version number is incremented. Each major version is supported by bugfixes for several years after its release.\n",
            "Bugfix releases, which introduce no new features, occur about every  months and are made when a sufficient number of bugs have been fixed upstream since the last release. Security vulnerabilities are also patched in these releases. The third and final part of the version number is incremented.\n",
            "Many alpha, beta, and releasecandidates are also released as previews and for testing before final releases. Although there is a rough schedule for each release, they are often delayed if the code is not ready. Python's development team monitors the state of the code by running the large unit test suite during development.\n",
            "The major academic conference on Python is PyCon. There are also special Python mentoring programmes, such as Pyladies.\n",
            "Python . deprecates wstr (to be removed in Python .; meaning Python extensions need to be modified by then), and also plans to add pattern matching to the language.\n",
            "API documentation generators\n",
            "Tools that can generate documentation for Python API include pydoc (available as part of standard library), Sphinx, Pdoc and its forks, Doxygen and Graphviz, among others.\n",
            "Naming\n",
            "Python's name is derived from the British comedy group Monty Python, whom Python creator Guido van Rossum enjoyed while developing the language. Monty Python references appear frequently in Python code and culture; for example, the metasyntactic variables often used in Python literature are spam and eggs instead of the traditional foo and bar. The official Python documentation also contains various references to Monty Python routines.\n",
            "The prefix Py is used to show that something is related to Python. Examples of the use of this prefix in names of Python applications or libraries include Pygame, a binding of SDL to Python (commonly used to create games); PyQt and PyGTK, which bind Qt and GTK to Python respectively; and PyPy, a Python implementation originally written in Python.\n",
            "Popularity\n",
            "Since , Python has consistently ranked in the top ten most popular programming languages in the TIOBE Programming Community Index where, as of February , it is the third most popular language (behind Java, and C). It was selected Programming Language of the Year (for the highest rise in ratings in a year) in , , , and  (the only language to do so four times).\n",
            "An empirical study found that scripting languages, such as Python, are more productive than conventional languages, such as C and Java, for programming problems involving string manipulation and search in a dictionary, and determined that memory consumption was often better than Java and not much worse than C or C++.\n",
            "Large organizations that use Python include Wikipedia, Google, Yahoo!, CERN, NASA, Facebook, Amazon, Instagram, Spotify and some smaller entities like ILM and ITA. The social news networking site Reddit was written mostly in Python.\n",
            "\n",
            "stackoverflow blog stackoverflow blog stackoverflow blog\n",
            "Here's a collection of resources on how to get started using Python.\n",
            "Getting started with… Python\n",
            "In this series, we look at the most loved languages according to the Stack Overflow developer survey, examine the spread and use cases for each of them, and collect some essential links on how to get started using the language. Up now, # on our list: Python.\n",
            "Python is consistently featured amongst the top most loved languages in our Developer Survey. In , .% of respondents said they want to keep working with Python. Conceived in the late s, it’s one of the older languages on our list, coming just below newcomers Rust () and TypeScript ()—evidence that original designer Guido van Rossum got a lot right.\n",
            "Python’s quirky name—in honor of the cult comedy show, Monty Python—belies the fact that this is a hugely expressive language. While it’s not primarily used for performanceintensive programming, it’s often highly efficient to write, and programs tend to be clear and readable. This makes it ideally suited for applications like data science and web development, and it’s used in a wide range of fields, from healthcare and finance to VFX and AI.\n",
            "Some  regard it as an ideal language for beginners: many terms are expressed using English words rather than symbols, its strict rules about whitespace mean all programs are visually consistent, and code written in Python is often more concise than the equivalent in other languages.\n",
            "History of use\n",
            "Trending tags on Stackoverflow.com\n",
            "Although Python has been around since the . release in , its usage has ballooned in recent years. Indeed, as our former data scientist David Robinson noted, since , it has risen above the five other major languages (C++, PHP, Java, JavaScript and C#) in usage as estimated by the number of Stack Overflow question views per month. TIOBE’s  index ranks Python as third in popularity at .%, rapidly gaining on C and Java (.% and .% respectively). Today,  % of developers and technologists around the world are using Python.\n",
            "Until recently the language design and development was lead by a single person—Dutch computer scientist Guido van Rossum, who stepped down as Python’s Benevolent Dictator For Life in  but has remained an active contributor to this day.\n",
            "Who is using it?\n",
            "Python is more or less ubiquitous—it would be faster to list industries that don’t use it in some form. While it’s not the language of choice for consumer applications like D games or mobile apps, even companies developing these applications frequently use Python for tools and utilities. It is also commonly embedded into software products for automation and scripting purposes—for example, in the VFX field, nearly all of the major software packages (Maya, Ds Max, Houdini, Cinema D, Blender, and Nuke) have embedded Python interpreters, allowing users to add functionality or automate tasks. It’s used more or less everywhere on Earth and, well, even on Mars.\n",
            "In fact, if you’re reading this on a Mac, you already have Python installed on your computer—just go to Terminal, type ‘python’, and away you go…\n",
            "Who is it for?\n",
            "Students\n",
            "The use of short English keywords instead of symbols makes Python particularly friendly for beginners. See the example below.\n",
            "Additionally, Python handles a lot of memory management automatically, so you’ll spend less time dealing with pointers and references and so on than in a language like C++.\n",
            "It comes bundled with a free IDE (integrated development environment), IDLE, so you can get started quickly. In case you’re wondering, yes, IDLE is a reference to Monty Python’s Eric Idle—if you use Python you’re going to be bombarded with references to vintage British comedy.\n",
            "Developers who prioritize ease of programming over execution speed\n",
            "While Python typically runs slower than other common languages like C++ or Java, it’s often much quicker to write—indeed, some estimates suggest a typical program in Python is three to five times shorter than its Java equivalent and five to ten times shorter than the C++ version.\n",
            "This is one of the reasons it’s often used as a support language—software developers rely on it for tasks like build control, automated testing, and bug tracking. For the same reason, it’s also used for prototyping—code can be hacked together quickly to test ideas, before perhaps rewriting in a more performant language.\n",
            "Developers working with text or numbers\n",
            "Python’s powerful String and List manipulation functions make it a great choice for anyone working with text or numbers. And it’s a great tool for exploring data.\n",
            "The fact that it doesn’t need compiling means you can rapidly iterate on a program, and, by running Python interactively, you can intuitively manipulate data stepbystep, examining it at each stage.\n",
            "Python’s core functionality can be extended with a huge arsenal of ‘packages’, many of which are widely used by the scientific and academic communities, as well as fintech and engineering. These include the venerable NumPy (mathematical functions and data analysis), SciPy (for science), Matplotlib (data visualization) and Pandas (data analysis), and more recently TensorFlow and Keras (Machine Learning/AI), as well as tens of thousands of others.\n",
            "Web developers\n",
            "Another key area of Python use is backend development. It has builtin support for common protocols like HTML, XML, and JSON, and frameworks like Django, Flask, and Bottle are used widely—for example, Reddit’s backend is Python. Python powers advanced content management, email automation, and more.\n",
            "Why you shouldn’t learn it\n",
            "There’s a lot to like about Python, but it’s not always the perfect tool for the job.\n",
            "Perhaps most importantly, Python is an interpreted language, as opposed to a compiled language like C++. While that means there’s no sitting around waiting for your code to compile, it also means the computer has to do extra work every time the program runs, inherently limiting performance. So you’re probably not going to be writing the next blockbuster FPS firstperson shooter in Python, but it’s perfect for situations like data manipulation where you’re likely to spend more time writing the program than running it.\n",
            "Additionally, Python’s somewhat unusual syntax means that—if it’s your first language—not all of the knowledge you gain will be transferable to other languages, although many of the underlying concepts are identical. For example, the reduced reliance on brackets and braces, the use of English words instead of symbols, and the enforced usage of whitespace mean that a program in Python may be visually structured in a very different way to the equivalent code in Java or C++.\n",
            "However, these downsides are often a small price to pay for the many benefits, as evidenced by its ubiquity.\n",
            "Key concepts\n",
            "The core philosophies are summarized—in Pythonic fashion—in The Zen Of Python. These include:\n",
            "Readability counts\n",
            "Simple is better than complex\n",
            "There should be one—and preferably only one—obvious way to do it\n",
            "In case you were wondering, The Zen Of Python is available in catchy musical form here.\n",
            "Resources\n",
            "Official\n",
            "The official tutorial is a quick primer on all the basics, perfect for getting up and running quickly.\n",
            "The Python language reference provides full documentation in a nononsense manner that is terse, but attempts to be exact and complete.\n",
            "Following the official PEP Style Guide will make your code more readable to other programmers, including the most crucial audience of all—your future self.\n",
            "The official site also offers an enormous wealth of information, tutorials, and also features curated content in dozens of languages.\n",
            "Entrylevel\n",
            "LearnPython.org offers a quick, wellthoughtout series of basic lessons, and provides a friendly browserbased Python interface to experiment with.\n",
            "Code The Blocks provides an engaging series of beginner exercises, using a browserbased Python interpreter to manipulate a D scene.\n",
            "FreeCodeCamp.org offers a free video course that will take you from novice to intermediate in four hours.\n",
            "The classic How to Think Like a Computer Scientist is available in a Python  edition that will get you up to speed on Python syntax while providing insights that will be valuable in any language.\n",
            "While not Pythonexclusive, Project Euler offers a set of challenges that are perfect for flexing your newfound Python muscles. The site is a sequence of over  mathematical puzzles, to which the answer is always a single integer, and the problems range from the trivial to the extremely difficult. You can of course find hints and tips on Stack Overflow—no cheating though!\n",
            "Project Rosalind offers a similarly structured set of problems—this time from the field of Bioinformatics—that function as both an introduction to Python and molecular biology.\n",
            "Advanced\n",
            " \n",
            "     \n",
            "The Hitchhiker’s Guide to Python! A handson guide for prob\n",
            "Moving To Python From Other Languages offers a quick guide to Python concepts and gotchas.\n",
            "Rafe Kettler’s A Guide to Python’s Magic Methods offers a detailed explanation of Magic Methods—the Pythonspecific builtin functions like `init()` that you may have been using without even thinking about\n",
            "Python is generally considered to be simple to learn if you already understand the general concepts of programming… although Learn Python in  Minutes is a pretty bold claim!\n",
            "Other resources\n",
            "If you didn’t have time for the  minutes one, how about Learn Python in  Minutes? It actually runs over by a minute or so, but it’s still a pretty impressive speedrun of the basics.\n",
            "\n",
            "\n",
            " million dollars, in  and in  \n"
          ]
        }
      ]
    },
    {
      "cell_type": "code",
      "source": [
        "!pip install git+https://github.com/boudinfl/pke.git"
      ],
      "metadata": {
        "colab": {
          "base_uri": "https://localhost:8080/"
        },
        "id": "pVPrRB7Y0Y24",
        "outputId": "103be0ec-4e9b-46e9-86a9-b17ef9fdca05"
      },
      "execution_count": null,
      "outputs": [
        {
          "output_type": "stream",
          "name": "stdout",
          "text": [
            "Looking in indexes: https://pypi.org/simple, https://us-python.pkg.dev/colab-wheels/public/simple/\n",
            "Collecting git+https://github.com/boudinfl/pke.git\n",
            "  Cloning https://github.com/boudinfl/pke.git to /tmp/pip-req-build-hyhazk8w\n",
            "  Running command git clone -q https://github.com/boudinfl/pke.git /tmp/pip-req-build-hyhazk8w\n",
            "Requirement already satisfied: nltk in /usr/local/lib/python3.7/dist-packages (from pke==2.0.0) (3.7)\n",
            "Requirement already satisfied: networkx in /usr/local/lib/python3.7/dist-packages (from pke==2.0.0) (2.6.3)\n",
            "Requirement already satisfied: numpy in /usr/local/lib/python3.7/dist-packages (from pke==2.0.0) (1.21.6)\n",
            "Requirement already satisfied: scipy in /usr/local/lib/python3.7/dist-packages (from pke==2.0.0) (1.7.3)\n",
            "Collecting sklearn\n",
            "  Downloading sklearn-0.0.tar.gz (1.1 kB)\n",
            "Collecting unidecode\n",
            "  Downloading Unidecode-1.3.4-py3-none-any.whl (235 kB)\n",
            "\u001b[K     |████████████████████████████████| 235 kB 4.0 MB/s \n",
            "\u001b[?25hRequirement already satisfied: future in /usr/local/lib/python3.7/dist-packages (from pke==2.0.0) (0.16.0)\n",
            "Requirement already satisfied: joblib in /usr/local/lib/python3.7/dist-packages (from pke==2.0.0) (1.1.0)\n",
            "Requirement already satisfied: spacy>=3.2.3 in /usr/local/lib/python3.7/dist-packages (from pke==2.0.0) (3.4.1)\n",
            "Requirement already satisfied: jinja2 in /usr/local/lib/python3.7/dist-packages (from spacy>=3.2.3->pke==2.0.0) (2.11.3)\n",
            "Requirement already satisfied: typing-extensions<4.2.0,>=3.7.4 in /usr/local/lib/python3.7/dist-packages (from spacy>=3.2.3->pke==2.0.0) (4.1.1)\n",
            "Requirement already satisfied: preshed<3.1.0,>=3.0.2 in /usr/local/lib/python3.7/dist-packages (from spacy>=3.2.3->pke==2.0.0) (3.0.7)\n",
            "Requirement already satisfied: catalogue<2.1.0,>=2.0.6 in /usr/local/lib/python3.7/dist-packages (from spacy>=3.2.3->pke==2.0.0) (2.0.8)\n",
            "Requirement already satisfied: wasabi<1.1.0,>=0.9.1 in /usr/local/lib/python3.7/dist-packages (from spacy>=3.2.3->pke==2.0.0) (0.10.1)\n",
            "Requirement already satisfied: srsly<3.0.0,>=2.4.3 in /usr/local/lib/python3.7/dist-packages (from spacy>=3.2.3->pke==2.0.0) (2.4.4)\n",
            "Requirement already satisfied: tqdm<5.0.0,>=4.38.0 in /usr/local/lib/python3.7/dist-packages (from spacy>=3.2.3->pke==2.0.0) (4.64.1)\n",
            "Requirement already satisfied: pydantic!=1.8,!=1.8.1,<1.10.0,>=1.7.4 in /usr/local/lib/python3.7/dist-packages (from spacy>=3.2.3->pke==2.0.0) (1.9.2)\n",
            "Requirement already satisfied: spacy-legacy<3.1.0,>=3.0.9 in /usr/local/lib/python3.7/dist-packages (from spacy>=3.2.3->pke==2.0.0) (3.0.10)\n",
            "Requirement already satisfied: thinc<8.2.0,>=8.1.0 in /usr/local/lib/python3.7/dist-packages (from spacy>=3.2.3->pke==2.0.0) (8.1.0)\n",
            "Requirement already satisfied: spacy-loggers<2.0.0,>=1.0.0 in /usr/local/lib/python3.7/dist-packages (from spacy>=3.2.3->pke==2.0.0) (1.0.3)\n",
            "Requirement already satisfied: cymem<2.1.0,>=2.0.2 in /usr/local/lib/python3.7/dist-packages (from spacy>=3.2.3->pke==2.0.0) (2.0.6)\n",
            "Requirement already satisfied: typer<0.5.0,>=0.3.0 in /usr/local/lib/python3.7/dist-packages (from spacy>=3.2.3->pke==2.0.0) (0.4.2)\n",
            "Requirement already satisfied: langcodes<4.0.0,>=3.2.0 in /usr/local/lib/python3.7/dist-packages (from spacy>=3.2.3->pke==2.0.0) (3.3.0)\n",
            "Requirement already satisfied: packaging>=20.0 in /usr/local/lib/python3.7/dist-packages (from spacy>=3.2.3->pke==2.0.0) (21.3)\n",
            "Requirement already satisfied: murmurhash<1.1.0,>=0.28.0 in /usr/local/lib/python3.7/dist-packages (from spacy>=3.2.3->pke==2.0.0) (1.0.8)\n",
            "Requirement already satisfied: pathy>=0.3.5 in /usr/local/lib/python3.7/dist-packages (from spacy>=3.2.3->pke==2.0.0) (0.6.2)\n",
            "Requirement already satisfied: setuptools in /usr/local/lib/python3.7/dist-packages (from spacy>=3.2.3->pke==2.0.0) (57.4.0)\n",
            "Requirement already satisfied: requests<3.0.0,>=2.13.0 in /usr/local/lib/python3.7/dist-packages (from spacy>=3.2.3->pke==2.0.0) (2.23.0)\n",
            "Requirement already satisfied: zipp>=0.5 in /usr/local/lib/python3.7/dist-packages (from catalogue<2.1.0,>=2.0.6->spacy>=3.2.3->pke==2.0.0) (3.8.1)\n",
            "Requirement already satisfied: pyparsing!=3.0.5,>=2.0.2 in /usr/local/lib/python3.7/dist-packages (from packaging>=20.0->spacy>=3.2.3->pke==2.0.0) (3.0.9)\n",
            "Requirement already satisfied: smart-open<6.0.0,>=5.2.1 in /usr/local/lib/python3.7/dist-packages (from pathy>=0.3.5->spacy>=3.2.3->pke==2.0.0) (5.2.1)\n",
            "Requirement already satisfied: urllib3!=1.25.0,!=1.25.1,<1.26,>=1.21.1 in /usr/local/lib/python3.7/dist-packages (from requests<3.0.0,>=2.13.0->spacy>=3.2.3->pke==2.0.0) (1.24.3)\n",
            "Requirement already satisfied: certifi>=2017.4.17 in /usr/local/lib/python3.7/dist-packages (from requests<3.0.0,>=2.13.0->spacy>=3.2.3->pke==2.0.0) (2022.6.15)\n",
            "Requirement already satisfied: chardet<4,>=3.0.2 in /usr/local/lib/python3.7/dist-packages (from requests<3.0.0,>=2.13.0->spacy>=3.2.3->pke==2.0.0) (3.0.4)\n",
            "Requirement already satisfied: idna<3,>=2.5 in /usr/local/lib/python3.7/dist-packages (from requests<3.0.0,>=2.13.0->spacy>=3.2.3->pke==2.0.0) (2.10)\n",
            "Requirement already satisfied: blis<0.8.0,>=0.7.8 in /usr/local/lib/python3.7/dist-packages (from thinc<8.2.0,>=8.1.0->spacy>=3.2.3->pke==2.0.0) (0.7.8)\n",
            "Requirement already satisfied: click<9.0.0,>=7.1.1 in /usr/local/lib/python3.7/dist-packages (from typer<0.5.0,>=0.3.0->spacy>=3.2.3->pke==2.0.0) (7.1.2)\n",
            "Requirement already satisfied: MarkupSafe>=0.23 in /usr/local/lib/python3.7/dist-packages (from jinja2->spacy>=3.2.3->pke==2.0.0) (2.0.1)\n",
            "Requirement already satisfied: regex>=2021.8.3 in /usr/local/lib/python3.7/dist-packages (from nltk->pke==2.0.0) (2022.6.2)\n",
            "Requirement already satisfied: scikit-learn in /usr/local/lib/python3.7/dist-packages (from sklearn->pke==2.0.0) (1.0.2)\n",
            "Requirement already satisfied: threadpoolctl>=2.0.0 in /usr/local/lib/python3.7/dist-packages (from scikit-learn->sklearn->pke==2.0.0) (3.1.0)\n",
            "Building wheels for collected packages: pke, sklearn\n",
            "  Building wheel for pke (setup.py) ... \u001b[?25l\u001b[?25hdone\n",
            "  Created wheel for pke: filename=pke-2.0.0-py3-none-any.whl size=6160276 sha256=29dad680f6a2802ffbc4a5a6a981a7ba07503e8eea80edc13cab2685b8c9ab67\n",
            "  Stored in directory: /tmp/pip-ephem-wheel-cache-3ucofgxk/wheels/fa/b3/09/612ee93bf3ee4164bcd5783e742942cdfc892a86039d3e0a33\n",
            "  Building wheel for sklearn (setup.py) ... \u001b[?25l\u001b[?25hdone\n",
            "  Created wheel for sklearn: filename=sklearn-0.0-py2.py3-none-any.whl size=1310 sha256=0f2663d1d1b1eaa25e320b4ce4b22bd8ffea2b1a64a5d72261ce663bde303c11\n",
            "  Stored in directory: /root/.cache/pip/wheels/46/ef/c3/157e41f5ee1372d1be90b09f74f82b10e391eaacca8f22d33e\n",
            "Successfully built pke sklearn\n",
            "Installing collected packages: unidecode, sklearn, pke\n",
            "Successfully installed pke-2.0.0 sklearn-0.0 unidecode-1.3.4\n"
          ]
        }
      ]
    },
    {
      "cell_type": "code",
      "source": [
        "import pke\n",
        "import re"
      ],
      "metadata": {
        "id": "YSs7kUGB0hVf"
      },
      "execution_count": null,
      "outputs": []
    },
    {
      "cell_type": "code",
      "source": [
        "def clean_data(data):\n",
        "    data = re.sub(r\"[0-9]\", \"\", data)#remove numercal values\n",
        "    data = re.sub('[[]]', '', data)#remove brackets\n",
        "    data = re.sub(r'[=ÿþ§_-]', '', data)#remove special characters\n",
        "    data = re.sub(r'[أ-ي]', '', data)#remove arabic characters\n",
        "    data = re.sub(r\"\\S*@\\S*\\s?\", \"\", data)#remove emails\n",
        "    data = re.sub(r'[“\"”$]', '', data)#remove double quotes\n",
        "    data =  re.sub('n\\'t', ' not', data)\n",
        "    data = re.sub(r'’\\'', '', data)#remove single quotes\n",
        "    \n",
        "    return data"
      ],
      "metadata": {
        "id": "_7Maa3F4CxpK"
      },
      "execution_count": null,
      "outputs": []
    },
    {
      "cell_type": "code",
      "source": [
        "def extractorRes(extractor, text):\n",
        "  \n",
        "  extractor.load_document(input= text, language='en')#clean_data(text)\n",
        "\n",
        "  # keyphrase candidate selection, in the case of TopicRank: sequences of nouns\n",
        "  # and adjectives (i.e. `(Noun|Adj)*`)\n",
        "  extractor.candidate_selection()\n",
        "\n",
        "  # candidate weighting, in the case of TopicRank: using a random walk algorithm\n",
        "  extractor.candidate_weighting()\n",
        "\n",
        "  # N-best selection, keyphrases contains the 10 highest scored candidates as\n",
        "  # (keyphrase, score) tuples\n",
        "  keyphrases = extractor.get_n_best(n=10)\n",
        "\n",
        "  return keyphrases"
      ],
      "metadata": {
        "id": "iycIrpX42ML0"
      },
      "execution_count": null,
      "outputs": []
    },
    {
      "cell_type": "markdown",
      "source": [
        "statistical models\n"
      ],
      "metadata": {
        "id": "TaGG9DAB5tfJ"
      }
    },
    {
      "cell_type": "code",
      "source": [
        "extractorRes(pke.unsupervised.TfIdf(), txt)"
      ],
      "metadata": {
        "colab": {
          "base_uri": "https://localhost:8080/"
        },
        "id": "GbaX6UV83apQ",
        "outputId": "b864c204-5921-4a4f-b7b7-183236400fca"
      },
      "execution_count": null,
      "outputs": [
        {
          "output_type": "stream",
          "name": "stderr",
          "text": [
            "WARNING:root:LoadFile._df_counts is hard coded to /usr/local/lib/python3.7/dist-packages/pke/models/df-semeval2010.tsv.gz\n"
          ]
        },
        {
          "output_type": "execute_result",
          "data": {
            "text/plain": [
              "[('python', 1286.837715537569),\n",
              " ('language', 101.63920448162149),\n",
              " ('cpython', 86.15890908017921),\n",
              " ('released', 82.67763634038829),\n",
              " ('compiler', 74.40954942755275),\n",
              " ('code', 73.82253863051885),\n",
              " ('statements', 72.7365918210053),\n",
              " ('standard library', 71.79909090014934),\n",
              " ('division', 64.9413712240565),\n",
              " ('programming', 63.566035992001574)]"
            ]
          },
          "metadata": {},
          "execution_count": 7
        }
      ]
    },
    {
      "cell_type": "code",
      "source": [
        "extractorRes(pke.unsupervised.YAKE(), txt)"
      ],
      "metadata": {
        "colab": {
          "base_uri": "https://localhost:8080/"
        },
        "id": "jAUzDQ5p4wYy",
        "outputId": "1df3d09a-8fb3-4c3c-e537-53b77e64b316"
      },
      "execution_count": null,
      "outputs": [
        {
          "output_type": "execute_result",
          "data": {
            "text/plain": [
              "[('python', 0.00024525184539615275),\n",
              " ('monty python', 0.004844118803278265),\n",
              " ('python uses', 0.008570211606232826),\n",
              " ('use python', 0.008823705346314544),\n",
              " ('python code', 0.009546327412081803),\n",
              " ('language', 0.010270435334561715),\n",
              " ('python syntax', 0.01254784441619476),\n",
              " ('python implementations', 0.013569562365109247),\n",
              " ('python software', 0.0140692222579475),\n",
              " ('python community', 0.014120520468189778)]"
            ]
          },
          "metadata": {},
          "execution_count": 8
        }
      ]
    },
    {
      "cell_type": "markdown",
      "source": [
        "graph modles"
      ],
      "metadata": {
        "id": "9Zaqibli5UbF"
      }
    },
    {
      "cell_type": "code",
      "source": [
        "extractorRes(pke.unsupervised.TopicRank(), txt)"
      ],
      "metadata": {
        "colab": {
          "base_uri": "https://localhost:8080/"
        },
        "id": "38sQiO2O3j5i",
        "outputId": "85339cd8-0ecb-4300-8fd0-5b9cea6234b8"
      },
      "execution_count": null,
      "outputs": [
        {
          "output_type": "execute_result",
          "data": {
            "text/plain": [
              "[('python', 0.08589693764391655),\n",
              " ('programming language', 0.014715496504666),\n",
              " ('language', 0.014593888745875278),\n",
              " ('logical code', 0.01360460818413908),\n",
              " ('developers', 0.011448924166303978),\n",
              " ('statements', 0.011040225600219087),\n",
              " ('functional programming', 0.010214425959447495),\n",
              " ('expressions', 0.009253609405187673),\n",
              " ('dynamic typing', 0.008973392436322496),\n",
              " ('examples', 0.007819494328458123)]"
            ]
          },
          "metadata": {},
          "execution_count": 9
        }
      ]
    },
    {
      "cell_type": "code",
      "source": [
        "extractorRes(pke.unsupervised.PositionRank(), txt)"
      ],
      "metadata": {
        "colab": {
          "base_uri": "https://localhost:8080/"
        },
        "id": "smMySAw431nh",
        "outputId": "e7c1c58f-cca0-4135-8d10-0a994a451eb5"
      },
      "execution_count": null,
      "outputs": [
        {
          "output_type": "execute_result",
          "data": {
            "text/plain": [
              "[('python language reference', 0.1363236413538744),\n",
              " ('python programs', 0.12624978893484223),\n",
              " ('standard python code', 0.11383002463713407),\n",
              " ('python code', 0.10788113535093133),\n",
              " ('monty python references', 0.10377516278548003),\n",
              " ('most python implementations', 0.10163424386045776),\n",
              " ('python expressions', 0.10142812284867703),\n",
              " ('various python implementations', 0.10116982810033893),\n",
              " ('python design decisions', 0.10066130598919502),\n",
              " ('python implementations', 0.10010873520937279)]"
            ]
          },
          "metadata": {},
          "execution_count": 10
        }
      ]
    },
    {
      "cell_type": "code",
      "source": [
        "#from the previous models we can say that graph models are genrally better"
      ],
      "metadata": {
        "id": "cYz3CYFCab3N"
      },
      "execution_count": null,
      "outputs": []
    },
    {
      "cell_type": "code",
      "source": [
        "wiki_text = \"Peter I (9 June [O.S. 30 May] 1672 – 8 February [O.S. 28 January] 1725),[note 2] most commonly known as Peter the Great,[pron 1] was a monarch of Russia who modernised it and made it a European power. He ruled the Tsardom of Russia from 7 May [O.S. 27 April] 1682 to 1721 and subsequently the Russian Empire until his death in 1725, jointly ruling before 1696 with his elder half-brother, Ivan V. Through a number of successful wars, he captured ports at Azov and the Baltic Sea, laying the groundwork for the Imperial Russian Navy, ending uncontested Swedish supremacy in the Baltic and beginning the Tsardom's expansion into a much larger empire that became a major European power. He led a cultural revolution that replaced some of the traditionalist and medieval social and political systems with ones that were modern, scientific, Westernised and based on the Enlightenment.[1] Peter's reforms had a lasting impact on Russia, and many institutions of the Russian government trace their origins to his reign. He adopted the title of Emperor in place of the old title of Tsar in 1721, and founded and developed the city of Saint Petersburg, which remained the capital of Russia until 1918. However, the formation of local elites domestically was not his main priority, and the first Russian university—Saint Petersburg State University—was founded only a yer before his death, in 1724. The secod one, Moscow State University, was funded 30 years after his death, during the reign of his daughter Elizabeth. \""
      ],
      "metadata": {
        "id": "_kmtD43I6_o2"
      },
      "execution_count": null,
      "outputs": []
    },
    {
      "cell_type": "code",
      "source": [
        "clean_wiki_text = clean_data(wiki_text)\n",
        "clean_wiki_text"
      ],
      "metadata": {
        "colab": {
          "base_uri": "https://localhost:8080/",
          "height": 157
        },
        "id": "sMmeBcHtPst0",
        "outputId": "6ec61d40-b937-464e-fe59-ecf39c3a16dd"
      },
      "execution_count": null,
      "outputs": [
        {
          "output_type": "execute_result",
          "data": {
            "text/plain": [
              "\"Peter I ( June [O.S.  May]  –  February [O.S.  January] ),[note ] most commonly known as Peter the Great,[pron ] was a monarch of Russia who modernised it and made it a European power. He ruled the Tsardom of Russia from  May [O.S.  April]  to  and subsequently the Russian Empire until his death in , jointly ruling before  with his elder halfbrother, Ivan V. Through a number of successful wars, he captured ports at Azov and the Baltic Sea, laying the groundwork for the Imperial Russian Navy, ending uncontested Swedish supremacy in the Baltic and beginning the Tsardom's expansion into a much larger empire that became a major European power. He led a cultural revolution that replaced some of the traditionalist and medieval social and political systems with ones that were modern, scientific, Westernised and based on the Enlightenment. Peter's reforms had a lasting impact on Russia, and many institutions of the Russian government trace their origins to his reign. He adopted the title of Emperor in place of the old title of Tsar in , and founded and developed the city of Saint Petersburg, which remained the capital of Russia until . However, the formation of local elites domestically was not his main priority, and the first Russian university—Saint Petersburg State University—was founded only a yer before his death, in . The secod one, Moscow State University, was funded  years after his death, during the reign of his daughter Elizabeth. \""
            ],
            "application/vnd.google.colaboratory.intrinsic+json": {
              "type": "string"
            }
          },
          "metadata": {},
          "execution_count": 13
        }
      ]
    },
    {
      "cell_type": "code",
      "source": [
        "extractorRes(pke.unsupervised.TopicRank(), clean_wiki_text)"
      ],
      "metadata": {
        "colab": {
          "base_uri": "https://localhost:8080/"
        },
        "id": "BesJc8RH7D9k",
        "outputId": "521b1df9-874c-4c70-ebcb-f2679e375c77"
      },
      "execution_count": null,
      "outputs": [
        {
          "output_type": "execute_result",
          "data": {
            "text/plain": [
              "[('russia', 0.05553247780106621),\n",
              " ('peter', 0.03745173202707591),\n",
              " ('death', 0.036213407841023545),\n",
              " ('title', 0.03538135174328047),\n",
              " ('baltic sea', 0.03222694218913179),\n",
              " ('tsardom', 0.03072793486576343),\n",
              " ('reign', 0.028805325098813173),\n",
              " ('russian empire', 0.027726392456660934),\n",
              " ('european power', 0.02615877774235468),\n",
              " ('political systems', 0.022527693866361956)]"
            ]
          },
          "metadata": {},
          "execution_count": 14
        }
      ]
    },
    {
      "cell_type": "code",
      "source": [
        "extractorRes(pke.unsupervised.TfIdf(), clean_wiki_text)"
      ],
      "metadata": {
        "colab": {
          "base_uri": "https://localhost:8080/"
        },
        "id": "nWXMJHP3OlQu",
        "outputId": "34969635-3639-4f86-f514-c0486d78c499"
      },
      "execution_count": null,
      "outputs": [
        {
          "output_type": "stream",
          "name": "stderr",
          "text": [
            "WARNING:root:LoadFile._df_counts is hard coded to /usr/local/lib/python3.7/dist-packages/pke/models/df-semeval2010.tsv.gz\n"
          ]
        },
        {
          "output_type": "execute_result",
          "data": {
            "text/plain": [
              "[('russia', 28.719636360059738),\n",
              " ('russian', 28.719636360059738),\n",
              " ('peter', 18.539727270044803),\n",
              " ('death', 16.784839767881337),\n",
              " ('european power', 14.359818180029869),\n",
              " ('tsardom', 14.359818180029869),\n",
              " ('baltic', 14.359818180029869),\n",
              " ('reign', 14.359818180029869),\n",
              " ('petersburg', 14.359818180029869),\n",
              " ('european', 10.359818180029869)]"
            ]
          },
          "metadata": {},
          "execution_count": 15
        }
      ]
    },
    {
      "cell_type": "code",
      "source": [
        "#let's try our models on a full wikipedia article rather than a sample"
      ],
      "metadata": {
        "id": "-kt_1Ocja-H_"
      },
      "execution_count": null,
      "outputs": []
    },
    {
      "cell_type": "code",
      "source": [
        "!pip install wikipedia"
      ],
      "metadata": {
        "colab": {
          "base_uri": "https://localhost:8080/"
        },
        "id": "eJ2BVpdTELCM",
        "outputId": "a7bde1cf-20c8-4ee2-e9fb-70c808415917"
      },
      "execution_count": null,
      "outputs": [
        {
          "output_type": "stream",
          "name": "stdout",
          "text": [
            "Looking in indexes: https://pypi.org/simple, https://us-python.pkg.dev/colab-wheels/public/simple/\n",
            "Collecting wikipedia\n",
            "  Downloading wikipedia-1.4.0.tar.gz (27 kB)\n",
            "Requirement already satisfied: beautifulsoup4 in /usr/local/lib/python3.7/dist-packages (from wikipedia) (4.6.3)\n",
            "Requirement already satisfied: requests<3.0.0,>=2.0.0 in /usr/local/lib/python3.7/dist-packages (from wikipedia) (2.23.0)\n",
            "Requirement already satisfied: certifi>=2017.4.17 in /usr/local/lib/python3.7/dist-packages (from requests<3.0.0,>=2.0.0->wikipedia) (2022.6.15)\n",
            "Requirement already satisfied: urllib3!=1.25.0,!=1.25.1,<1.26,>=1.21.1 in /usr/local/lib/python3.7/dist-packages (from requests<3.0.0,>=2.0.0->wikipedia) (1.24.3)\n",
            "Requirement already satisfied: idna<3,>=2.5 in /usr/local/lib/python3.7/dist-packages (from requests<3.0.0,>=2.0.0->wikipedia) (2.10)\n",
            "Requirement already satisfied: chardet<4,>=3.0.2 in /usr/local/lib/python3.7/dist-packages (from requests<3.0.0,>=2.0.0->wikipedia) (3.0.4)\n",
            "Building wheels for collected packages: wikipedia\n",
            "  Building wheel for wikipedia (setup.py) ... \u001b[?25l\u001b[?25hdone\n",
            "  Created wheel for wikipedia: filename=wikipedia-1.4.0-py3-none-any.whl size=11695 sha256=0bc721c9197631376e80638b9df0274d62aff019196c800a727fa6b9d247e3e6\n",
            "  Stored in directory: /root/.cache/pip/wheels/15/93/6d/5b2c68b8a64c7a7a04947b4ed6d89fb557dcc6bc27d1d7f3ba\n",
            "Successfully built wikipedia\n",
            "Installing collected packages: wikipedia\n",
            "Successfully installed wikipedia-1.4.0\n"
          ]
        }
      ]
    },
    {
      "cell_type": "code",
      "source": [
        "# Import package\n",
        "import wikipedia# Specify the title of the Wikipedia page\n",
        "wiki = wikipedia.page('Peter the Great')# Extract the plain text content of the page  John D. Hunter\n",
        "text = wiki.content\n",
        "print(text)"
      ],
      "metadata": {
        "colab": {
          "base_uri": "https://localhost:8080/"
        },
        "id": "XUfiGPq1Eeqh",
        "outputId": "ff07c526-8e39-4fcf-c64f-defbc839ad24"
      },
      "execution_count": null,
      "outputs": [
        {
          "output_type": "stream",
          "name": "stdout",
          "text": [
            "Peter I (9 June [O.S. 30 May] 1672 – 8 February [O.S. 28 January] 1725), most commonly known as Peter the Great, was a monarch of Russia who modernised it and made it a European power. He ruled the Tsardom of Russia from 7 May [O.S. 27 April] 1682 to 1721 and subsequently the Russian Empire until his death in 1725, jointly ruling before 1696 with his elder half-brother, Ivan V. \n",
            "Through a number of successful wars, he captured ports at Azov and the Baltic Sea, laying the groundwork for the Imperial Russian Navy, ending uncontested Swedish supremacy in the Baltic and beginning the Tsardom's expansion into a much larger empire that became a major European power. He led a cultural revolution that replaced some of the traditionalist and medieval social and political systems with ones that were modern, scientific, Westernised and based on the Enlightenment. Peter's reforms had a lasting impact on Russia, and many institutions of the Russian government trace their origins to his reign. He adopted the title of Emperor in place of the old title of Tsar in 1721, and founded and developed the city of Saint Petersburg, which remained the capital of Russia until 1918.\n",
            "However, the formation of local elites domestically was not his main priority, and the first Russian university—Saint Petersburg State University—was founded only a year before his death, in 1724. The second one, Moscow State University, was founded 30 years after his death, during the reign of his daughter Elizabeth.\n",
            "\n",
            "\n",
            "== Title ==\n",
            "The imperial title of Peter the Great was the following:\n",
            "By the grace of God, the most excellent and great sovereign emperor Pyotr Alekseevich the ruler of all the Russias: of Moscow, of Kiev, of Vladimir, of Novgorod, Tsar of Kazan, Tsar of Astrakhan and Tsar of Siberia, sovereign of Pskov, great prince of Smolensk, of Tver, of Yugorsk, of Perm, of Vyatka, of Bulgaria and others, sovereign and great prince of the Novgorod Lower lands, of Chernigov, of Ryazan, of Rostov, of Yaroslavl, of Belozersk, of Udora, of Kondia and the sovereign of all the northern lands, and the sovereign of the Iverian lands, of the Kartlian and Georgian Kings, of the Kabardin lands, of the Circassian and Mountain princes and many other states and lands western and eastern here and there and the successor and sovereign and ruler.\n",
            "\n",
            "\n",
            "== Early life ==\n",
            "Peter was named after the apostle, and described as a newborn as \"with good health, his mother's black, vaguely Tatar eyes, and a tuft of auburn hair\". He was educated  from an early age by several tutors  commissioned by his father, Tsar Alexis of Russia, most notably Nikita Zotov, Patrick Gordon, and Paul Menesius. On 29 January 1676, Alexis died, leaving the sovereignty to Peter's elder half-brother, the weak and sickly Feodor III of Russia. Throughout this period, the government was largely run by Artamon Matveev, an enlightened friend of Alexis, the political head of the Naryshkin family and one of Peter's greatest childhood benefactors.\n",
            "This position changed when Feodor died in 1682. As Feodor did not leave any children, a dispute arose between the Miloslavsky family (Maria Miloslavskaya was the first wife of Alexis I) and Naryshkin family (Natalya Naryshkina was his second) over who should inherit the throne. Peter's other half-brother, Ivan V of Russia, was next in line, but was chronically ill and of infirm mind. Consequently, the Boyar Duma (a council of Russian nobles) chose the 10-year-old Peter to become Tsar, with his mother as regent.\n",
            "\n",
            "This arrangement was brought before the people of Moscow, as ancient tradition demanded, and was ratified. Sophia, one of Alexis' daughters from his first marriage, led a rebellion of the Streltsy (Russia's elite military corps) in April–May 1682. In the subsequent conflict, some of Peter's relatives and friends were murdered, including Matveev, and Peter witnessed some of these acts of political violence.The Streltsy made it possible for Sophia, the Miloslavskys (the clan of Ivan) and their allies to insist that Peter and Ivan be proclaimed joint Tsars, with Ivan being acclaimed as the senior. Sophia then acted as regent during the minority of the sovereigns and exercised all power. For seven years, she ruled as an autocrat. A large hole was cut in the back of the dual-seated throne used by Ivan and Peter. Sophia would sit behind the throne and listen as Peter conversed with nobles, while feeding him information and giving him responses to questions and problems. This throne can be seen in the Kremlin Armoury in Moscow.\n",
            "Peter was not particularly concerned that others ruled in his name. He engaged in such pastimes as shipbuilding and sailing, as well as mock battles with his toy army. Peter's mother sought to force him to adopt a more conventional approach and arranged his marriage to Eudoxia Lopukhina in 1689. The marriage was a failure, and ten years later Peter forced his wife to become a nun and thus freed himself from the union.\n",
            "By the summer of 1689, Peter, then age 17, planned to take power from his half-sister Sophia, whose position had been weakened by two unsuccessful Crimean campaigns against the Crimean Khanate in an attempt to stop devastating Crimean Tatar raids into Russia's southern lands. When she learned of his designs, Sophia conspired with some leaders of the Streltsy, who continually aroused disorder and dissent. Peter, warned by others from the Streltsy, escaped in the middle of the night to the impenetrable monastery of Troitse-Sergiyeva Lavra; there he slowly gathered adherents who perceived he would win the power struggle. Sophia was eventually overthrown, with Peter I and Ivan V continuing to act as co-tsars. Peter forced Sophia to enter a convent, where she gave up her name and her position as a member of the royal family.\n",
            "\n",
            "Still, Peter could not acquire actual control over Russian affairs. Power was instead exercised by his mother, Natalya Naryshkina. It was only when Natalya died in 1694 that Peter, then aged 22, became an independent sovereign. Formally, Ivan V was a co-ruler with Peter, though being ineffective. Peter became the sole ruler when Ivan died in 1696 without male offspring, two years later.\n",
            "Peter grew to be extremely tall as an adult, especially for the time period, reportedly standing 6 ft 8 in (2.03 m). Peter, however, lacked the overall proportional heft and bulk generally found in a man that size. Both his hands and feet were small, and his shoulders were narrow for his height; likewise, his head was small for his tall body. Added to this were Peter's noticeable facial tics, and he may have suffered from petit mal seizures, a form of epilepsy.During his youth, Peter befriended Patrick Gordon, Franz Lefort and several other foreigners in Russian service and was a frequent guest in Moscow's German Quarter, where he met his Dutch mistress Anna Mons.\n",
            "\n",
            "\n",
            "== Reign ==\n",
            "\n",
            "Peter implemented sweeping reforms aimed at modernizing Russia. Heavily influenced by his advisors from Western Europe, Peter reorganized the Russian army along modern lines and dreamed of making Russia a maritime power. He faced much opposition to these policies at home but brutally suppressed rebellions against his authority, including by the Streltsy, Bashkirs, Astrakhan, and the greatest civil uprising of his reign, the Bulavin Rebellion.\n",
            "Peter implemented social modernization in an absolute manner by introducing French and western dress to his court and requiring courtiers, state officials, and the military to shave their beards and adopt modern clothing styles. One means of achieving this end was the introduction of taxes for long beards and robes in September 1698.In his process to westernize Russia, he wanted members of his family to marry other European royalty. In the past, his ancestors had been snubbed at the idea, but now, it was proving fruitful. He negotiated with Frederick William, Duke of Courland to marry his niece, Anna Ivanovna. He used the wedding in order to launch his new capital, St Petersburg, where he had already ordered building projects of westernized palaces and buildings. Peter hired Italian and German architects to design it.As part of his reforms, Peter started an industrialization effort that was slow but eventually successful. Russian manufacturing and main exports were based on the mining and lumber industries. For example, by the end of the century Russia came to export more iron than any other country in the world.To improve his nation's position on the seas, Peter sought more maritime outlets. His only outlet at the time was the White Sea at Arkhangelsk. The Baltic Sea was at the time controlled by Sweden in the north, while the Black Sea and the Caspian Sea were controlled by the Ottoman Empire and Safavid Empire respectively in the south.\n",
            "Peter attempted to acquire control of the Black Sea, which would require expelling the Tatars from the surrounding areas. As part of an agreement with Poland that ceded Kiev to Russia, Peter was forced to wage war against the Crimean Khan and against the Khan's overlord, the Ottoman Sultan. Peter's primary objective became the capture of the Ottoman fortress of Azov, near the Don River. In the summer of 1695 Peter organized the Azov campaigns to take the fortress, but his attempts ended in failure.\n",
            "Peter returned to Moscow in November 1695 and began building a large navy. He launched about thirty ships against the Ottomans in 1696, capturing Azov in July of that year. On 12 September 1698, Peter officially founded the first Russian Navy base, Taganrog on the Sea of Azov.\n",
            "\n",
            "\n",
            "=== Grand Embassy ===\n",
            "\n",
            "Peter knew that Russia could not face the Ottoman Empire alone. In 1697, he traveled \"incognito\" to Western Europe on an 18-month journey with a large Russian delegation–the so-called \"Grand Embassy\". He used a fake name, allowing him to escape social and diplomatic events, but since he was far taller than most others, he did not fool anyone of importance. One goal was to seek the aid of European monarchs, but Peter's hopes were dashed. France was a traditional ally of the Ottoman Sultan, and Austria was eager to maintain peace in the east while conducting its own wars in the west. Peter, furthermore, had chosen an inopportune moment: the Europeans at the time were more concerned about the War of Spanish Succession over who would succeed the childless King Charles II of Spain than about fighting the Ottoman Sultan.The \"Grand Embassy\" continued nevertheless. While visiting the Netherlands, Peter learned much about life in Western Europe. He studied shipbuilding  in Zaandam (the house he lived in is now a museum, the Czar Peter House) and Amsterdam, where he visited, among others, the upper-class De Wilde family. Jacob de Wilde, a collector-general with the Admiralty of Amsterdam, had a well-known collection of art and coins, and De Wilde's daughter Maria de Wilde made an engraving of the meeting between Peter and her father, providing visual evidence of \"the beginning of the West European classical tradition in Russia\". According to Roger Tavernier, Peter the Great later acquired De Wilde's collection.Thanks to the mediation of Nicolaes Witsen, mayor of Amsterdam and an expert on Russia, the Tsar was given the opportunity to gain practical experience in the largest shipyard in the world, belonging to the Dutch East India Company, for a period of four months. The Tsar helped with the construction of an East Indiaman ship specially laid down for him: Peter and Paul. During his stay the Tsar engaged many skilled workers such as builders of locks, fortresses, shipwrights, and seamen—including Cornelis Cruys, a vice-admiral who became, under Franz Lefort, the Tsar's advisor in maritime affairs. Peter later put his knowledge of shipbuilding to use in helping build Russia's navy. Peter paid a visit to surgeon Frederik Ruysch, who taught him how to draw teeth and catch butterflies, and to Ludolf Bakhuysen, a painter of seascapes. Jan van der Heyden, the inventor of the fire hose, received Peter, who was keen to learn and pass on his knowledge to his countrymen. On 16 January 1698 Peter organized a farewell party and invited Johan Huydecoper van Maarsseveen, who had to sit between Lefort and the Tsar and drink.\n",
            "\n",
            "In England, Peter met with King William III, visited Greenwich and Oxford, posed for Sir Godfrey Kneller, and saw a Royal Navy Fleet Review at Deptford. He studied the English techniques of city-building he would later use to great effect at Saint Petersburg.The Embassy next went to Leipzig, Dresden, Prague and Vienna. Peter spoke with Augustus II the Strong and Leopold I, Holy Roman Emperor.Peter's visit was cut short in 1698, when he was forced to rush home by a rebellion of the Streltsy. The rebellion was easily crushed before Peter returned home from England; of the Tsar's troops, only one was killed. Peter nevertheless acted ruthlessly towards the mutineers. Over one thousand two hundred of the rebels were tortured and executed, and Peter ordered that their bodies be publicly exhibited as a warning to future conspirators. The Streltsy were disbanded, some of the rebels were deported to Siberia, and the individual they sought to put on the Throne —\n",
            "Peter's half-sister Sophia — was forced to become a nun.\n",
            "\n",
            "In 1698, Peter sent a delegation to Malta, under boyar Boris Sheremetev, to observe the training and abilities of the Knights of Malta and their fleet. Sheremetev investigated the possibility of future joint ventures with the Knights, including action against the Turks and the possibility of a future Russian naval base.Peter's visits to the West impressed upon him the notion that European customs were in several respects superior to Russian traditions. He commanded all of his courtiers and officials to wear European clothing and cut off their long beards, causing his Boyars, who were very fond of their beards, great upset. Boyars who sought to retain their beards were required to pay an annual beard tax of one hundred rubles. Peter also sought to end arranged marriages, which were the norm among the Russian nobility, because he thought such a practice was barbaric and led to domestic violence, since the partners usually resented each other.In 1699, Peter changed the date of the celebration of the new year from 1 September to 1 January. Traditionally, the years were reckoned from the purported creation of the World, but after Peter's reforms, they were to be counted from the birth of Christ. Thus, in the year 7207 of the old Russian calendar, Peter proclaimed that the Julian Calendar was in effect and the year was 1700.\n",
            "\n",
            "\n",
            "=== Great Northern War ===\n",
            "\n",
            "Peter made a temporary peace with the Ottoman Empire that allowed him to keep the captured fort of Azov, and turned his attention to Russian maritime supremacy. He sought to acquire control of the Baltic Sea, which had been taken by the Swedish Empire a half-century earlier. Peter declared war on Sweden, which was at the time led by the young King Charles XII. Sweden was also opposed by Denmark–Norway, Saxony, and the Polish–Lithuanian Commonwealth.\n",
            "\n",
            "Russia was ill-prepared to fight the Swedes, and their first attempt at seizing the Baltic coast ended in disaster at the Battle of Narva in 1700. In the conflict, the forces of Charles XII, rather than employ a slow methodical siege, attacked immediately using a blinding snowstorm to their advantage. After the battle, Charles XII decided to concentrate his forces against the Polish–Lithuanian Commonwealth, which gave Peter time to reorganize the Russian army.\n",
            "While the Poles fought the Swedes, Peter founded the city of Saint Petersburg in 1703, in Ingermanland (a province of the Swedish Empire that he had captured). It was named after his patron saint Saint Peter. He forbade the building of stone edifices outside Saint Petersburg, which he intended to become Russia's capital, so that all stonemasons could participate in the construction of the new city. Peter moved the capital to St. Petersburg in 1703. While the city was being built he lived in a three-room log cabin with Catherine, where she did the cooking and caring for the children, and he tended a garden as though they were an ordinary couple. Between 1713 and 1728, and from 1732 to 1918, Saint Petersburg was the capital of imperial Russia.\n",
            "\n",
            "Following several defeats, Polish King Augustus II the Strong abdicated in 1706. Swedish king Charles XII turned his attention to Russia, invading it in 1708. After crossing into Russia, Charles defeated Peter at Golovchin in July. In the Battle of Lesnaya, Charles suffered his first loss after Peter crushed a group of Swedish reinforcements marching from Riga. Deprived of this aid, Charles was forced to abandon his proposed march on Moscow.Charles XII refused to retreat to Poland or back to Sweden and instead invaded Ukraine. Peter withdrew his army southward, employing scorched earth, destroying along the way anything that could assist the Swedes. Deprived of local supplies, the Swedish army was forced to halt its advance in the winter of 1708–1709. In the summer of 1709, they resumed their efforts to capture Russian-ruled Ukraine, culminating in the Battle of Poltava on 27 June. The battle was a decisive defeat for the Swedish forces, ending Charles' campaign in Ukraine and forcing him south to seek refuge in the Ottoman Empire. Russia had defeated what was considered to be one of the world's best militaries, and the victory overturned the view that Russia was militarily incompetent. In Poland, Augustus II was restored as King.\n",
            "\n",
            "Peter, overestimating the support he would receive from his Balkan allies, attacked the Ottoman Empire, initiating the Russo-Turkish War of 1710. Peter's campaign in the Ottoman Empire was disastrous, and in the ensuing Treaty of the Pruth, Peter was forced to return the Black Sea ports he had seized in 1697. In return, the Sultan expelled Charles XII.\n",
            "Normally, the Boyar Duma would have exercised power during his absence. Peter, however, mistrusted the boyars; he instead abolished the Duma and created a Senate of ten members. The Senate was founded as the highest state institution to supervise all judicial, financial and administrative affairs. Originally established only for the time of the monarch's absence, the Senate became a permanent body after his return. A special high official, the Ober-Procurator, served as the link between the ruler and the senate and acted, in Peter own words, as \"the sovereign's eye\". Without his signature no Senate decision could go into effect; the Senate became one of the most important institutions of Imperial Russia.\n",
            "\n",
            "Peter's northern armies took the Swedish province of Livonia (the northern half of modern Latvia, and the southern half of modern Estonia), driving the Swedes into Finland. In 1714 the Russian fleet won the Battle of Gangut. Most of Finland was occupied by the Russians.\n",
            "In 1716 and 1717, the Tsar revisited the Netherlands and went to see Herman Boerhaave. He continued his travel to the Austrian Netherlands and France, where he obtained many books and proposed a marriage between his daughter and King Louis XV. Peter obtained the assistance of the Electorate of Hanover and the Kingdom of Prussia.\n",
            "The Tsar's navy was powerful enough that the Russians could penetrate Sweden. Still, Charles XII refused to yield, and not until his death in battle in 1718 did peace become feasible. After the battle near Åland, Sweden made peace with all powers but Russia by 1720. In 1721, the Treaty of Nystad ended the Great Northern War. Russia acquired Ingria, Estonia, Livonia, and a substantial portion of Karelia. In turn, Russia paid two million Riksdaler and surrendered most of Finland. The Tsar retained some Finnish lands close to Saint Petersburg, which he had made his capital in 1712.\n",
            "\n",
            "\n",
            "=== Later years ===\n",
            "\n",
            "Peter's last years were marked by further reform in Russia. On 22 October 1721, soon after peace was made with Sweden, he was officially proclaimed Emperor of All Russia. Some proposed that he take the title Emperor of the East, but he refused. Gavrila Golovkin, the State Chancellor, was the first to add \"the Great, Father of His Country, Emperor of All the Russias\" to Peter's traditional title Tsar following a speech by the archbishop of Pskov in 1721. Peter's imperial title was recognized by Augustus II of Poland, Frederick William I of Prussia, and Frederick I of Sweden, but not by the other European monarchs. In the minds of many, the word emperor connoted superiority or pre-eminence over kings. Several rulers feared that Peter would claim authority over them, just as the Holy Roman Emperor had claimed suzerainty over all Christian nations.\n",
            "In 1717, Alexander Bekovich-Cherkassky led the first Russian military expedition into Central Asia against the Khanate of Khiva. The expedition ended in complete disaster when the entire expeditionary force was slaughtered.\n",
            "In 1718, Peter investigated why the formerly Swedish province of Livonia was so orderly. He discovered that the Swedes spent as much administering Livonia (300 times smaller than his empire) as he spent on the entire Russian bureaucracy. He was forced to dismantle the province's government.After 1718, Peter established colleges in place of the old central agencies of government, including foreign affairs, war, navy, expense, income, justice, and inspection. Later others were added. Each college consisted of a president, a vice-president, a number of councilors and assessors, and a procurator. Some foreigners were included in various colleges but not as president. Peter believed he did not have enough loyal and talented persons to put in full charge of the various departments. Peter preferred to rely on groups of individuals who would keep check on one another. Decisions depended on the majority vote.\n",
            "In 1722, Peter created a new order of precedence known as the Table of Ranks. Formerly, precedence had been determined by birth. To deprive the Boyars of their high positions, Peter directed that precedence should be determined by merit and service to the Emperor. The Table of Ranks continued to remain in effect until the Russian monarchy was overthrown in 1917.\n",
            "Peter decided that all of the children of the nobility should have some early education, especially in the areas of sciences. Therefore, on 28 February 1714, he issued a decree calling for compulsory education, which dictated that all Russian 10- to 15-year-old children of the nobility, government clerks, and lesser-ranked officials must learn basic mathematics and geometry, and should be tested on the subjects at the end of their studies.The once powerful Persian Safavid Empire to the south was in deep decline. Taking advantage of the profitable situation, Peter launched the Russo-Persian War of 1722–1723, otherwise known as \"The Persian Expedition of Peter the Great\", which drastically increased Russian influence for the first time in the Caucasus and Caspian Sea region, and prevented the Ottoman Empire from making territorial gains in the region. After considerable success and the capture of many provinces and cities in the Caucasus and northern mainland Persia, the Safavids were forced to hand over territory to Russia, comprising Derbent, Shirvan, Gilan, Mazandaran, Baku, and Astrabad. However, within twelve years all the territories would be ceded back to Persia, now led by the charismatic military genius Nader Shah, as part of the Treaties of Resht and Ganja respectively, and the Russo-Persian alliance against the Ottoman Empire, which was the common enemy of both.Peter introduced new taxes to fund improvements in Saint Petersburg. He abolished the land tax and household tax and replaced them with a poll tax. The taxes on land and on households were payable only by individuals who owned property or maintained families; the new head taxes, however, were payable by serfs and paupers. In 1725 the construction of Peterhof, a palace near Saint Petersburg, was completed. Peterhof (Dutch for \"Peter's Court\") was a grand residence, becoming known as the \"Russian Versailles\".\n",
            "\n",
            "\n",
            "=== Illness and death ===\n",
            "\n",
            "In the winter of 1723, Peter, whose overall health was never robust, began having problems with his urinary tract and bladder. In the summer of 1724, a team of doctors performed surgery releasing upwards of four pounds of blocked urine. Peter remained bedridden until late autumn. In the first week of October, restless and certain he was cured, Peter began a lengthy inspection tour of various projects. According to legend, in November, at Lakhta along the Finnish Gulf to inspect some ironworks, Peter saw a group of soldiers drowning near shore and, wading out into near-waist deep water, came to their rescue.This icy water rescue is said to have exacerbated Peter's bladder problems and caused his death. The story, however, has been viewed with skepticism by some historians, pointing out that the German chronicler Jacob von Staehlin is the only source for the story, and it seems unlikely that no one else would have documented such an act of heroism. This, plus the interval of time between these actions and Peter's death seems to preclude any direct link.In early January 1725, Peter was struck once again with uremia. Legend has it that before lapsing into unconsciousness Peter asked for a paper and pen and scrawled an unfinished note that read: \"Leave all to ...\" and then, exhausted by the effort, asked for his daughter Anna to be summoned.Peter died between four and five in the morning 8 February 1725. An autopsy revealed his bladder to be infected with gangrene. He was fifty-two years, seven months old when he died, having reigned forty-two years. He is interred in Saints Peter and Paul Cathedral, Saint Petersburg, Russia.\n",
            "\n",
            "\n",
            "== Religion ==\n",
            "\n",
            "Peter founded The All-Joking, All-Drunken Synod of Fools and Jesters, an organization that mocked the Orthodox and Catholic Church when he was eighteen. In January 1695, Peter refused to partake in a traditional Russian Orthodox ceremony of the Epiphany Ceremony, and would often schedule events for The All-Joking, All-Drunken Synod of Fools and Jesters to directly conflict with the Church.Peter was brought up in the Russian Orthodox faith, but he had low regard for the Church hierarchy, which he kept under tight governmental control. The traditional leader of the Church was the Patriarch of Moscow. In 1700, when the office fell vacant, Peter refused to name a replacement, allowing the Patriarch's Coadjutor (or deputy) to discharge the duties of the office. Peter could not tolerate the patriarch exercising power superior to the Tsar, as indeed had happened in the case of Philaret (1619–1633) and Nikon (1652–66). The Church reform of Peter the Great therefore abolished the Patriarchy, replacing it with a Holy Synod that was under the control of a Procurator, and the Tsar appointed all bishops.In 1721, Peter followed the advice of Theophan Prokopovich in designing the Holy Synod as a council of ten clergymen. For leadership in the church, Peter turned increasingly to Ukrainians, who were more open to reform, but were not well loved by the Russian clergy. Peter implemented a law that stipulated that no Russian man could join a monastery before the age of fifty. He felt that too many able Russian men were being wasted on clerical work when they could be joining his new and improved army.A clerical career was not a route chosen by upper-class society. Most parish priests were sons of priests, were very poorly educated, and very poorly paid. The monks in the monasteries had a slightly higher status; they were not allowed to marry. Politically, the church was impotent.\n",
            "\n",
            "\n",
            "== Marriages and family ==\n",
            "\n",
            "Peter the Great had two wives, with whom he had fourteen children, three of whom survived to adulthood. Peter's mother selected his first wife, Eudoxia Lopukhina, with the advice of other nobles in 1689. This was consistent with previous Romanov tradition by choosing a daughter of a minor noble. This was done to prevent fighting between the stronger noble houses and to bring fresh blood into the family. He also had a mistress from Holland, Anna Mons.Upon his return from his European tour in 1698, Peter sought to end his unhappy marriage. He divorced the Tsaritsa and forced her to join a convent. The Tsaritsa had borne Peter three children, although only one, Alexei Petrovich, Tsarevich of Russia, had survived past his childhood.\n",
            "He took Marta Helena Skowrońska, a Polish-Lithuanian peasant, as a mistress some time between 1702 and 1704. Marta converted to the Russian Orthodox Church and took the name Catherine. Though no record exists, Catherine and Peter are described as having married secretly between 23 Oct and 1 December 1707 in St. Petersburg. Peter valued Catherine and married her again (this time officially) at Saint Isaac's Cathedral in Saint Petersburg on 19 February 1712.\n",
            "His eldest child and heir, Alexei, was suspected of being involved in a plot to overthrow the Emperor. Alexei was tried and confessed under torture during questioning conducted by a secular court. He was convicted and sentenced to be executed. The sentence could be carried out only with Peter's signed authorization, and Alexei died in prison, as Peter hesitated before making the decision. Alexei's death most likely resulted from injuries suffered during his torture. Alexei's mother Eudoxia had also been punished; she was dragged from her home, tried on false charges of adultery, publicly flogged, and finally confined in monasteries while forbidden to be talked to.\n",
            "In 1724, Peter had his second wife, Catherine, crowned as Empress, although he remained Russia's actual ruler. All of Peter's male children had died.\n",
            "\n",
            "\n",
            "=== Issue ===\n",
            "By his two wives, he had fourteen children. These included three sons named Pavel and three sons named Peter, all of whom died in infancy.  Only three  of his children survived to adulthood: Alexei, Anna Petrovna, and Elizabeth. He had only two grandchildren: Peter II and Peter III.\n",
            "\n",
            "\n",
            "=== Mistresses and illegitimate children ===\n",
            "Princess Maria Cantemir of Moldavia (1700 – 1754), daughter of Dimitrie CantemirUnnamed son (1722 – 1723) – who died prematurely. According to other sources, the baby was stilborn.\n",
            "Lady Mary Hamilton, Catherina I's lady in waiting of Scottish descent.miscarriage (1715)\n",
            "Unnamed child (1717 – 1718)\n",
            "Unnamed child\n",
            "\n",
            "\n",
            "== Legacy ==\n",
            "\n",
            "Peter's legacy has always been a major concern of Russian intellectuals. Riasanovsky points to a \"paradoxical dichotomy\" in the black and white images such as God/Antichrist, educator/ignoramus, architect of Russia's greatness/destroyer of national culture, father of his country/scourge of the common man. Voltaire's 1759 biography gave 18th-century Russians a man of the Enlightenment, while Alexander Pushkin's \"The Bronze Horseman\" poem of 1833 gave a powerful romantic image of a creator-god. Slavophiles in mid-19th century deplored Peter's westernization of Russia. Western writers and political analysts recounted \"The Testimony\" or secret will of Peter the Great. It supposedly revealed his grand evil plot for Russia to control the world via conquest of Constantinople, Afghanistan and India. It was a forgery made in Paris at Napoleon's command when he started his invasion of Russia in 1812. Nevertheless, it is still quoted in foreign policy circles. The Communists executed the last Romanovs, and their historians such as Mikhail Pokrovsky presented strongly negative views of the entire dynasty. Stalin however admired how Peter strengthened the state, and wartime, diplomacy, industry, higher education, and government administration. Stalin wrote in 1928, \"when Peter the Great, who had to deal with more developed countries in the West, feverishly built works in factories for supplying the army and strengthening the country's defenses, this was an original attempt to leap out of the framework of backwardness.\" As a result, Soviet historiography emphasizes both the positive achievement and the negative factor of oppressing the common people.After the fall of Communism in 1991, scholars and the general public in Russia and the West gave fresh attention to Peter and his role in Russian history. His reign is now seen as the decisive formative event in the Russian imperial past. Many new ideas have merged, such as whether he strengthened the autocratic state or whether the tsarist regime was not statist enough given its small bureaucracy. Modernization models have become contested ground. Historian Ia. Vodarsky said in 1993 that Peter, \"did not lead the country on the path of accelerated economic, political and social development, did not force it to 'achieve a leap' through several stages.... On the contrary, these actions to the greatest degree put a brake on Russia's progress and created conditions for holding it back for one and a half centuries!\"  The autocratic powers that Stalin admired appeared as a liability to Evgeny Anisimov, who complained that Peter was, \"the creator of the administrative command system and the true ancestor of Stalin.\"While the cultural turn in historiography has downplayed diplomatic, economic and constitutional issues, new cultural roles have been found for Peter, for example in architecture and dress. James Cracraft argues:\n",
            "\n",
            "The Petrine revolution in Russia—subsuming in this phrase the many military, naval, governmental, educational, architectural, linguistic, and other internal reforms enacted by Peter’s regime to promote Russia’s rise as a major European power—was essentially a cultural revolution, one that profoundly impacted both the basic constitution of the Russian Empire and, perforce, its subsequent development.\n",
            "\n",
            "\n",
            "== Popular culture ==\n",
            "\n",
            "Peter has been featured in many histories, novels, plays, films, monuments and paintings. They include the poems The Bronze Horseman, Poltava and the unfinished novel The Moor of Peter the Great, all by Alexander Pushkin. The former dealt with The Bronze Horseman, an equestrian statue raised in Peter's honour. Aleksey Nikolayevich Tolstoy wrote a biographical historical novel about him, named Pëtr I, in the 1930s.\n",
            "\n",
            "The 1922 German silent film Peter the Great directed by Dimitri Buchowetzki and starring Emil Jannings as Peter\n",
            "The 1937–1938 Soviet Union (Russia) film Peter the First\n",
            "The 1976 film Skaz pro to, kak tsar Pyotr arapa zhenil (How Tsar Peter the Great Married Off His Moor), starring Aleksey Petrenko as Peter, and Vladimir Vysotsky as Abram Petrovich Gannibal, shows Peter's attempt to build the Baltic Fleet.\n",
            "The 2007 film The Sovereign's Servant depicts the unsavoury brutal side of Peter during the campaign.\n",
            "Peter was played by Jan Niklas and Maximilian Schell in the 1986 NBC miniseries Peter the Great.\n",
            "A character based on Peter plays a major role in The Age of Unreason, a series of four alternate history novels written by American science fiction and fantasy author Gregory Keyes.\n",
            "Peter is one of many supporting characters in Neal Stephenson's Baroque Cycle – mainly featuring in the third novel, The System of the World.\n",
            "Peter was portrayed on BBC Radio 4 by Isaac Rouse as a boy, Will Howard as a young adult and Elliot Cowan as an adult in the radio plays Peter the Great: The Gamblers and Peter the Great: The Queen of Spades, written by Mike Walker and which were the last two plays in the first series of Tsar. The plays were broadcast on 25 September and 2 October 2016.\n",
            "A verse in the Engineers' Drinking Song references Peter the Great:\n",
            "Peter is featured as the leader of the Russian civilization in the computer game Sid Meier's Civilization VI.\n",
            "\n",
            "\n",
            "== See also ==\n",
            "\n",
            "Government reform of Peter the Great\n",
            "History of the administrative division of Russia\n",
            "Russian battlecruiser Pyotr Velikiy, a Russian Navy battle cruiser named after Peter the Great\n",
            "History of Russia (1721–96)\n",
            "Rulers of Russia family tree\n",
            "Peter the Great Statue\n",
            "Military history of the Russian Empire § Peter the Great, on the modernization of the Russian military under Peter the Great\n",
            "List of people known as \"the Great\"\n",
            "\n",
            "\n",
            "== Notes ==\n",
            "\n",
            "\n",
            "== References ==\n",
            "\n",
            "\n",
            "== Sources ==\n",
            "\n",
            "Historiography and memory\n",
            "\n",
            "\n",
            "== Further reading ==\n",
            "\n",
            "Anderson, M.S. \"Russia under Peter the Great and the changed relations of East and West.\" in J.S. Bromley, ed., The New Cambridge Modern History: VI: 1688-1715 (1970) pp. 716–40.\n",
            "Anisimov, Evgenii V. The Reforms of Peter the Great: Progress through Coercion in Russia (1993) online\n",
            "Bain, Robert Nisbet (1911). \"Peter I.\" .  In Chisholm, Hugh (ed.). Encyclopædia Britannica. Vol. 21 (11th ed.). Cambridge University Press. pp. 288–91.\n",
            "Bushkovitch, Paul. Peter the Great: The Struggle for Power, 1671–1725 (2001) online\n",
            "Cracraft, James. The Revolution of Peter the Great (2003) online\n",
            "Duffy, Christopher. Russia's Military Way to the West: Origins and Nature of Russian Military Power 1700-1800 (Routledge, 2015) pp 9–41\n",
            "Graham, Stephen. Peter The Great (1929) online\n",
            "Kamenskii, Aleksandr. The Russian Empire in the Eighteenth Century: Searching for a Place in the World(1997) pp 39–164.\n",
            "Kluchevsky, V.O. A history of Russia vol 4 (1926) online pp 1–230.\n",
            "Cracraft, James. \"Kliuchevskii on Peter the Great.\" Canadian-American Slavic Studies 20.4 (1986): 367–381.\n",
            "Oliva, Lawrence Jay. ed. Russia in the era of Peter the Great (1969), excerpts from primary and secondary sources two week borrowing\n",
            "Pares, Bernard. A History Of Russia (1947) pp 193–225. online\n",
            "Schimmelpenninck van der Oye, David, and Bruce W. Menning, eds. Reforming the Tsar's Army – Military Innovation in Imperial Russia from Peter the Great to the Revolution (Cambridge UP, 2004) 361 pp. scholarly essays\n",
            "Sumner, B. H. Peter the Great and the emergence of Russia (1950), brief history by scholar online\n",
            "\n",
            "\n",
            "== External links ==\n",
            "\n",
            "Romanovs. The third film. Peter I, Catherine I on YouTube – Historical reconstruction The Romanovs. StarMedia. Babich-Design (Russia, 2013)\n",
            "Peter the Great, a Tsar who Loved Science by Philippe Testard-Vaillant\n"
          ]
        }
      ]
    },
    {
      "cell_type": "code",
      "source": [
        "clean_text = clean_data(text)\n",
        "print(clean_text)"
      ],
      "metadata": {
        "colab": {
          "base_uri": "https://localhost:8080/"
        },
        "id": "-hTVBHLZEj_Z",
        "outputId": "f23721b9-bff1-4eb5-f22b-c70b7696ace5"
      },
      "execution_count": null,
      "outputs": [
        {
          "output_type": "stream",
          "name": "stdout",
          "text": [
            "Peter I ( June [O.S.  May]  –  February [O.S.  January] ), most commonly known as Peter the Great, was a monarch of Russia who modernised it and made it a European power. He ruled the Tsardom of Russia from  May [O.S.  April]  to  and subsequently the Russian Empire until his death in , jointly ruling before  with his elder halfbrother, Ivan V. \n",
            "Through a number of successful wars, he captured ports at Azov and the Baltic Sea, laying the groundwork for the Imperial Russian Navy, ending uncontested Swedish supremacy in the Baltic and beginning the Tsardom's expansion into a much larger empire that became a major European power. He led a cultural revolution that replaced some of the traditionalist and medieval social and political systems with ones that were modern, scientific, Westernised and based on the Enlightenment. Peter's reforms had a lasting impact on Russia, and many institutions of the Russian government trace their origins to his reign. He adopted the title of Emperor in place of the old title of Tsar in , and founded and developed the city of Saint Petersburg, which remained the capital of Russia until .\n",
            "However, the formation of local elites domestically was not his main priority, and the first Russian university—Saint Petersburg State University—was founded only a year before his death, in . The second one, Moscow State University, was founded  years after his death, during the reign of his daughter Elizabeth.\n",
            "\n",
            "\n",
            " Title \n",
            "The imperial title of Peter the Great was the following:\n",
            "By the grace of God, the most excellent and great sovereign emperor Pyotr Alekseevich the ruler of all the Russias: of Moscow, of Kiev, of Vladimir, of Novgorod, Tsar of Kazan, Tsar of Astrakhan and Tsar of Siberia, sovereign of Pskov, great prince of Smolensk, of Tver, of Yugorsk, of Perm, of Vyatka, of Bulgaria and others, sovereign and great prince of the Novgorod Lower lands, of Chernigov, of Ryazan, of Rostov, of Yaroslavl, of Belozersk, of Udora, of Kondia and the sovereign of all the northern lands, and the sovereign of the Iverian lands, of the Kartlian and Georgian Kings, of the Kabardin lands, of the Circassian and Mountain princes and many other states and lands western and eastern here and there and the successor and sovereign and ruler.\n",
            "\n",
            "\n",
            " Early life \n",
            "Peter was named after the apostle, and described as a newborn as with good health, his mother's black, vaguely Tatar eyes, and a tuft of auburn hair. He was educated  from an early age by several tutors  commissioned by his father, Tsar Alexis of Russia, most notably Nikita Zotov, Patrick Gordon, and Paul Menesius. On  January , Alexis died, leaving the sovereignty to Peter's elder halfbrother, the weak and sickly Feodor III of Russia. Throughout this period, the government was largely run by Artamon Matveev, an enlightened friend of Alexis, the political head of the Naryshkin family and one of Peter's greatest childhood benefactors.\n",
            "This position changed when Feodor died in . As Feodor did not leave any children, a dispute arose between the Miloslavsky family (Maria Miloslavskaya was the first wife of Alexis I) and Naryshkin family (Natalya Naryshkina was his second) over who should inherit the throne. Peter's other halfbrother, Ivan V of Russia, was next in line, but was chronically ill and of infirm mind. Consequently, the Boyar Duma (a council of Russian nobles) chose the yearold Peter to become Tsar, with his mother as regent.\n",
            "\n",
            "This arrangement was brought before the people of Moscow, as ancient tradition demanded, and was ratified. Sophia, one of Alexis' daughters from his first marriage, led a rebellion of the Streltsy (Russia's elite military corps) in April–May . In the subsequent conflict, some of Peter's relatives and friends were murdered, including Matveev, and Peter witnessed some of these acts of political violence.The Streltsy made it possible for Sophia, the Miloslavskys (the clan of Ivan) and their allies to insist that Peter and Ivan be proclaimed joint Tsars, with Ivan being acclaimed as the senior. Sophia then acted as regent during the minority of the sovereigns and exercised all power. For seven years, she ruled as an autocrat. A large hole was cut in the back of the dualseated throne used by Ivan and Peter. Sophia would sit behind the throne and listen as Peter conversed with nobles, while feeding him information and giving him responses to questions and problems. This throne can be seen in the Kremlin Armoury in Moscow.\n",
            "Peter was not particularly concerned that others ruled in his name. He engaged in such pastimes as shipbuilding and sailing, as well as mock battles with his toy army. Peter's mother sought to force him to adopt a more conventional approach and arranged his marriage to Eudoxia Lopukhina in . The marriage was a failure, and ten years later Peter forced his wife to become a nun and thus freed himself from the union.\n",
            "By the summer of , Peter, then age , planned to take power from his halfsister Sophia, whose position had been weakened by two unsuccessful Crimean campaigns against the Crimean Khanate in an attempt to stop devastating Crimean Tatar raids into Russia's southern lands. When she learned of his designs, Sophia conspired with some leaders of the Streltsy, who continually aroused disorder and dissent. Peter, warned by others from the Streltsy, escaped in the middle of the night to the impenetrable monastery of TroitseSergiyeva Lavra; there he slowly gathered adherents who perceived he would win the power struggle. Sophia was eventually overthrown, with Peter I and Ivan V continuing to act as cotsars. Peter forced Sophia to enter a convent, where she gave up her name and her position as a member of the royal family.\n",
            "\n",
            "Still, Peter could not acquire actual control over Russian affairs. Power was instead exercised by his mother, Natalya Naryshkina. It was only when Natalya died in  that Peter, then aged , became an independent sovereign. Formally, Ivan V was a coruler with Peter, though being ineffective. Peter became the sole ruler when Ivan died in  without male offspring, two years later.\n",
            "Peter grew to be extremely tall as an adult, especially for the time period, reportedly standing  ft  in (. m). Peter, however, lacked the overall proportional heft and bulk generally found in a man that size. Both his hands and feet were small, and his shoulders were narrow for his height; likewise, his head was small for his tall body. Added to this were Peter's noticeable facial tics, and he may have suffered from petit mal seizures, a form of epilepsy.During his youth, Peter befriended Patrick Gordon, Franz Lefort and several other foreigners in Russian service and was a frequent guest in Moscow's German Quarter, where he met his Dutch mistress Anna Mons.\n",
            "\n",
            "\n",
            " Reign \n",
            "\n",
            "Peter implemented sweeping reforms aimed at modernizing Russia. Heavily influenced by his advisors from Western Europe, Peter reorganized the Russian army along modern lines and dreamed of making Russia a maritime power. He faced much opposition to these policies at home but brutally suppressed rebellions against his authority, including by the Streltsy, Bashkirs, Astrakhan, and the greatest civil uprising of his reign, the Bulavin Rebellion.\n",
            "Peter implemented social modernization in an absolute manner by introducing French and western dress to his court and requiring courtiers, state officials, and the military to shave their beards and adopt modern clothing styles. One means of achieving this end was the introduction of taxes for long beards and robes in September .In his process to westernize Russia, he wanted members of his family to marry other European royalty. In the past, his ancestors had been snubbed at the idea, but now, it was proving fruitful. He negotiated with Frederick William, Duke of Courland to marry his niece, Anna Ivanovna. He used the wedding in order to launch his new capital, St Petersburg, where he had already ordered building projects of westernized palaces and buildings. Peter hired Italian and German architects to design it.As part of his reforms, Peter started an industrialization effort that was slow but eventually successful. Russian manufacturing and main exports were based on the mining and lumber industries. For example, by the end of the century Russia came to export more iron than any other country in the world.To improve his nation's position on the seas, Peter sought more maritime outlets. His only outlet at the time was the White Sea at Arkhangelsk. The Baltic Sea was at the time controlled by Sweden in the north, while the Black Sea and the Caspian Sea were controlled by the Ottoman Empire and Safavid Empire respectively in the south.\n",
            "Peter attempted to acquire control of the Black Sea, which would require expelling the Tatars from the surrounding areas. As part of an agreement with Poland that ceded Kiev to Russia, Peter was forced to wage war against the Crimean Khan and against the Khan's overlord, the Ottoman Sultan. Peter's primary objective became the capture of the Ottoman fortress of Azov, near the Don River. In the summer of  Peter organized the Azov campaigns to take the fortress, but his attempts ended in failure.\n",
            "Peter returned to Moscow in November  and began building a large navy. He launched about thirty ships against the Ottomans in , capturing Azov in July of that year. On  September , Peter officially founded the first Russian Navy base, Taganrog on the Sea of Azov.\n",
            "\n",
            "\n",
            " Grand Embassy \n",
            "\n",
            "Peter knew that Russia could not face the Ottoman Empire alone. In , he traveled incognito to Western Europe on an month journey with a large Russian delegation–the socalled Grand Embassy. He used a fake name, allowing him to escape social and diplomatic events, but since he was far taller than most others, he did not fool anyone of importance. One goal was to seek the aid of European monarchs, but Peter's hopes were dashed. France was a traditional ally of the Ottoman Sultan, and Austria was eager to maintain peace in the east while conducting its own wars in the west. Peter, furthermore, had chosen an inopportune moment: the Europeans at the time were more concerned about the War of Spanish Succession over who would succeed the childless King Charles II of Spain than about fighting the Ottoman Sultan.The Grand Embassy continued nevertheless. While visiting the Netherlands, Peter learned much about life in Western Europe. He studied shipbuilding  in Zaandam (the house he lived in is now a museum, the Czar Peter House) and Amsterdam, where he visited, among others, the upperclass De Wilde family. Jacob de Wilde, a collectorgeneral with the Admiralty of Amsterdam, had a wellknown collection of art and coins, and De Wilde's daughter Maria de Wilde made an engraving of the meeting between Peter and her father, providing visual evidence of the beginning of the West European classical tradition in Russia. According to Roger Tavernier, Peter the Great later acquired De Wilde's collection.Thanks to the mediation of Nicolaes Witsen, mayor of Amsterdam and an expert on Russia, the Tsar was given the opportunity to gain practical experience in the largest shipyard in the world, belonging to the Dutch East India Company, for a period of four months. The Tsar helped with the construction of an East Indiaman ship specially laid down for him: Peter and Paul. During his stay the Tsar engaged many skilled workers such as builders of locks, fortresses, shipwrights, and seamen—including Cornelis Cruys, a viceadmiral who became, under Franz Lefort, the Tsar's advisor in maritime affairs. Peter later put his knowledge of shipbuilding to use in helping build Russia's navy. Peter paid a visit to surgeon Frederik Ruysch, who taught him how to draw teeth and catch butterflies, and to Ludolf Bakhuysen, a painter of seascapes. Jan van der Heyden, the inventor of the fire hose, received Peter, who was keen to learn and pass on his knowledge to his countrymen. On  January  Peter organized a farewell party and invited Johan Huydecoper van Maarsseveen, who had to sit between Lefort and the Tsar and drink.\n",
            "\n",
            "In England, Peter met with King William III, visited Greenwich and Oxford, posed for Sir Godfrey Kneller, and saw a Royal Navy Fleet Review at Deptford. He studied the English techniques of citybuilding he would later use to great effect at Saint Petersburg.The Embassy next went to Leipzig, Dresden, Prague and Vienna. Peter spoke with Augustus II the Strong and Leopold I, Holy Roman Emperor.Peter's visit was cut short in , when he was forced to rush home by a rebellion of the Streltsy. The rebellion was easily crushed before Peter returned home from England; of the Tsar's troops, only one was killed. Peter nevertheless acted ruthlessly towards the mutineers. Over one thousand two hundred of the rebels were tortured and executed, and Peter ordered that their bodies be publicly exhibited as a warning to future conspirators. The Streltsy were disbanded, some of the rebels were deported to Siberia, and the individual they sought to put on the Throne —\n",
            "Peter's halfsister Sophia — was forced to become a nun.\n",
            "\n",
            "In , Peter sent a delegation to Malta, under boyar Boris Sheremetev, to observe the training and abilities of the Knights of Malta and their fleet. Sheremetev investigated the possibility of future joint ventures with the Knights, including action against the Turks and the possibility of a future Russian naval base.Peter's visits to the West impressed upon him the notion that European customs were in several respects superior to Russian traditions. He commanded all of his courtiers and officials to wear European clothing and cut off their long beards, causing his Boyars, who were very fond of their beards, great upset. Boyars who sought to retain their beards were required to pay an annual beard tax of one hundred rubles. Peter also sought to end arranged marriages, which were the norm among the Russian nobility, because he thought such a practice was barbaric and led to domestic violence, since the partners usually resented each other.In , Peter changed the date of the celebration of the new year from  September to  January. Traditionally, the years were reckoned from the purported creation of the World, but after Peter's reforms, they were to be counted from the birth of Christ. Thus, in the year  of the old Russian calendar, Peter proclaimed that the Julian Calendar was in effect and the year was .\n",
            "\n",
            "\n",
            " Great Northern War \n",
            "\n",
            "Peter made a temporary peace with the Ottoman Empire that allowed him to keep the captured fort of Azov, and turned his attention to Russian maritime supremacy. He sought to acquire control of the Baltic Sea, which had been taken by the Swedish Empire a halfcentury earlier. Peter declared war on Sweden, which was at the time led by the young King Charles XII. Sweden was also opposed by Denmark–Norway, Saxony, and the Polish–Lithuanian Commonwealth.\n",
            "\n",
            "Russia was illprepared to fight the Swedes, and their first attempt at seizing the Baltic coast ended in disaster at the Battle of Narva in . In the conflict, the forces of Charles XII, rather than employ a slow methodical siege, attacked immediately using a blinding snowstorm to their advantage. After the battle, Charles XII decided to concentrate his forces against the Polish–Lithuanian Commonwealth, which gave Peter time to reorganize the Russian army.\n",
            "While the Poles fought the Swedes, Peter founded the city of Saint Petersburg in , in Ingermanland (a province of the Swedish Empire that he had captured). It was named after his patron saint Saint Peter. He forbade the building of stone edifices outside Saint Petersburg, which he intended to become Russia's capital, so that all stonemasons could participate in the construction of the new city. Peter moved the capital to St. Petersburg in . While the city was being built he lived in a threeroom log cabin with Catherine, where she did the cooking and caring for the children, and he tended a garden as though they were an ordinary couple. Between  and , and from  to , Saint Petersburg was the capital of imperial Russia.\n",
            "\n",
            "Following several defeats, Polish King Augustus II the Strong abdicated in . Swedish king Charles XII turned his attention to Russia, invading it in . After crossing into Russia, Charles defeated Peter at Golovchin in July. In the Battle of Lesnaya, Charles suffered his first loss after Peter crushed a group of Swedish reinforcements marching from Riga. Deprived of this aid, Charles was forced to abandon his proposed march on Moscow.Charles XII refused to retreat to Poland or back to Sweden and instead invaded Ukraine. Peter withdrew his army southward, employing scorched earth, destroying along the way anything that could assist the Swedes. Deprived of local supplies, the Swedish army was forced to halt its advance in the winter of –. In the summer of , they resumed their efforts to capture Russianruled Ukraine, culminating in the Battle of Poltava on  June. The battle was a decisive defeat for the Swedish forces, ending Charles' campaign in Ukraine and forcing him south to seek refuge in the Ottoman Empire. Russia had defeated what was considered to be one of the world's best militaries, and the victory overturned the view that Russia was militarily incompetent. In Poland, Augustus II was restored as King.\n",
            "\n",
            "Peter, overestimating the support he would receive from his Balkan allies, attacked the Ottoman Empire, initiating the RussoTurkish War of . Peter's campaign in the Ottoman Empire was disastrous, and in the ensuing Treaty of the Pruth, Peter was forced to return the Black Sea ports he had seized in . In return, the Sultan expelled Charles XII.\n",
            "Normally, the Boyar Duma would have exercised power during his absence. Peter, however, mistrusted the boyars; he instead abolished the Duma and created a Senate of ten members. The Senate was founded as the highest state institution to supervise all judicial, financial and administrative affairs. Originally established only for the time of the monarch's absence, the Senate became a permanent body after his return. A special high official, the OberProcurator, served as the link between the ruler and the senate and acted, in Peter own words, as the sovereign's eye. Without his signature no Senate decision could go into effect; the Senate became one of the most important institutions of Imperial Russia.\n",
            "\n",
            "Peter's northern armies took the Swedish province of Livonia (the northern half of modern Latvia, and the southern half of modern Estonia), driving the Swedes into Finland. In  the Russian fleet won the Battle of Gangut. Most of Finland was occupied by the Russians.\n",
            "In  and , the Tsar revisited the Netherlands and went to see Herman Boerhaave. He continued his travel to the Austrian Netherlands and France, where he obtained many books and proposed a marriage between his daughter and King Louis XV. Peter obtained the assistance of the Electorate of Hanover and the Kingdom of Prussia.\n",
            "The Tsar's navy was powerful enough that the Russians could penetrate Sweden. Still, Charles XII refused to yield, and not until his death in battle in  did peace become feasible. After the battle near Åland, Sweden made peace with all powers but Russia by . In , the Treaty of Nystad ended the Great Northern War. Russia acquired Ingria, Estonia, Livonia, and a substantial portion of Karelia. In turn, Russia paid two million Riksdaler and surrendered most of Finland. The Tsar retained some Finnish lands close to Saint Petersburg, which he had made his capital in .\n",
            "\n",
            "\n",
            " Later years \n",
            "\n",
            "Peter's last years were marked by further reform in Russia. On  October , soon after peace was made with Sweden, he was officially proclaimed Emperor of All Russia. Some proposed that he take the title Emperor of the East, but he refused. Gavrila Golovkin, the State Chancellor, was the first to add the Great, Father of His Country, Emperor of All the Russias to Peter's traditional title Tsar following a speech by the archbishop of Pskov in . Peter's imperial title was recognized by Augustus II of Poland, Frederick William I of Prussia, and Frederick I of Sweden, but not by the other European monarchs. In the minds of many, the word emperor connoted superiority or preeminence over kings. Several rulers feared that Peter would claim authority over them, just as the Holy Roman Emperor had claimed suzerainty over all Christian nations.\n",
            "In , Alexander BekovichCherkassky led the first Russian military expedition into Central Asia against the Khanate of Khiva. The expedition ended in complete disaster when the entire expeditionary force was slaughtered.\n",
            "In , Peter investigated why the formerly Swedish province of Livonia was so orderly. He discovered that the Swedes spent as much administering Livonia ( times smaller than his empire) as he spent on the entire Russian bureaucracy. He was forced to dismantle the province's government.After , Peter established colleges in place of the old central agencies of government, including foreign affairs, war, navy, expense, income, justice, and inspection. Later others were added. Each college consisted of a president, a vicepresident, a number of councilors and assessors, and a procurator. Some foreigners were included in various colleges but not as president. Peter believed he did not have enough loyal and talented persons to put in full charge of the various departments. Peter preferred to rely on groups of individuals who would keep check on one another. Decisions depended on the majority vote.\n",
            "In , Peter created a new order of precedence known as the Table of Ranks. Formerly, precedence had been determined by birth. To deprive the Boyars of their high positions, Peter directed that precedence should be determined by merit and service to the Emperor. The Table of Ranks continued to remain in effect until the Russian monarchy was overthrown in .\n",
            "Peter decided that all of the children of the nobility should have some early education, especially in the areas of sciences. Therefore, on  February , he issued a decree calling for compulsory education, which dictated that all Russian  to yearold children of the nobility, government clerks, and lesserranked officials must learn basic mathematics and geometry, and should be tested on the subjects at the end of their studies.The once powerful Persian Safavid Empire to the south was in deep decline. Taking advantage of the profitable situation, Peter launched the RussoPersian War of –, otherwise known as The Persian Expedition of Peter the Great, which drastically increased Russian influence for the first time in the Caucasus and Caspian Sea region, and prevented the Ottoman Empire from making territorial gains in the region. After considerable success and the capture of many provinces and cities in the Caucasus and northern mainland Persia, the Safavids were forced to hand over territory to Russia, comprising Derbent, Shirvan, Gilan, Mazandaran, Baku, and Astrabad. However, within twelve years all the territories would be ceded back to Persia, now led by the charismatic military genius Nader Shah, as part of the Treaties of Resht and Ganja respectively, and the RussoPersian alliance against the Ottoman Empire, which was the common enemy of both.Peter introduced new taxes to fund improvements in Saint Petersburg. He abolished the land tax and household tax and replaced them with a poll tax. The taxes on land and on households were payable only by individuals who owned property or maintained families; the new head taxes, however, were payable by serfs and paupers. In  the construction of Peterhof, a palace near Saint Petersburg, was completed. Peterhof (Dutch for Peter's Court) was a grand residence, becoming known as the Russian Versailles.\n",
            "\n",
            "\n",
            " Illness and death \n",
            "\n",
            "In the winter of , Peter, whose overall health was never robust, began having problems with his urinary tract and bladder. In the summer of , a team of doctors performed surgery releasing upwards of four pounds of blocked urine. Peter remained bedridden until late autumn. In the first week of October, restless and certain he was cured, Peter began a lengthy inspection tour of various projects. According to legend, in November, at Lakhta along the Finnish Gulf to inspect some ironworks, Peter saw a group of soldiers drowning near shore and, wading out into nearwaist deep water, came to their rescue.This icy water rescue is said to have exacerbated Peter's bladder problems and caused his death. The story, however, has been viewed with skepticism by some historians, pointing out that the German chronicler Jacob von Staehlin is the only source for the story, and it seems unlikely that no one else would have documented such an act of heroism. This, plus the interval of time between these actions and Peter's death seems to preclude any direct link.In early January , Peter was struck once again with uremia. Legend has it that before lapsing into unconsciousness Peter asked for a paper and pen and scrawled an unfinished note that read: Leave all to ... and then, exhausted by the effort, asked for his daughter Anna to be summoned.Peter died between four and five in the morning  February . An autopsy revealed his bladder to be infected with gangrene. He was fiftytwo years, seven months old when he died, having reigned fortytwo years. He is interred in Saints Peter and Paul Cathedral, Saint Petersburg, Russia.\n",
            "\n",
            "\n",
            " Religion \n",
            "\n",
            "Peter founded The AllJoking, AllDrunken Synod of Fools and Jesters, an organization that mocked the Orthodox and Catholic Church when he was eighteen. In January , Peter refused to partake in a traditional Russian Orthodox ceremony of the Epiphany Ceremony, and would often schedule events for The AllJoking, AllDrunken Synod of Fools and Jesters to directly conflict with the Church.Peter was brought up in the Russian Orthodox faith, but he had low regard for the Church hierarchy, which he kept under tight governmental control. The traditional leader of the Church was the Patriarch of Moscow. In , when the office fell vacant, Peter refused to name a replacement, allowing the Patriarch's Coadjutor (or deputy) to discharge the duties of the office. Peter could not tolerate the patriarch exercising power superior to the Tsar, as indeed had happened in the case of Philaret (–) and Nikon (–). The Church reform of Peter the Great therefore abolished the Patriarchy, replacing it with a Holy Synod that was under the control of a Procurator, and the Tsar appointed all bishops.In , Peter followed the advice of Theophan Prokopovich in designing the Holy Synod as a council of ten clergymen. For leadership in the church, Peter turned increasingly to Ukrainians, who were more open to reform, but were not well loved by the Russian clergy. Peter implemented a law that stipulated that no Russian man could join a monastery before the age of fifty. He felt that too many able Russian men were being wasted on clerical work when they could be joining his new and improved army.A clerical career was not a route chosen by upperclass society. Most parish priests were sons of priests, were very poorly educated, and very poorly paid. The monks in the monasteries had a slightly higher status; they were not allowed to marry. Politically, the church was impotent.\n",
            "\n",
            "\n",
            " Marriages and family \n",
            "\n",
            "Peter the Great had two wives, with whom he had fourteen children, three of whom survived to adulthood. Peter's mother selected his first wife, Eudoxia Lopukhina, with the advice of other nobles in . This was consistent with previous Romanov tradition by choosing a daughter of a minor noble. This was done to prevent fighting between the stronger noble houses and to bring fresh blood into the family. He also had a mistress from Holland, Anna Mons.Upon his return from his European tour in , Peter sought to end his unhappy marriage. He divorced the Tsaritsa and forced her to join a convent. The Tsaritsa had borne Peter three children, although only one, Alexei Petrovich, Tsarevich of Russia, had survived past his childhood.\n",
            "He took Marta Helena Skowrońska, a PolishLithuanian peasant, as a mistress some time between  and . Marta converted to the Russian Orthodox Church and took the name Catherine. Though no record exists, Catherine and Peter are described as having married secretly between  Oct and  December  in St. Petersburg. Peter valued Catherine and married her again (this time officially) at Saint Isaac's Cathedral in Saint Petersburg on  February .\n",
            "His eldest child and heir, Alexei, was suspected of being involved in a plot to overthrow the Emperor. Alexei was tried and confessed under torture during questioning conducted by a secular court. He was convicted and sentenced to be executed. The sentence could be carried out only with Peter's signed authorization, and Alexei died in prison, as Peter hesitated before making the decision. Alexei's death most likely resulted from injuries suffered during his torture. Alexei's mother Eudoxia had also been punished; she was dragged from her home, tried on false charges of adultery, publicly flogged, and finally confined in monasteries while forbidden to be talked to.\n",
            "In , Peter had his second wife, Catherine, crowned as Empress, although he remained Russia's actual ruler. All of Peter's male children had died.\n",
            "\n",
            "\n",
            " Issue \n",
            "By his two wives, he had fourteen children. These included three sons named Pavel and three sons named Peter, all of whom died in infancy.  Only three  of his children survived to adulthood: Alexei, Anna Petrovna, and Elizabeth. He had only two grandchildren: Peter II and Peter III.\n",
            "\n",
            "\n",
            " Mistresses and illegitimate children \n",
            "Princess Maria Cantemir of Moldavia ( – ), daughter of Dimitrie CantemirUnnamed son ( – ) – who died prematurely. According to other sources, the baby was stilborn.\n",
            "Lady Mary Hamilton, Catherina I's lady in waiting of Scottish descent.miscarriage ()\n",
            "Unnamed child ( – )\n",
            "Unnamed child\n",
            "\n",
            "\n",
            " Legacy \n",
            "\n",
            "Peter's legacy has always been a major concern of Russian intellectuals. Riasanovsky points to a paradoxical dichotomy in the black and white images such as God/Antichrist, educator/ignoramus, architect of Russia's greatness/destroyer of national culture, father of his country/scourge of the common man. Voltaire's  biography gave thcentury Russians a man of the Enlightenment, while Alexander Pushkin's The Bronze Horseman poem of  gave a powerful romantic image of a creatorgod. Slavophiles in midth century deplored Peter's westernization of Russia. Western writers and political analysts recounted The Testimony or secret will of Peter the Great. It supposedly revealed his grand evil plot for Russia to control the world via conquest of Constantinople, Afghanistan and India. It was a forgery made in Paris at Napoleon's command when he started his invasion of Russia in . Nevertheless, it is still quoted in foreign policy circles. The Communists executed the last Romanovs, and their historians such as Mikhail Pokrovsky presented strongly negative views of the entire dynasty. Stalin however admired how Peter strengthened the state, and wartime, diplomacy, industry, higher education, and government administration. Stalin wrote in , when Peter the Great, who had to deal with more developed countries in the West, feverishly built works in factories for supplying the army and strengthening the country's defenses, this was an original attempt to leap out of the framework of backwardness. As a result, Soviet historiography emphasizes both the positive achievement and the negative factor of oppressing the common people.After the fall of Communism in , scholars and the general public in Russia and the West gave fresh attention to Peter and his role in Russian history. His reign is now seen as the decisive formative event in the Russian imperial past. Many new ideas have merged, such as whether he strengthened the autocratic state or whether the tsarist regime was not statist enough given its small bureaucracy. Modernization models have become contested ground. Historian Ia. Vodarsky said in  that Peter, did not lead the country on the path of accelerated economic, political and social development, did not force it to 'achieve a leap' through several stages.... On the contrary, these actions to the greatest degree put a brake on Russia's progress and created conditions for holding it back for one and a half centuries!  The autocratic powers that Stalin admired appeared as a liability to Evgeny Anisimov, who complained that Peter was, the creator of the administrative command system and the true ancestor of Stalin.While the cultural turn in historiography has downplayed diplomatic, economic and constitutional issues, new cultural roles have been found for Peter, for example in architecture and dress. James Cracraft argues:\n",
            "\n",
            "The Petrine revolution in Russia—subsuming in this phrase the many military, naval, governmental, educational, architectural, linguistic, and other internal reforms enacted by Peter’s regime to promote Russia’s rise as a major European power—was essentially a cultural revolution, one that profoundly impacted both the basic constitution of the Russian Empire and, perforce, its subsequent development.\n",
            "\n",
            "\n",
            " Popular culture \n",
            "\n",
            "Peter has been featured in many histories, novels, plays, films, monuments and paintings. They include the poems The Bronze Horseman, Poltava and the unfinished novel The Moor of Peter the Great, all by Alexander Pushkin. The former dealt with The Bronze Horseman, an equestrian statue raised in Peter's honour. Aleksey Nikolayevich Tolstoy wrote a biographical historical novel about him, named Pëtr I, in the s.\n",
            "\n",
            "The  German silent film Peter the Great directed by Dimitri Buchowetzki and starring Emil Jannings as Peter\n",
            "The – Soviet Union (Russia) film Peter the First\n",
            "The  film Skaz pro to, kak tsar Pyotr arapa zhenil (How Tsar Peter the Great Married Off His Moor), starring Aleksey Petrenko as Peter, and Vladimir Vysotsky as Abram Petrovich Gannibal, shows Peter's attempt to build the Baltic Fleet.\n",
            "The  film The Sovereign's Servant depicts the unsavoury brutal side of Peter during the campaign.\n",
            "Peter was played by Jan Niklas and Maximilian Schell in the  NBC miniseries Peter the Great.\n",
            "A character based on Peter plays a major role in The Age of Unreason, a series of four alternate history novels written by American science fiction and fantasy author Gregory Keyes.\n",
            "Peter is one of many supporting characters in Neal Stephenson's Baroque Cycle – mainly featuring in the third novel, The System of the World.\n",
            "Peter was portrayed on BBC Radio  by Isaac Rouse as a boy, Will Howard as a young adult and Elliot Cowan as an adult in the radio plays Peter the Great: The Gamblers and Peter the Great: The Queen of Spades, written by Mike Walker and which were the last two plays in the first series of Tsar. The plays were broadcast on  September and  October .\n",
            "A verse in the Engineers' Drinking Song references Peter the Great:\n",
            "Peter is featured as the leader of the Russian civilization in the computer game Sid Meier's Civilization VI.\n",
            "\n",
            "\n",
            " See also \n",
            "\n",
            "Government reform of Peter the Great\n",
            "History of the administrative division of Russia\n",
            "Russian battlecruiser Pyotr Velikiy, a Russian Navy battle cruiser named after Peter the Great\n",
            "History of Russia (–)\n",
            "Rulers of Russia family tree\n",
            "Peter the Great Statue\n",
            "Military history of the Russian Empire  Peter the Great, on the modernization of the Russian military under Peter the Great\n",
            "List of people known as the Great\n",
            "\n",
            "\n",
            " Notes \n",
            "\n",
            "\n",
            " References \n",
            "\n",
            "\n",
            " Sources \n",
            "\n",
            "Historiography and memory\n",
            "\n",
            "\n",
            " Further reading \n",
            "\n",
            "Anderson, M.S. Russia under Peter the Great and the changed relations of East and West. in J.S. Bromley, ed., The New Cambridge Modern History: VI:  () pp. –.\n",
            "Anisimov, Evgenii V. The Reforms of Peter the Great: Progress through Coercion in Russia () online\n",
            "Bain, Robert Nisbet (). Peter I. .  In Chisholm, Hugh (ed.). Encyclopædia Britannica. Vol.  (th ed.). Cambridge University Press. pp. –.\n",
            "Bushkovitch, Paul. Peter the Great: The Struggle for Power, – () online\n",
            "Cracraft, James. The Revolution of Peter the Great () online\n",
            "Duffy, Christopher. Russia's Military Way to the West: Origins and Nature of Russian Military Power  (Routledge, ) pp –\n",
            "Graham, Stephen. Peter The Great () online\n",
            "Kamenskii, Aleksandr. The Russian Empire in the Eighteenth Century: Searching for a Place in the World() pp –.\n",
            "Kluchevsky, V.O. A history of Russia vol  () online pp –.\n",
            "Cracraft, James. Kliuchevskii on Peter the Great. CanadianAmerican Slavic Studies . (): –.\n",
            "Oliva, Lawrence Jay. ed. Russia in the era of Peter the Great (), excerpts from primary and secondary sources two week borrowing\n",
            "Pares, Bernard. A History Of Russia () pp –. online\n",
            "Schimmelpenninck van der Oye, David, and Bruce W. Menning, eds. Reforming the Tsar's Army – Military Innovation in Imperial Russia from Peter the Great to the Revolution (Cambridge UP, )  pp. scholarly essays\n",
            "Sumner, B. H. Peter the Great and the emergence of Russia (), brief history by scholar online\n",
            "\n",
            "\n",
            " External links \n",
            "\n",
            "Romanovs. The third film. Peter I, Catherine I on YouTube – Historical reconstruction The Romanovs. StarMedia. BabichDesign (Russia, )\n",
            "Peter the Great, a Tsar who Loved Science by Philippe TestardVaillant\n"
          ]
        },
        {
          "output_type": "stream",
          "name": "stderr",
          "text": [
            "/usr/local/lib/python3.7/dist-packages/ipykernel_launcher.py:3: FutureWarning: Possible nested set at position 1\n",
            "  This is separate from the ipykernel package so we can avoid doing imports until\n"
          ]
        }
      ]
    },
    {
      "cell_type": "code",
      "source": [
        "sep = 'Popular culture'\n",
        "stripped = clean_text.split(sep, 1)[0]\n",
        "print(stripped)"
      ],
      "metadata": {
        "colab": {
          "base_uri": "https://localhost:8080/"
        },
        "id": "JBOU5eyUL932",
        "outputId": "97c2110c-88c1-487a-be27-fc5e1c9e9929"
      },
      "execution_count": null,
      "outputs": [
        {
          "output_type": "stream",
          "name": "stdout",
          "text": [
            "Peter I ( June [O.S.  May]  –  February [O.S.  January] ), most commonly known as Peter the Great, was a monarch of Russia who modernised it and made it a European power. He ruled the Tsardom of Russia from  May [O.S.  April]  to  and subsequently the Russian Empire until his death in , jointly ruling before  with his elder halfbrother, Ivan V. \n",
            "Through a number of successful wars, he captured ports at Azov and the Baltic Sea, laying the groundwork for the Imperial Russian Navy, ending uncontested Swedish supremacy in the Baltic and beginning the Tsardom's expansion into a much larger empire that became a major European power. He led a cultural revolution that replaced some of the traditionalist and medieval social and political systems with ones that were modern, scientific, Westernised and based on the Enlightenment. Peter's reforms had a lasting impact on Russia, and many institutions of the Russian government trace their origins to his reign. He adopted the title of Emperor in place of the old title of Tsar in , and founded and developed the city of Saint Petersburg, which remained the capital of Russia until .\n",
            "However, the formation of local elites domestically was not his main priority, and the first Russian university—Saint Petersburg State University—was founded only a year before his death, in . The second one, Moscow State University, was founded  years after his death, during the reign of his daughter Elizabeth.\n",
            "\n",
            "\n",
            " Title \n",
            "The imperial title of Peter the Great was the following:\n",
            "By the grace of God, the most excellent and great sovereign emperor Pyotr Alekseevich the ruler of all the Russias: of Moscow, of Kiev, of Vladimir, of Novgorod, Tsar of Kazan, Tsar of Astrakhan and Tsar of Siberia, sovereign of Pskov, great prince of Smolensk, of Tver, of Yugorsk, of Perm, of Vyatka, of Bulgaria and others, sovereign and great prince of the Novgorod Lower lands, of Chernigov, of Ryazan, of Rostov, of Yaroslavl, of Belozersk, of Udora, of Kondia and the sovereign of all the northern lands, and the sovereign of the Iverian lands, of the Kartlian and Georgian Kings, of the Kabardin lands, of the Circassian and Mountain princes and many other states and lands western and eastern here and there and the successor and sovereign and ruler.\n",
            "\n",
            "\n",
            " Early life \n",
            "Peter was named after the apostle, and described as a newborn as with good health, his mother's black, vaguely Tatar eyes, and a tuft of auburn hair. He was educated  from an early age by several tutors  commissioned by his father, Tsar Alexis of Russia, most notably Nikita Zotov, Patrick Gordon, and Paul Menesius. On  January , Alexis died, leaving the sovereignty to Peter's elder halfbrother, the weak and sickly Feodor III of Russia. Throughout this period, the government was largely run by Artamon Matveev, an enlightened friend of Alexis, the political head of the Naryshkin family and one of Peter's greatest childhood benefactors.\n",
            "This position changed when Feodor died in . As Feodor did not leave any children, a dispute arose between the Miloslavsky family (Maria Miloslavskaya was the first wife of Alexis I) and Naryshkin family (Natalya Naryshkina was his second) over who should inherit the throne. Peter's other halfbrother, Ivan V of Russia, was next in line, but was chronically ill and of infirm mind. Consequently, the Boyar Duma (a council of Russian nobles) chose the yearold Peter to become Tsar, with his mother as regent.\n",
            "\n",
            "This arrangement was brought before the people of Moscow, as ancient tradition demanded, and was ratified. Sophia, one of Alexis' daughters from his first marriage, led a rebellion of the Streltsy (Russia's elite military corps) in April–May . In the subsequent conflict, some of Peter's relatives and friends were murdered, including Matveev, and Peter witnessed some of these acts of political violence.The Streltsy made it possible for Sophia, the Miloslavskys (the clan of Ivan) and their allies to insist that Peter and Ivan be proclaimed joint Tsars, with Ivan being acclaimed as the senior. Sophia then acted as regent during the minority of the sovereigns and exercised all power. For seven years, she ruled as an autocrat. A large hole was cut in the back of the dualseated throne used by Ivan and Peter. Sophia would sit behind the throne and listen as Peter conversed with nobles, while feeding him information and giving him responses to questions and problems. This throne can be seen in the Kremlin Armoury in Moscow.\n",
            "Peter was not particularly concerned that others ruled in his name. He engaged in such pastimes as shipbuilding and sailing, as well as mock battles with his toy army. Peter's mother sought to force him to adopt a more conventional approach and arranged his marriage to Eudoxia Lopukhina in . The marriage was a failure, and ten years later Peter forced his wife to become a nun and thus freed himself from the union.\n",
            "By the summer of , Peter, then age , planned to take power from his halfsister Sophia, whose position had been weakened by two unsuccessful Crimean campaigns against the Crimean Khanate in an attempt to stop devastating Crimean Tatar raids into Russia's southern lands. When she learned of his designs, Sophia conspired with some leaders of the Streltsy, who continually aroused disorder and dissent. Peter, warned by others from the Streltsy, escaped in the middle of the night to the impenetrable monastery of TroitseSergiyeva Lavra; there he slowly gathered adherents who perceived he would win the power struggle. Sophia was eventually overthrown, with Peter I and Ivan V continuing to act as cotsars. Peter forced Sophia to enter a convent, where she gave up her name and her position as a member of the royal family.\n",
            "\n",
            "Still, Peter could not acquire actual control over Russian affairs. Power was instead exercised by his mother, Natalya Naryshkina. It was only when Natalya died in  that Peter, then aged , became an independent sovereign. Formally, Ivan V was a coruler with Peter, though being ineffective. Peter became the sole ruler when Ivan died in  without male offspring, two years later.\n",
            "Peter grew to be extremely tall as an adult, especially for the time period, reportedly standing  ft  in (. m). Peter, however, lacked the overall proportional heft and bulk generally found in a man that size. Both his hands and feet were small, and his shoulders were narrow for his height; likewise, his head was small for his tall body. Added to this were Peter's noticeable facial tics, and he may have suffered from petit mal seizures, a form of epilepsy.During his youth, Peter befriended Patrick Gordon, Franz Lefort and several other foreigners in Russian service and was a frequent guest in Moscow's German Quarter, where he met his Dutch mistress Anna Mons.\n",
            "\n",
            "\n",
            " Reign \n",
            "\n",
            "Peter implemented sweeping reforms aimed at modernizing Russia. Heavily influenced by his advisors from Western Europe, Peter reorganized the Russian army along modern lines and dreamed of making Russia a maritime power. He faced much opposition to these policies at home but brutally suppressed rebellions against his authority, including by the Streltsy, Bashkirs, Astrakhan, and the greatest civil uprising of his reign, the Bulavin Rebellion.\n",
            "Peter implemented social modernization in an absolute manner by introducing French and western dress to his court and requiring courtiers, state officials, and the military to shave their beards and adopt modern clothing styles. One means of achieving this end was the introduction of taxes for long beards and robes in September .In his process to westernize Russia, he wanted members of his family to marry other European royalty. In the past, his ancestors had been snubbed at the idea, but now, it was proving fruitful. He negotiated with Frederick William, Duke of Courland to marry his niece, Anna Ivanovna. He used the wedding in order to launch his new capital, St Petersburg, where he had already ordered building projects of westernized palaces and buildings. Peter hired Italian and German architects to design it.As part of his reforms, Peter started an industrialization effort that was slow but eventually successful. Russian manufacturing and main exports were based on the mining and lumber industries. For example, by the end of the century Russia came to export more iron than any other country in the world.To improve his nation's position on the seas, Peter sought more maritime outlets. His only outlet at the time was the White Sea at Arkhangelsk. The Baltic Sea was at the time controlled by Sweden in the north, while the Black Sea and the Caspian Sea were controlled by the Ottoman Empire and Safavid Empire respectively in the south.\n",
            "Peter attempted to acquire control of the Black Sea, which would require expelling the Tatars from the surrounding areas. As part of an agreement with Poland that ceded Kiev to Russia, Peter was forced to wage war against the Crimean Khan and against the Khan's overlord, the Ottoman Sultan. Peter's primary objective became the capture of the Ottoman fortress of Azov, near the Don River. In the summer of  Peter organized the Azov campaigns to take the fortress, but his attempts ended in failure.\n",
            "Peter returned to Moscow in November  and began building a large navy. He launched about thirty ships against the Ottomans in , capturing Azov in July of that year. On  September , Peter officially founded the first Russian Navy base, Taganrog on the Sea of Azov.\n",
            "\n",
            "\n",
            " Grand Embassy \n",
            "\n",
            "Peter knew that Russia could not face the Ottoman Empire alone. In , he traveled incognito to Western Europe on an month journey with a large Russian delegation–the socalled Grand Embassy. He used a fake name, allowing him to escape social and diplomatic events, but since he was far taller than most others, he did not fool anyone of importance. One goal was to seek the aid of European monarchs, but Peter's hopes were dashed. France was a traditional ally of the Ottoman Sultan, and Austria was eager to maintain peace in the east while conducting its own wars in the west. Peter, furthermore, had chosen an inopportune moment: the Europeans at the time were more concerned about the War of Spanish Succession over who would succeed the childless King Charles II of Spain than about fighting the Ottoman Sultan.The Grand Embassy continued nevertheless. While visiting the Netherlands, Peter learned much about life in Western Europe. He studied shipbuilding  in Zaandam (the house he lived in is now a museum, the Czar Peter House) and Amsterdam, where he visited, among others, the upperclass De Wilde family. Jacob de Wilde, a collectorgeneral with the Admiralty of Amsterdam, had a wellknown collection of art and coins, and De Wilde's daughter Maria de Wilde made an engraving of the meeting between Peter and her father, providing visual evidence of the beginning of the West European classical tradition in Russia. According to Roger Tavernier, Peter the Great later acquired De Wilde's collection.Thanks to the mediation of Nicolaes Witsen, mayor of Amsterdam and an expert on Russia, the Tsar was given the opportunity to gain practical experience in the largest shipyard in the world, belonging to the Dutch East India Company, for a period of four months. The Tsar helped with the construction of an East Indiaman ship specially laid down for him: Peter and Paul. During his stay the Tsar engaged many skilled workers such as builders of locks, fortresses, shipwrights, and seamen—including Cornelis Cruys, a viceadmiral who became, under Franz Lefort, the Tsar's advisor in maritime affairs. Peter later put his knowledge of shipbuilding to use in helping build Russia's navy. Peter paid a visit to surgeon Frederik Ruysch, who taught him how to draw teeth and catch butterflies, and to Ludolf Bakhuysen, a painter of seascapes. Jan van der Heyden, the inventor of the fire hose, received Peter, who was keen to learn and pass on his knowledge to his countrymen. On  January  Peter organized a farewell party and invited Johan Huydecoper van Maarsseveen, who had to sit between Lefort and the Tsar and drink.\n",
            "\n",
            "In England, Peter met with King William III, visited Greenwich and Oxford, posed for Sir Godfrey Kneller, and saw a Royal Navy Fleet Review at Deptford. He studied the English techniques of citybuilding he would later use to great effect at Saint Petersburg.The Embassy next went to Leipzig, Dresden, Prague and Vienna. Peter spoke with Augustus II the Strong and Leopold I, Holy Roman Emperor.Peter's visit was cut short in , when he was forced to rush home by a rebellion of the Streltsy. The rebellion was easily crushed before Peter returned home from England; of the Tsar's troops, only one was killed. Peter nevertheless acted ruthlessly towards the mutineers. Over one thousand two hundred of the rebels were tortured and executed, and Peter ordered that their bodies be publicly exhibited as a warning to future conspirators. The Streltsy were disbanded, some of the rebels were deported to Siberia, and the individual they sought to put on the Throne —\n",
            "Peter's halfsister Sophia — was forced to become a nun.\n",
            "\n",
            "In , Peter sent a delegation to Malta, under boyar Boris Sheremetev, to observe the training and abilities of the Knights of Malta and their fleet. Sheremetev investigated the possibility of future joint ventures with the Knights, including action against the Turks and the possibility of a future Russian naval base.Peter's visits to the West impressed upon him the notion that European customs were in several respects superior to Russian traditions. He commanded all of his courtiers and officials to wear European clothing and cut off their long beards, causing his Boyars, who were very fond of their beards, great upset. Boyars who sought to retain their beards were required to pay an annual beard tax of one hundred rubles. Peter also sought to end arranged marriages, which were the norm among the Russian nobility, because he thought such a practice was barbaric and led to domestic violence, since the partners usually resented each other.In , Peter changed the date of the celebration of the new year from  September to  January. Traditionally, the years were reckoned from the purported creation of the World, but after Peter's reforms, they were to be counted from the birth of Christ. Thus, in the year  of the old Russian calendar, Peter proclaimed that the Julian Calendar was in effect and the year was .\n",
            "\n",
            "\n",
            " Great Northern War \n",
            "\n",
            "Peter made a temporary peace with the Ottoman Empire that allowed him to keep the captured fort of Azov, and turned his attention to Russian maritime supremacy. He sought to acquire control of the Baltic Sea, which had been taken by the Swedish Empire a halfcentury earlier. Peter declared war on Sweden, which was at the time led by the young King Charles XII. Sweden was also opposed by Denmark–Norway, Saxony, and the Polish–Lithuanian Commonwealth.\n",
            "\n",
            "Russia was illprepared to fight the Swedes, and their first attempt at seizing the Baltic coast ended in disaster at the Battle of Narva in . In the conflict, the forces of Charles XII, rather than employ a slow methodical siege, attacked immediately using a blinding snowstorm to their advantage. After the battle, Charles XII decided to concentrate his forces against the Polish–Lithuanian Commonwealth, which gave Peter time to reorganize the Russian army.\n",
            "While the Poles fought the Swedes, Peter founded the city of Saint Petersburg in , in Ingermanland (a province of the Swedish Empire that he had captured). It was named after his patron saint Saint Peter. He forbade the building of stone edifices outside Saint Petersburg, which he intended to become Russia's capital, so that all stonemasons could participate in the construction of the new city. Peter moved the capital to St. Petersburg in . While the city was being built he lived in a threeroom log cabin with Catherine, where she did the cooking and caring for the children, and he tended a garden as though they were an ordinary couple. Between  and , and from  to , Saint Petersburg was the capital of imperial Russia.\n",
            "\n",
            "Following several defeats, Polish King Augustus II the Strong abdicated in . Swedish king Charles XII turned his attention to Russia, invading it in . After crossing into Russia, Charles defeated Peter at Golovchin in July. In the Battle of Lesnaya, Charles suffered his first loss after Peter crushed a group of Swedish reinforcements marching from Riga. Deprived of this aid, Charles was forced to abandon his proposed march on Moscow.Charles XII refused to retreat to Poland or back to Sweden and instead invaded Ukraine. Peter withdrew his army southward, employing scorched earth, destroying along the way anything that could assist the Swedes. Deprived of local supplies, the Swedish army was forced to halt its advance in the winter of –. In the summer of , they resumed their efforts to capture Russianruled Ukraine, culminating in the Battle of Poltava on  June. The battle was a decisive defeat for the Swedish forces, ending Charles' campaign in Ukraine and forcing him south to seek refuge in the Ottoman Empire. Russia had defeated what was considered to be one of the world's best militaries, and the victory overturned the view that Russia was militarily incompetent. In Poland, Augustus II was restored as King.\n",
            "\n",
            "Peter, overestimating the support he would receive from his Balkan allies, attacked the Ottoman Empire, initiating the RussoTurkish War of . Peter's campaign in the Ottoman Empire was disastrous, and in the ensuing Treaty of the Pruth, Peter was forced to return the Black Sea ports he had seized in . In return, the Sultan expelled Charles XII.\n",
            "Normally, the Boyar Duma would have exercised power during his absence. Peter, however, mistrusted the boyars; he instead abolished the Duma and created a Senate of ten members. The Senate was founded as the highest state institution to supervise all judicial, financial and administrative affairs. Originally established only for the time of the monarch's absence, the Senate became a permanent body after his return. A special high official, the OberProcurator, served as the link between the ruler and the senate and acted, in Peter own words, as the sovereign's eye. Without his signature no Senate decision could go into effect; the Senate became one of the most important institutions of Imperial Russia.\n",
            "\n",
            "Peter's northern armies took the Swedish province of Livonia (the northern half of modern Latvia, and the southern half of modern Estonia), driving the Swedes into Finland. In  the Russian fleet won the Battle of Gangut. Most of Finland was occupied by the Russians.\n",
            "In  and , the Tsar revisited the Netherlands and went to see Herman Boerhaave. He continued his travel to the Austrian Netherlands and France, where he obtained many books and proposed a marriage between his daughter and King Louis XV. Peter obtained the assistance of the Electorate of Hanover and the Kingdom of Prussia.\n",
            "The Tsar's navy was powerful enough that the Russians could penetrate Sweden. Still, Charles XII refused to yield, and not until his death in battle in  did peace become feasible. After the battle near Åland, Sweden made peace with all powers but Russia by . In , the Treaty of Nystad ended the Great Northern War. Russia acquired Ingria, Estonia, Livonia, and a substantial portion of Karelia. In turn, Russia paid two million Riksdaler and surrendered most of Finland. The Tsar retained some Finnish lands close to Saint Petersburg, which he had made his capital in .\n",
            "\n",
            "\n",
            " Later years \n",
            "\n",
            "Peter's last years were marked by further reform in Russia. On  October , soon after peace was made with Sweden, he was officially proclaimed Emperor of All Russia. Some proposed that he take the title Emperor of the East, but he refused. Gavrila Golovkin, the State Chancellor, was the first to add the Great, Father of His Country, Emperor of All the Russias to Peter's traditional title Tsar following a speech by the archbishop of Pskov in . Peter's imperial title was recognized by Augustus II of Poland, Frederick William I of Prussia, and Frederick I of Sweden, but not by the other European monarchs. In the minds of many, the word emperor connoted superiority or preeminence over kings. Several rulers feared that Peter would claim authority over them, just as the Holy Roman Emperor had claimed suzerainty over all Christian nations.\n",
            "In , Alexander BekovichCherkassky led the first Russian military expedition into Central Asia against the Khanate of Khiva. The expedition ended in complete disaster when the entire expeditionary force was slaughtered.\n",
            "In , Peter investigated why the formerly Swedish province of Livonia was so orderly. He discovered that the Swedes spent as much administering Livonia ( times smaller than his empire) as he spent on the entire Russian bureaucracy. He was forced to dismantle the province's government.After , Peter established colleges in place of the old central agencies of government, including foreign affairs, war, navy, expense, income, justice, and inspection. Later others were added. Each college consisted of a president, a vicepresident, a number of councilors and assessors, and a procurator. Some foreigners were included in various colleges but not as president. Peter believed he did not have enough loyal and talented persons to put in full charge of the various departments. Peter preferred to rely on groups of individuals who would keep check on one another. Decisions depended on the majority vote.\n",
            "In , Peter created a new order of precedence known as the Table of Ranks. Formerly, precedence had been determined by birth. To deprive the Boyars of their high positions, Peter directed that precedence should be determined by merit and service to the Emperor. The Table of Ranks continued to remain in effect until the Russian monarchy was overthrown in .\n",
            "Peter decided that all of the children of the nobility should have some early education, especially in the areas of sciences. Therefore, on  February , he issued a decree calling for compulsory education, which dictated that all Russian  to yearold children of the nobility, government clerks, and lesserranked officials must learn basic mathematics and geometry, and should be tested on the subjects at the end of their studies.The once powerful Persian Safavid Empire to the south was in deep decline. Taking advantage of the profitable situation, Peter launched the RussoPersian War of –, otherwise known as The Persian Expedition of Peter the Great, which drastically increased Russian influence for the first time in the Caucasus and Caspian Sea region, and prevented the Ottoman Empire from making territorial gains in the region. After considerable success and the capture of many provinces and cities in the Caucasus and northern mainland Persia, the Safavids were forced to hand over territory to Russia, comprising Derbent, Shirvan, Gilan, Mazandaran, Baku, and Astrabad. However, within twelve years all the territories would be ceded back to Persia, now led by the charismatic military genius Nader Shah, as part of the Treaties of Resht and Ganja respectively, and the RussoPersian alliance against the Ottoman Empire, which was the common enemy of both.Peter introduced new taxes to fund improvements in Saint Petersburg. He abolished the land tax and household tax and replaced them with a poll tax. The taxes on land and on households were payable only by individuals who owned property or maintained families; the new head taxes, however, were payable by serfs and paupers. In  the construction of Peterhof, a palace near Saint Petersburg, was completed. Peterhof (Dutch for Peter's Court) was a grand residence, becoming known as the Russian Versailles.\n",
            "\n",
            "\n",
            " Illness and death \n",
            "\n",
            "In the winter of , Peter, whose overall health was never robust, began having problems with his urinary tract and bladder. In the summer of , a team of doctors performed surgery releasing upwards of four pounds of blocked urine. Peter remained bedridden until late autumn. In the first week of October, restless and certain he was cured, Peter began a lengthy inspection tour of various projects. According to legend, in November, at Lakhta along the Finnish Gulf to inspect some ironworks, Peter saw a group of soldiers drowning near shore and, wading out into nearwaist deep water, came to their rescue.This icy water rescue is said to have exacerbated Peter's bladder problems and caused his death. The story, however, has been viewed with skepticism by some historians, pointing out that the German chronicler Jacob von Staehlin is the only source for the story, and it seems unlikely that no one else would have documented such an act of heroism. This, plus the interval of time between these actions and Peter's death seems to preclude any direct link.In early January , Peter was struck once again with uremia. Legend has it that before lapsing into unconsciousness Peter asked for a paper and pen and scrawled an unfinished note that read: Leave all to ... and then, exhausted by the effort, asked for his daughter Anna to be summoned.Peter died between four and five in the morning  February . An autopsy revealed his bladder to be infected with gangrene. He was fiftytwo years, seven months old when he died, having reigned fortytwo years. He is interred in Saints Peter and Paul Cathedral, Saint Petersburg, Russia.\n",
            "\n",
            "\n",
            " Religion \n",
            "\n",
            "Peter founded The AllJoking, AllDrunken Synod of Fools and Jesters, an organization that mocked the Orthodox and Catholic Church when he was eighteen. In January , Peter refused to partake in a traditional Russian Orthodox ceremony of the Epiphany Ceremony, and would often schedule events for The AllJoking, AllDrunken Synod of Fools and Jesters to directly conflict with the Church.Peter was brought up in the Russian Orthodox faith, but he had low regard for the Church hierarchy, which he kept under tight governmental control. The traditional leader of the Church was the Patriarch of Moscow. In , when the office fell vacant, Peter refused to name a replacement, allowing the Patriarch's Coadjutor (or deputy) to discharge the duties of the office. Peter could not tolerate the patriarch exercising power superior to the Tsar, as indeed had happened in the case of Philaret (–) and Nikon (–). The Church reform of Peter the Great therefore abolished the Patriarchy, replacing it with a Holy Synod that was under the control of a Procurator, and the Tsar appointed all bishops.In , Peter followed the advice of Theophan Prokopovich in designing the Holy Synod as a council of ten clergymen. For leadership in the church, Peter turned increasingly to Ukrainians, who were more open to reform, but were not well loved by the Russian clergy. Peter implemented a law that stipulated that no Russian man could join a monastery before the age of fifty. He felt that too many able Russian men were being wasted on clerical work when they could be joining his new and improved army.A clerical career was not a route chosen by upperclass society. Most parish priests were sons of priests, were very poorly educated, and very poorly paid. The monks in the monasteries had a slightly higher status; they were not allowed to marry. Politically, the church was impotent.\n",
            "\n",
            "\n",
            " Marriages and family \n",
            "\n",
            "Peter the Great had two wives, with whom he had fourteen children, three of whom survived to adulthood. Peter's mother selected his first wife, Eudoxia Lopukhina, with the advice of other nobles in . This was consistent with previous Romanov tradition by choosing a daughter of a minor noble. This was done to prevent fighting between the stronger noble houses and to bring fresh blood into the family. He also had a mistress from Holland, Anna Mons.Upon his return from his European tour in , Peter sought to end his unhappy marriage. He divorced the Tsaritsa and forced her to join a convent. The Tsaritsa had borne Peter three children, although only one, Alexei Petrovich, Tsarevich of Russia, had survived past his childhood.\n",
            "He took Marta Helena Skowrońska, a PolishLithuanian peasant, as a mistress some time between  and . Marta converted to the Russian Orthodox Church and took the name Catherine. Though no record exists, Catherine and Peter are described as having married secretly between  Oct and  December  in St. Petersburg. Peter valued Catherine and married her again (this time officially) at Saint Isaac's Cathedral in Saint Petersburg on  February .\n",
            "His eldest child and heir, Alexei, was suspected of being involved in a plot to overthrow the Emperor. Alexei was tried and confessed under torture during questioning conducted by a secular court. He was convicted and sentenced to be executed. The sentence could be carried out only with Peter's signed authorization, and Alexei died in prison, as Peter hesitated before making the decision. Alexei's death most likely resulted from injuries suffered during his torture. Alexei's mother Eudoxia had also been punished; she was dragged from her home, tried on false charges of adultery, publicly flogged, and finally confined in monasteries while forbidden to be talked to.\n",
            "In , Peter had his second wife, Catherine, crowned as Empress, although he remained Russia's actual ruler. All of Peter's male children had died.\n",
            "\n",
            "\n",
            " Issue \n",
            "By his two wives, he had fourteen children. These included three sons named Pavel and three sons named Peter, all of whom died in infancy.  Only three  of his children survived to adulthood: Alexei, Anna Petrovna, and Elizabeth. He had only two grandchildren: Peter II and Peter III.\n",
            "\n",
            "\n",
            " Mistresses and illegitimate children \n",
            "Princess Maria Cantemir of Moldavia ( – ), daughter of Dimitrie CantemirUnnamed son ( – ) – who died prematurely. According to other sources, the baby was stilborn.\n",
            "Lady Mary Hamilton, Catherina I's lady in waiting of Scottish descent.miscarriage ()\n",
            "Unnamed child ( – )\n",
            "Unnamed child\n",
            "\n",
            "\n",
            " Legacy \n",
            "\n",
            "Peter's legacy has always been a major concern of Russian intellectuals. Riasanovsky points to a paradoxical dichotomy in the black and white images such as God/Antichrist, educator/ignoramus, architect of Russia's greatness/destroyer of national culture, father of his country/scourge of the common man. Voltaire's  biography gave thcentury Russians a man of the Enlightenment, while Alexander Pushkin's The Bronze Horseman poem of  gave a powerful romantic image of a creatorgod. Slavophiles in midth century deplored Peter's westernization of Russia. Western writers and political analysts recounted The Testimony or secret will of Peter the Great. It supposedly revealed his grand evil plot for Russia to control the world via conquest of Constantinople, Afghanistan and India. It was a forgery made in Paris at Napoleon's command when he started his invasion of Russia in . Nevertheless, it is still quoted in foreign policy circles. The Communists executed the last Romanovs, and their historians such as Mikhail Pokrovsky presented strongly negative views of the entire dynasty. Stalin however admired how Peter strengthened the state, and wartime, diplomacy, industry, higher education, and government administration. Stalin wrote in , when Peter the Great, who had to deal with more developed countries in the West, feverishly built works in factories for supplying the army and strengthening the country's defenses, this was an original attempt to leap out of the framework of backwardness. As a result, Soviet historiography emphasizes both the positive achievement and the negative factor of oppressing the common people.After the fall of Communism in , scholars and the general public in Russia and the West gave fresh attention to Peter and his role in Russian history. His reign is now seen as the decisive formative event in the Russian imperial past. Many new ideas have merged, such as whether he strengthened the autocratic state or whether the tsarist regime was not statist enough given its small bureaucracy. Modernization models have become contested ground. Historian Ia. Vodarsky said in  that Peter, did not lead the country on the path of accelerated economic, political and social development, did not force it to 'achieve a leap' through several stages.... On the contrary, these actions to the greatest degree put a brake on Russia's progress and created conditions for holding it back for one and a half centuries!  The autocratic powers that Stalin admired appeared as a liability to Evgeny Anisimov, who complained that Peter was, the creator of the administrative command system and the true ancestor of Stalin.While the cultural turn in historiography has downplayed diplomatic, economic and constitutional issues, new cultural roles have been found for Peter, for example in architecture and dress. James Cracraft argues:\n",
            "\n",
            "The Petrine revolution in Russia—subsuming in this phrase the many military, naval, governmental, educational, architectural, linguistic, and other internal reforms enacted by Peter’s regime to promote Russia’s rise as a major European power—was essentially a cultural revolution, one that profoundly impacted both the basic constitution of the Russian Empire and, perforce, its subsequent development.\n",
            "\n",
            "\n",
            " \n"
          ]
        }
      ]
    },
    {
      "cell_type": "code",
      "source": [
        "clean_text = stripped"
      ],
      "metadata": {
        "id": "z0dBIweRe1Vy"
      },
      "execution_count": null,
      "outputs": []
    },
    {
      "cell_type": "markdown",
      "source": [
        "trying different models on the data"
      ],
      "metadata": {
        "id": "vO48aFMlSGua"
      }
    },
    {
      "cell_type": "code",
      "source": [
        "#adding the key-phrases each model genrate to key_phrases list\n",
        "def add_res(res):    \n",
        "  for tup in res:\n",
        "    key_phrases.append(tup[0])"
      ],
      "metadata": {
        "id": "LYtq2NMUneOF"
      },
      "execution_count": null,
      "outputs": []
    },
    {
      "cell_type": "code",
      "source": [
        "res = extractorRes(pke.unsupervised.TopicRank(), clean_text)\n",
        "\n",
        "add_res(res)\n",
        "res"
      ],
      "metadata": {
        "colab": {
          "base_uri": "https://localhost:8080/"
        },
        "id": "FWYLWkeqE_WL",
        "outputId": "3a9d18ea-742b-4ada-acb9-cf4a345d120a"
      },
      "execution_count": null,
      "outputs": [
        {
          "output_type": "execute_result",
          "data": {
            "text/plain": [
              "[('peter', 0.07135302993238939),\n",
              " ('russia', 0.023790943351598447),\n",
              " ('tsar', 0.010653661526372432),\n",
              " ('great', 0.008951067028740626),\n",
              " ('russian affairs', 0.008516721562118766),\n",
              " ('year', 0.00724700750285116),\n",
              " ('childless king charles ii', 0.006670659975416847),\n",
              " ('saint petersburg', 0.006244586669613497),\n",
              " ('time', 0.005426281516183864),\n",
              " ('mock battles', 0.00527493859359258)]"
            ]
          },
          "metadata": {},
          "execution_count": 29
        }
      ]
    },
    {
      "cell_type": "code",
      "source": [
        "key_phrases"
      ],
      "metadata": {
        "colab": {
          "base_uri": "https://localhost:8080/"
        },
        "id": "A_pz-HlUoJBE",
        "outputId": "d62628b6-322a-49a9-93b9-a9ffe06bcf2f"
      },
      "execution_count": null,
      "outputs": [
        {
          "output_type": "execute_result",
          "data": {
            "text/plain": [
              "['peter',\n",
              " 'russia',\n",
              " 'tsar',\n",
              " 'great',\n",
              " 'russian affairs',\n",
              " 'year',\n",
              " 'childless king charles ii',\n",
              " 'saint petersburg',\n",
              " 'time',\n",
              " 'mock battles']"
            ]
          },
          "metadata": {},
          "execution_count": 30
        }
      ]
    },
    {
      "cell_type": "code",
      "source": [
        "res = extractorRes(pke.unsupervised.TfIdf(), clean_text)\n",
        "\n",
        "add_res(res)\n",
        "res"
      ],
      "metadata": {
        "colab": {
          "base_uri": "https://localhost:8080/"
        },
        "id": "69ZwXxDwP7sl",
        "outputId": "190fb3a2-39c5-4d90-a95a-c737c4a26a8b"
      },
      "execution_count": null,
      "outputs": [
        {
          "output_type": "stream",
          "name": "stderr",
          "text": [
            "WARNING:root:LoadFile._df_counts is hard coded to /usr/local/lib/python3.7/dist-packages/pke/models/df-semeval2010.tsv.gz\n"
          ]
        },
        {
          "output_type": "execute_result",
          "data": {
            "text/plain": [
              "[('peter', 859.0073635120759),\n",
              " ('russia', 315.91599996065713),\n",
              " ('russian', 265.6566363305526),\n",
              " ('tsar', 117.41827271028376),\n",
              " ('saint', 100.51872726020909),\n",
              " ('petersburg', 100.51872726020909),\n",
              " ('ottoman', 93.33881817019414),\n",
              " ('charles', 86.15890908017921),\n",
              " ('emperor', 71.79909090014934),\n",
              " ('saint petersburg', 71.79909090014934)]"
            ]
          },
          "metadata": {},
          "execution_count": 31
        }
      ]
    },
    {
      "cell_type": "code",
      "source": [
        "res = extractorRes(pke.unsupervised.TextRank(), clean_text)\n",
        "\n",
        "add_res(res)\n",
        "res"
      ],
      "metadata": {
        "colab": {
          "base_uri": "https://localhost:8080/"
        },
        "id": "2RB7TFW8I5TW",
        "outputId": "1e77b19c-7a95-4543-81df-e4c181f17d25"
      },
      "execution_count": null,
      "outputs": [
        {
          "output_type": "execute_result",
          "data": {
            "text/plain": [
              "[('first russian university—saint petersburg state university—was',\n",
              "  0.03187647165660241),\n",
              " ('first russian military expedition', 0.02721513257827835),\n",
              " ('first russian navy base', 0.0254060001589811),\n",
              " ('traditional russian orthodox ceremony', 0.02520122686252698),\n",
              " ('many able russian men', 0.023021068636437367),\n",
              " ('russian orthodox church', 0.02257613641059369),\n",
              " ('imperial russian navy', 0.021987649631581833),\n",
              " ('future russian naval base', 0.02145035290141131),\n",
              " ('russian maritime supremacy', 0.021382322673681273),\n",
              " ('old russian calendar', 0.02113772265503015)]"
            ]
          },
          "metadata": {},
          "execution_count": 32
        }
      ]
    },
    {
      "cell_type": "code",
      "source": [
        "res = extractorRes(pke.unsupervised.MultipartiteRank(), clean_text)\n",
        "add_res(res)\n",
        "res"
      ],
      "metadata": {
        "id": "g1oXU0HuGIcl",
        "colab": {
          "base_uri": "https://localhost:8080/"
        },
        "outputId": "d883ec52-ae71-4253-8ce0-cdb70db4f4b8"
      },
      "execution_count": null,
      "outputs": [
        {
          "output_type": "execute_result",
          "data": {
            "text/plain": [
              "[('peter', 0.06161833456608912),\n",
              " ('russia', 0.02057261311384421),\n",
              " ('tsar', 0.009040080657816908),\n",
              " ('great', 0.007510502132458189),\n",
              " ('russian affairs', 0.0069330247036400935),\n",
              " ('year', 0.00638045697142905),\n",
              " ('european power', 0.005977096546583567),\n",
              " ('childless king charles ii', 0.005210240792132157),\n",
              " ('sovereign', 0.005104505340017552),\n",
              " ('saint petersburg', 0.004842704782741946)]"
            ]
          },
          "metadata": {},
          "execution_count": 33
        }
      ]
    },
    {
      "cell_type": "code",
      "source": [
        "res = extractorRes(pke.unsupervised.TopicalPageRank(), clean_text)#not a good model\n",
        "add_res(res)\n",
        "res"
      ],
      "metadata": {
        "colab": {
          "base_uri": "https://localhost:8080/"
        },
        "id": "3VdzoV8fGWpb",
        "outputId": "840b449e-8fea-4b53-ad0a-ed7ff6fbed38"
      },
      "execution_count": null,
      "outputs": [
        {
          "output_type": "stream",
          "name": "stderr",
          "text": [
            "WARNING:root:LDA model is hard coded to /usr/local/lib/python3.7/dist-packages/pke/models/lda-1000-semeval2010.py3.pickle.gz\n",
            "/usr/local/lib/python3.7/dist-packages/sklearn/feature_extraction/text.py:401: UserWarning: Your stop_words may be inconsistent with your preprocessing. Tokenizing the stop words generated tokens ['ll', 've'] not in stop_words.\n",
            "  % sorted(inconsistent)\n"
          ]
        },
        {
          "output_type": "execute_result",
          "data": {
            "text/plain": [
              "[('patron saint saint peter', 0.05651392416833641),\n",
              " ('peter time', 0.05331249217164752),\n",
              " ('saints peter', 0.05242730900142204),\n",
              " ('peter ii', 0.051176375886511624),\n",
              " ('peter i', 0.05023917299760111),\n",
              " ('peter iii', 0.05015894845666127),\n",
              " ('czar peter house', 0.049800285152290874),\n",
              " ('unconsciousness peter', 0.04932936143214954),\n",
              " ('yearold peter', 0.04927804702325047),\n",
              " ('peter', 0.04865924135619288)]"
            ]
          },
          "metadata": {},
          "execution_count": 34
        }
      ]
    },
    {
      "cell_type": "code",
      "source": [
        "res = extractorRes(pke.unsupervised.KPMiner(), clean_text) \n",
        "add_res(res)\n",
        "res"
      ],
      "metadata": {
        "colab": {
          "base_uri": "https://localhost:8080/"
        },
        "id": "-i56EoiNGwFG",
        "outputId": "f980b9ce-fdd3-4be0-96af-09ad0711476d"
      },
      "execution_count": null,
      "outputs": [
        {
          "output_type": "stream",
          "name": "stderr",
          "text": [
            "WARNING:root:LoadFile._df_counts is hard coded to /usr/local/lib/python3.7/dist-packages/pke/models/df-semeval2010.tsv.gz\n"
          ]
        },
        {
          "output_type": "execute_result",
          "data": {
            "text/plain": [
              "[('peter', 859.0073635120759),\n",
              " ('russia', 315.91599996065713),\n",
              " ('russian', 265.6566363305526),\n",
              " ('saint petersburg', 215.39727270044804),\n",
              " ('tsar', 117.41827271028376),\n",
              " ('saint', 100.51872726020909),\n",
              " ('petersburg', 100.51872726020909),\n",
              " ('emperor', 71.79909090014934),\n",
              " ('ivan', 64.6191818101344),\n",
              " ('baltic sea', 64.6191818101344)]"
            ]
          },
          "metadata": {},
          "execution_count": 35
        }
      ]
    },
    {
      "cell_type": "code",
      "source": [
        "res = extractorRes(pke.unsupervised.FirstPhrases(), clean_text) #bad\n",
        "add_res(res)\n",
        "res"
      ],
      "metadata": {
        "colab": {
          "base_uri": "https://localhost:8080/"
        },
        "id": "CmfiALJAHEnH",
        "outputId": "2bd0d2f0-e592-41e9-978f-d4b393674520"
      },
      "execution_count": null,
      "outputs": [
        {
          "output_type": "execute_result",
          "data": {
            "text/plain": [
              "[('peter', 0),\n",
              " ('june', -3),\n",
              " ('o.s.', -5),\n",
              " ('may', -7),\n",
              " ('february', -12),\n",
              " ('january', -16),\n",
              " ('great', -26),\n",
              " ('monarch', -30),\n",
              " ('russia', -32),\n",
              " ('european power', -40)]"
            ]
          },
          "metadata": {},
          "execution_count": 36
        }
      ]
    },
    {
      "cell_type": "code",
      "source": [
        "res = extractorRes(pke.unsupervised.SingleRank(), clean_text) #not very good results\n",
        "add_res(res)\n",
        "res"
      ],
      "metadata": {
        "colab": {
          "base_uri": "https://localhost:8080/"
        },
        "id": "NeZBboQSHdHv",
        "outputId": "25132c5f-95ae-419e-a901-983fb0f14afc"
      },
      "execution_count": null,
      "outputs": [
        {
          "output_type": "execute_result",
          "data": {
            "text/plain": [
              "[('patron saint saint peter', 0.05721869759395612),\n",
              " ('saints peter', 0.052765245893986186),\n",
              " ('peter time', 0.05265993144971347),\n",
              " ('peter ii', 0.05116911548385358),\n",
              " ('peter i', 0.05059309664199532),\n",
              " ('czar peter house', 0.050136135010315705),\n",
              " ('peter own words', 0.05006612940239315),\n",
              " ('peter iii', 0.05006582618103692),\n",
              " ('yearold peter', 0.04938082024516873),\n",
              " ('unconsciousness peter', 0.04929523359879937)]"
            ]
          },
          "metadata": {},
          "execution_count": 37
        }
      ]
    },
    {
      "cell_type": "code",
      "source": [
        "key_phrases"
      ],
      "metadata": {
        "colab": {
          "base_uri": "https://localhost:8080/"
        },
        "id": "Nav-6DbXOPVN",
        "outputId": "24dd0e8a-8bce-4212-91b0-f8907814f38d"
      },
      "execution_count": null,
      "outputs": [
        {
          "output_type": "execute_result",
          "data": {
            "text/plain": [
              "['peter',\n",
              " 'russia',\n",
              " 'tsar',\n",
              " 'great',\n",
              " 'russian affairs',\n",
              " 'year',\n",
              " 'childless king charles ii',\n",
              " 'saint petersburg',\n",
              " 'time',\n",
              " 'mock battles',\n",
              " 'peter',\n",
              " 'russia',\n",
              " 'russian',\n",
              " 'tsar',\n",
              " 'saint',\n",
              " 'petersburg',\n",
              " 'ottoman',\n",
              " 'charles',\n",
              " 'emperor',\n",
              " 'saint petersburg',\n",
              " 'first russian university—saint petersburg state university—was',\n",
              " 'first russian military expedition',\n",
              " 'first russian navy base',\n",
              " 'traditional russian orthodox ceremony',\n",
              " 'many able russian men',\n",
              " 'russian orthodox church',\n",
              " 'imperial russian navy',\n",
              " 'future russian naval base',\n",
              " 'russian maritime supremacy',\n",
              " 'old russian calendar',\n",
              " 'peter',\n",
              " 'russia',\n",
              " 'tsar',\n",
              " 'great',\n",
              " 'russian affairs',\n",
              " 'year',\n",
              " 'european power',\n",
              " 'childless king charles ii',\n",
              " 'sovereign',\n",
              " 'saint petersburg',\n",
              " 'patron saint saint peter',\n",
              " 'peter time',\n",
              " 'saints peter',\n",
              " 'peter ii',\n",
              " 'peter i',\n",
              " 'peter iii',\n",
              " 'czar peter house',\n",
              " 'unconsciousness peter',\n",
              " 'yearold peter',\n",
              " 'peter',\n",
              " 'peter',\n",
              " 'russia',\n",
              " 'russian',\n",
              " 'saint petersburg',\n",
              " 'tsar',\n",
              " 'saint',\n",
              " 'petersburg',\n",
              " 'emperor',\n",
              " 'ivan',\n",
              " 'baltic sea',\n",
              " 'peter',\n",
              " 'june',\n",
              " 'o.s.',\n",
              " 'may',\n",
              " 'february',\n",
              " 'january',\n",
              " 'great',\n",
              " 'monarch',\n",
              " 'russia',\n",
              " 'european power',\n",
              " 'patron saint saint peter',\n",
              " 'saints peter',\n",
              " 'peter time',\n",
              " 'peter ii',\n",
              " 'peter i',\n",
              " 'czar peter house',\n",
              " 'peter own words',\n",
              " 'peter iii',\n",
              " 'yearold peter',\n",
              " 'unconsciousness peter']"
            ]
          },
          "metadata": {},
          "execution_count": 38
        }
      ]
    },
    {
      "cell_type": "code",
      "source": [
        "from collections import Counter\n",
        "count = Counter(key_phrases)\n",
        "count.most_common()"
      ],
      "metadata": {
        "colab": {
          "base_uri": "https://localhost:8080/"
        },
        "id": "YU3j2QcfpWGA",
        "outputId": "c353c980-3499-4458-83df-7bb0e9013ff0"
      },
      "execution_count": null,
      "outputs": [
        {
          "output_type": "execute_result",
          "data": {
            "text/plain": [
              "[('peter', 6),\n",
              " ('russia', 5),\n",
              " ('tsar', 4),\n",
              " ('saint petersburg', 4),\n",
              " ('great', 3),\n",
              " ('russian affairs', 2),\n",
              " ('year', 2),\n",
              " ('childless king charles ii', 2),\n",
              " ('russian', 2),\n",
              " ('saint', 2),\n",
              " ('petersburg', 2),\n",
              " ('emperor', 2),\n",
              " ('european power', 2),\n",
              " ('patron saint saint peter', 2),\n",
              " ('peter time', 2),\n",
              " ('saints peter', 2),\n",
              " ('peter ii', 2),\n",
              " ('peter i', 2),\n",
              " ('peter iii', 2),\n",
              " ('czar peter house', 2),\n",
              " ('unconsciousness peter', 2),\n",
              " ('yearold peter', 2),\n",
              " ('time', 1),\n",
              " ('mock battles', 1),\n",
              " ('ottoman', 1),\n",
              " ('charles', 1),\n",
              " ('first russian university—saint petersburg state university—was', 1),\n",
              " ('first russian military expedition', 1),\n",
              " ('first russian navy base', 1),\n",
              " ('traditional russian orthodox ceremony', 1),\n",
              " ('many able russian men', 1),\n",
              " ('russian orthodox church', 1),\n",
              " ('imperial russian navy', 1),\n",
              " ('future russian naval base', 1),\n",
              " ('russian maritime supremacy', 1),\n",
              " ('old russian calendar', 1),\n",
              " ('sovereign', 1),\n",
              " ('ivan', 1),\n",
              " ('baltic sea', 1),\n",
              " ('june', 1),\n",
              " ('o.s.', 1),\n",
              " ('may', 1),\n",
              " ('february', 1),\n",
              " ('january', 1),\n",
              " ('monarch', 1),\n",
              " ('peter own words', 1)]"
            ]
          },
          "metadata": {},
          "execution_count": 39
        }
      ]
    },
    {
      "cell_type": "code",
      "source": [
        "#sorting the results\n",
        "key_phrases_dct = dict(count.most_common())\n",
        "key_phrases_dct"
      ],
      "metadata": {
        "colab": {
          "base_uri": "https://localhost:8080/"
        },
        "id": "uruSymo2vzKk",
        "outputId": "2506c9e3-e0ea-4f5f-ff21-6c3c4254946d"
      },
      "execution_count": null,
      "outputs": [
        {
          "output_type": "execute_result",
          "data": {
            "text/plain": [
              "{'peter': 6,\n",
              " 'russia': 5,\n",
              " 'tsar': 4,\n",
              " 'saint petersburg': 4,\n",
              " 'great': 3,\n",
              " 'russian affairs': 2,\n",
              " 'year': 2,\n",
              " 'childless king charles ii': 2,\n",
              " 'russian': 2,\n",
              " 'saint': 2,\n",
              " 'petersburg': 2,\n",
              " 'emperor': 2,\n",
              " 'european power': 2,\n",
              " 'patron saint saint peter': 2,\n",
              " 'peter time': 2,\n",
              " 'saints peter': 2,\n",
              " 'peter ii': 2,\n",
              " 'peter i': 2,\n",
              " 'peter iii': 2,\n",
              " 'czar peter house': 2,\n",
              " 'unconsciousness peter': 2,\n",
              " 'yearold peter': 2,\n",
              " 'time': 1,\n",
              " 'mock battles': 1,\n",
              " 'ottoman': 1,\n",
              " 'charles': 1,\n",
              " 'first russian university—saint petersburg state university—was': 1,\n",
              " 'first russian military expedition': 1,\n",
              " 'first russian navy base': 1,\n",
              " 'traditional russian orthodox ceremony': 1,\n",
              " 'many able russian men': 1,\n",
              " 'russian orthodox church': 1,\n",
              " 'imperial russian navy': 1,\n",
              " 'future russian naval base': 1,\n",
              " 'russian maritime supremacy': 1,\n",
              " 'old russian calendar': 1,\n",
              " 'sovereign': 1,\n",
              " 'ivan': 1,\n",
              " 'baltic sea': 1,\n",
              " 'june': 1,\n",
              " 'o.s.': 1,\n",
              " 'may': 1,\n",
              " 'february': 1,\n",
              " 'january': 1,\n",
              " 'monarch': 1,\n",
              " 'peter own words': 1}"
            ]
          },
          "metadata": {},
          "execution_count": 40
        }
      ]
    },
    {
      "cell_type": "code",
      "source": [
        "#we're gonna stick to the first 6 key_phrases\n",
        "keys_list = list(key_phrases_dct.keys())[:6]\n",
        "print(keys_list)"
      ],
      "metadata": {
        "colab": {
          "base_uri": "https://localhost:8080/"
        },
        "id": "RnIlCe_UwSDl",
        "outputId": "9561dda5-9af4-405f-956f-c605914effc3"
      },
      "execution_count": null,
      "outputs": [
        {
          "output_type": "stream",
          "name": "stdout",
          "text": [
            "['peter', 'russia', 'tsar', 'saint petersburg', 'great', 'russian affairs']\n"
          ]
        }
      ]
    },
    {
      "cell_type": "code",
      "source": [
        "!pip install flashtext"
      ],
      "metadata": {
        "colab": {
          "base_uri": "https://localhost:8080/"
        },
        "id": "Tk7JFVkQugpy",
        "outputId": "eaae02d3-ed20-41cb-b538-fef3db47beb9"
      },
      "execution_count": null,
      "outputs": [
        {
          "output_type": "stream",
          "name": "stdout",
          "text": [
            "Looking in indexes: https://pypi.org/simple, https://us-python.pkg.dev/colab-wheels/public/simple/\n",
            "Collecting flashtext\n",
            "  Downloading flashtext-2.7.tar.gz (14 kB)\n",
            "Building wheels for collected packages: flashtext\n",
            "  Building wheel for flashtext (setup.py) ... \u001b[?25l\u001b[?25hdone\n",
            "  Created wheel for flashtext: filename=flashtext-2.7-py2.py3-none-any.whl size=9309 sha256=ed89c14d87499689245ee4be17598661ab25255bfc07573b56b9cde024ee86bf\n",
            "  Stored in directory: /root/.cache/pip/wheels/cb/19/58/4e8fdd0009a7f89dbce3c18fff2e0d0fa201d5cdfd16f113b7\n",
            "Successfully built flashtext\n",
            "Installing collected packages: flashtext\n",
            "Successfully installed flashtext-2.7\n"
          ]
        }
      ]
    },
    {
      "cell_type": "code",
      "source": [
        "#getting the sentences associated with each key_phrase\n",
        "from nltk.tokenize import sent_tokenize\n",
        "from flashtext import KeywordProcessor\n",
        "import nltk\n",
        "nltk.download('punkt')\n",
        "\n",
        "def tokenize_sentences(text):\n",
        "    sentences = [sent_tokenize(text)]\n",
        "    sentences = [y for x in sentences for y in x]\n",
        "    # Remove any short sentences less than 20 letters.\n",
        "    sentences = [sentence.strip() for sentence in sentences if len(sentence) > 20]\n",
        "    return sentences\n",
        "\n",
        "def get_sentences_for_keyword(keywords, sentences):\n",
        "    keyword_processor = KeywordProcessor()\n",
        "    keyword_sentences = {}\n",
        "    for word in keywords:\n",
        "        keyword_sentences[word] = []\n",
        "        keyword_processor.add_keyword(word)\n",
        "    for sentence in sentences:\n",
        "        keywords_found = keyword_processor.extract_keywords(sentence)\n",
        "        for key in keywords_found:\n",
        "            keyword_sentences[key].append(sentence)\n",
        "\n",
        "    for key in keyword_sentences.keys():\n",
        "        values = keyword_sentences[key]\n",
        "        values = sorted(values, key=len, reverse=True)\n",
        "        keyword_sentences[key] = values\n",
        "    return keyword_sentences"
      ],
      "metadata": {
        "colab": {
          "base_uri": "https://localhost:8080/"
        },
        "id": "EKbmJ0vrqVfy",
        "outputId": "1b245853-39b4-4cdf-e84c-5596e2669769"
      },
      "execution_count": null,
      "outputs": [
        {
          "output_type": "stream",
          "name": "stderr",
          "text": [
            "[nltk_data] Downloading package punkt to /root/nltk_data...\n",
            "[nltk_data]   Unzipping tokenizers/punkt.zip.\n"
          ]
        }
      ]
    },
    {
      "cell_type": "code",
      "source": [
        "sentences = tokenize_sentences(clean_text)\n",
        "keyword_sentence_mapping = get_sentences_for_keyword(keys_list, sentences)\n",
        "        \n",
        "print(keyword_sentence_mapping)"
      ],
      "metadata": {
        "colab": {
          "base_uri": "https://localhost:8080/"
        },
        "id": "Wsp50XR7VyDd",
        "outputId": "b3aabf56-7b1d-4dcc-e89f-5c552c7af011"
      },
      "execution_count": null,
      "outputs": [
        {
          "output_type": "stream",
          "name": "stdout",
          "text": [
            "{'peter': ['Title \\nThe imperial title of Peter the Great was the following:\\nBy the grace of God, the most excellent and great sovereign emperor Pyotr Alekseevich the ruler of all the Russias: of Moscow, of Kiev, of Vladimir, of Novgorod, Tsar of Kazan, Tsar of Astrakhan and Tsar of Siberia, sovereign of Pskov, great prince of Smolensk, of Tver, of Yugorsk, of Perm, of Vyatka, of Bulgaria and others, sovereign and great prince of the Novgorod Lower lands, of Chernigov, of Ryazan, of Rostov, of Yaroslavl, of Belozersk, of Udora, of Kondia and the sovereign of all the northern lands, and the sovereign of the Iverian lands, of the Kartlian and Georgian Kings, of the Kabardin lands, of the Circassian and Mountain princes and many other states and lands western and eastern here and there and the successor and sovereign and ruler.', 'James Cracraft argues:\\n\\nThe Petrine revolution in Russia—subsuming in this phrase the many military, naval, governmental, educational, architectural, linguistic, and other internal reforms enacted by Peter’s regime to promote Russia’s rise as a major European power—was essentially a cultural revolution, one that profoundly impacted both the basic constitution of the Russian Empire and, perforce, its subsequent development.', 'The autocratic powers that Stalin admired appeared as a liability to Evgeny Anisimov, who complained that Peter was, the creator of the administrative command system and the true ancestor of Stalin.While the cultural turn in historiography has downplayed diplomatic, economic and constitutional issues, new cultural roles have been found for Peter, for example in architecture and dress.', 'The autocratic powers that Stalin admired appeared as a liability to Evgeny Anisimov, who complained that Peter was, the creator of the administrative command system and the true ancestor of Stalin.While the cultural turn in historiography has downplayed diplomatic, economic and constitutional issues, new cultural roles have been found for Peter, for example in architecture and dress.', 'In January , Peter refused to partake in a traditional Russian Orthodox ceremony of the Epiphany Ceremony, and would often schedule events for The AllJoking, AllDrunken Synod of Fools and Jesters to directly conflict with the Church.Peter was brought up in the Russian Orthodox faith, but he had low regard for the Church hierarchy, which he kept under tight governmental control.', 'In January , Peter refused to partake in a traditional Russian Orthodox ceremony of the Epiphany Ceremony, and would often schedule events for The AllJoking, AllDrunken Synod of Fools and Jesters to directly conflict with the Church.Peter was brought up in the Russian Orthodox faith, but he had low regard for the Church hierarchy, which he kept under tight governmental control.', \"In the subsequent conflict, some of Peter's relatives and friends were murdered, including Matveev, and Peter witnessed some of these acts of political violence.The Streltsy made it possible for Sophia, the Miloslavskys (the clan of Ivan) and their allies to insist that Peter and Ivan be proclaimed joint Tsars, with Ivan being acclaimed as the senior.\", \"In the subsequent conflict, some of Peter's relatives and friends were murdered, including Matveev, and Peter witnessed some of these acts of political violence.The Streltsy made it possible for Sophia, the Miloslavskys (the clan of Ivan) and their allies to insist that Peter and Ivan be proclaimed joint Tsars, with Ivan being acclaimed as the senior.\", \"In the subsequent conflict, some of Peter's relatives and friends were murdered, including Matveev, and Peter witnessed some of these acts of political violence.The Streltsy made it possible for Sophia, the Miloslavskys (the clan of Ivan) and their allies to insist that Peter and Ivan be proclaimed joint Tsars, with Ivan being acclaimed as the senior.\", 'However, within twelve years all the territories would be ceded back to Persia, now led by the charismatic military genius Nader Shah, as part of the Treaties of Resht and Ganja respectively, and the RussoPersian alliance against the Ottoman Empire, which was the common enemy of both.Peter introduced new taxes to fund improvements in Saint Petersburg.', \"Vodarsky said in  that Peter, did not lead the country on the path of accelerated economic, political and social development, did not force it to 'achieve a leap' through several stages.... On the contrary, these actions to the greatest degree put a brake on Russia's progress and created conditions for holding it back for one and a half centuries!\", \"According to Roger Tavernier, Peter the Great later acquired De Wilde's collection.Thanks to the mediation of Nicolaes Witsen, mayor of Amsterdam and an expert on Russia, the Tsar was given the opportunity to gain practical experience in the largest shipyard in the world, belonging to the Dutch East India Company, for a period of four months.\", 'Taking advantage of the profitable situation, Peter launched the RussoPersian War of –, otherwise known as The Persian Expedition of Peter the Great, which drastically increased Russian influence for the first time in the Caucasus and Caspian Sea region, and prevented the Ottoman Empire from making territorial gains in the region.', 'Taking advantage of the profitable situation, Peter launched the RussoPersian War of –, otherwise known as The Persian Expedition of Peter the Great, which drastically increased Russian influence for the first time in the Caucasus and Caspian Sea region, and prevented the Ottoman Empire from making territorial gains in the region.', \"Added to this were Peter's noticeable facial tics, and he may have suffered from petit mal seizures, a form of epilepsy.During his youth, Peter befriended Patrick Gordon, Franz Lefort and several other foreigners in Russian service and was a frequent guest in Moscow's German Quarter, where he met his Dutch mistress Anna Mons.\", \"Added to this were Peter's noticeable facial tics, and he may have suffered from petit mal seizures, a form of epilepsy.During his youth, Peter befriended Patrick Gordon, Franz Lefort and several other foreigners in Russian service and was a frequent guest in Moscow's German Quarter, where he met his Dutch mistress Anna Mons.\", \"Jacob de Wilde, a collectorgeneral with the Admiralty of Amsterdam, had a wellknown collection of art and coins, and De Wilde's daughter Maria de Wilde made an engraving of the meeting between Peter and her father, providing visual evidence of the beginning of the West European classical tradition in Russia.\", 'Peter also sought to end arranged marriages, which were the norm among the Russian nobility, because he thought such a practice was barbaric and led to domestic violence, since the partners usually resented each other.In , Peter changed the date of the celebration of the new year from  September to  January.', 'Peter also sought to end arranged marriages, which were the norm among the Russian nobility, because he thought such a practice was barbaric and led to domestic violence, since the partners usually resented each other.In , Peter changed the date of the celebration of the new year from  September to  January.', \"Sheremetev investigated the possibility of future joint ventures with the Knights, including action against the Turks and the possibility of a future Russian naval base.Peter's visits to the West impressed upon him the notion that European customs were in several respects superior to Russian traditions.\", \"According to legend, in November, at Lakhta along the Finnish Gulf to inspect some ironworks, Peter saw a group of soldiers drowning near shore and, wading out into nearwaist deep water, came to their rescue.This icy water rescue is said to have exacerbated Peter's bladder problems and caused his death.\", \"According to legend, in November, at Lakhta along the Finnish Gulf to inspect some ironworks, Peter saw a group of soldiers drowning near shore and, wading out into nearwaist deep water, came to their rescue.This icy water rescue is said to have exacerbated Peter's bladder problems and caused his death.\", 'The Church reform of Peter the Great therefore abolished the Patriarchy, replacing it with a Holy Synod that was under the control of a Procurator, and the Tsar appointed all bishops.In , Peter followed the advice of Theophan Prokopovich in designing the Holy Synod as a council of ten clergymen.', 'The Church reform of Peter the Great therefore abolished the Patriarchy, replacing it with a Holy Synod that was under the control of a Procurator, and the Tsar appointed all bishops.In , Peter followed the advice of Theophan Prokopovich in designing the Holy Synod as a council of ten clergymen.', 'Legend has it that before lapsing into unconsciousness Peter asked for a paper and pen and scrawled an unfinished note that read: Leave all to ... and then, exhausted by the effort, asked for his daughter Anna to be summoned.Peter died between four and five in the morning  February .', 'Legend has it that before lapsing into unconsciousness Peter asked for a paper and pen and scrawled an unfinished note that read: Leave all to ... and then, exhausted by the effort, asked for his daughter Anna to be summoned.Peter died between four and five in the morning  February .', 'As a result, Soviet historiography emphasizes both the positive achievement and the negative factor of oppressing the common people.After the fall of Communism in , scholars and the general public in Russia and the West gave fresh attention to Peter and his role in Russian history.', 'Peter, furthermore, had chosen an inopportune moment: the Europeans at the time were more concerned about the War of Spanish Succession over who would succeed the childless King Charles II of Spain than about fighting the Ottoman Sultan.The Grand Embassy continued nevertheless.', \"Stalin wrote in , when Peter the Great, who had to deal with more developed countries in the West, feverishly built works in factories for supplying the army and strengthening the country's defenses, this was an original attempt to leap out of the framework of backwardness.\", \"By the summer of , Peter, then age , planned to take power from his halfsister Sophia, whose position had been weakened by two unsuccessful Crimean campaigns against the Crimean Khanate in an attempt to stop devastating Crimean Tatar raids into Russia's southern lands.\", 'Peter implemented social modernization in an absolute manner by introducing French and western dress to his court and requiring courtiers, state officials, and the military to shave their beards and adopt modern clothing styles.', \"He was forced to dismantle the province's government.After , Peter established colleges in place of the old central agencies of government, including foreign affairs, war, navy, expense, income, justice, and inspection.\", 'Peter, warned by others from the Streltsy, escaped in the middle of the night to the impenetrable monastery of TroitseSergiyeva Lavra; there he slowly gathered adherents who perceived he would win the power struggle.', \"Gavrila Golovkin, the State Chancellor, was the first to add the Great, Father of His Country, Emperor of All the Russias to Peter's traditional title Tsar following a speech by the archbishop of Pskov in .\", \"Lady Mary Hamilton, Catherina I's lady in waiting of Scottish descent.miscarriage ()\\nUnnamed child ( – )\\nUnnamed child\\n\\n\\n Legacy \\n\\nPeter's legacy has always been a major concern of Russian intellectuals.\", \"Throughout this period, the government was largely run by Artamon Matveev, an enlightened friend of Alexis, the political head of the Naryshkin family and one of Peter's greatest childhood benefactors.\", \"For example, by the end of the century Russia came to export more iron than any other country in the world.To improve his nation's position on the seas, Peter sought more maritime outlets.\", \"The Streltsy were disbanded, some of the rebels were deported to Siberia, and the individual they sought to put on the Throne —\\nPeter's halfsister Sophia — was forced to become a nun.\", 'Great Northern War \\n\\nPeter made a temporary peace with the Ottoman Empire that allowed him to keep the captured fort of Azov, and turned his attention to Russian maritime supremacy.', 'He studied shipbuilding  in Zaandam (the house he lived in is now a museum, the Czar Peter House) and Amsterdam, where he visited, among others, the upperclass De Wilde family.', \"Peter's northern armies took the Swedish province of Livonia (the northern half of modern Latvia, and the southern half of modern Estonia), driving the Swedes into Finland.\", \"Peter spoke with Augustus II the Strong and Leopold I, Holy Roman Emperor.Peter's visit was cut short in , when he was forced to rush home by a rebellion of the Streltsy.\", \"Peter spoke with Augustus II the Strong and Leopold I, Holy Roman Emperor.Peter's visit was cut short in , when he was forced to rush home by a rebellion of the Streltsy.\", \"As part of an agreement with Poland that ceded Kiev to Russia, Peter was forced to wage war against the Crimean Khan and against the Khan's overlord, the Ottoman Sultan.\", 'Over one thousand two hundred of the rebels were tortured and executed, and Peter ordered that their bodies be publicly exhibited as a warning to future conspirators.', \"This, plus the interval of time between these actions and Peter's death seems to preclude any direct link.In early January , Peter was struck once again with uremia.\", \"This, plus the interval of time between these actions and Peter's death seems to preclude any direct link.In early January , Peter was struck once again with uremia.\", \"Peter's imperial title was recognized by Augustus II of Poland, Frederick William I of Prussia, and Frederick I of Sweden, but not by the other European monarchs.\", \"Early life \\nPeter was named after the apostle, and described as a newborn as with good health, his mother's black, vaguely Tatar eyes, and a tuft of auburn hair.\", 'Peter hired Italian and German architects to design it.As part of his reforms, Peter started an industrialization effort that was slow but eventually successful.', 'Peter hired Italian and German architects to design it.As part of his reforms, Peter started an industrialization effort that was slow but eventually successful.', 'After the battle, Charles XII decided to concentrate his forces against the Polish–Lithuanian Commonwealth, which gave Peter time to reorganize the Russian army.', 'Religion \\n\\nPeter founded The AllJoking, AllDrunken Synod of Fools and Jesters, an organization that mocked the Orthodox and Catholic Church when he was eighteen.', \"Peter's campaign in the Ottoman Empire was disastrous, and in the ensuing Treaty of the Pruth, Peter was forced to return the Black Sea ports he had seized in .\", \"Peter's campaign in the Ottoman Empire was disastrous, and in the ensuing Treaty of the Pruth, Peter was forced to return the Black Sea ports he had seized in .\", 'Sophia would sit behind the throne and listen as Peter conversed with nobles, while feeding him information and giving him responses to questions and problems.', \"Traditionally, the years were reckoned from the purported creation of the World, but after Peter's reforms, they were to be counted from the birth of Christ.\", 'Heavily influenced by his advisors from Western Europe, Peter reorganized the Russian army along modern lines and dreamed of making Russia a maritime power.', \"In , when the office fell vacant, Peter refused to name a replacement, allowing the Patriarch's Coadjutor (or deputy) to discharge the duties of the office.\", 'While the Poles fought the Swedes, Peter founded the city of Saint Petersburg in , in Ingermanland (a province of the Swedish Empire that he had captured).', 'In England, Peter met with King William III, visited Greenwich and Oxford, posed for Sir Godfrey Kneller, and saw a Royal Navy Fleet Review at Deptford.', 'Peter paid a visit to surgeon Frederik Ruysch, who taught him how to draw teeth and catch butterflies, and to Ludolf Bakhuysen, a painter of seascapes.', \"A special high official, the OberProcurator, served as the link between the ruler and the senate and acted, in Peter own words, as the sovereign's eye.\", 'In , Peter sent a delegation to Malta, under boyar Boris Sheremetev, to observe the training and abilities of the Knights of Malta and their fleet.', 'Several rulers feared that Peter would claim authority over them, just as the Holy Roman Emperor had claimed suzerainty over all Christian nations.', 'For leadership in the church, Peter turned increasingly to Ukrainians, who were more open to reform, but were not well loved by the Russian clergy.', \"The sentence could be carried out only with Peter's signed authorization, and Alexei died in prison, as Peter hesitated before making the decision.\", \"The sentence could be carried out only with Peter's signed authorization, and Alexei died in prison, as Peter hesitated before making the decision.\", 'On  January  Peter organized a farewell party and invited Johan Huydecoper van Maarsseveen, who had to sit between Lefort and the Tsar and drink.', 'Peter could not tolerate the patriarch exercising power superior to the Tsar, as indeed had happened in the case of Philaret (–) and Nikon (–).', 'Illness and death \\n\\nIn the winter of , Peter, whose overall health was never robust, began having problems with his urinary tract and bladder.', 'Peter, overestimating the support he would receive from his Balkan allies, attacked the Ottoman Empire, initiating the RussoTurkish War of .', 'Stalin however admired how Peter strengthened the state, and wartime, diplomacy, industry, higher education, and government administration.', 'To deprive the Boyars of their high positions, Peter directed that precedence should be determined by merit and service to the Emperor.', 'The Tsaritsa had borne Peter three children, although only one, Alexei Petrovich, Tsarevich of Russia, had survived past his childhood.', 'Jan van der Heyden, the inventor of the fire hose, received Peter, who was keen to learn and pass on his knowledge to his countrymen.', 'He also had a mistress from Holland, Anna Mons.Upon his return from his European tour in , Peter sought to end his unhappy marriage.', 'Though no record exists, Catherine and Peter are described as having married secretly between  Oct and  December  in St. Petersburg.', 'In the Battle of Lesnaya, Charles suffered his first loss after Peter crushed a group of Swedish reinforcements marching from Riga.', \"Peter's reforms had a lasting impact on Russia, and many institutions of the Russian government trace their origins to his reign.\", \"Peter valued Catherine and married her again (this time officially) at Saint Isaac's Cathedral in Saint Petersburg on  February .\", 'Marriages and family \\n\\nPeter the Great had two wives, with whom he had fourteen children, three of whom survived to adulthood.', 'Consequently, the Boyar Duma (a council of Russian nobles) chose the yearold Peter to become Tsar, with his mother as regent.', 'Peter decided that all of the children of the nobility should have some early education, especially in the areas of sciences.', \"Peter's mother sought to force him to adopt a more conventional approach and arranged his marriage to Eudoxia Lopukhina in .\", 'The marriage was a failure, and ten years later Peter forced his wife to become a nun and thus freed himself from the union.', 'Peter withdrew his army southward, employing scorched earth, destroying along the way anything that could assist the Swedes.', 'January] ), most commonly known as Peter the Great, was a monarch of Russia who modernised it and made it a European power.', 'In the first week of October, restless and certain he was cured, Peter began a lengthy inspection tour of various projects.', \"On  January , Alexis died, leaving the sovereignty to Peter's elder halfbrother, the weak and sickly Feodor III of Russia.\", 'Thus, in the year  of the old Russian calendar, Peter proclaimed that the Julian Calendar was in effect and the year was .', 'Peter attempted to acquire control of the Black Sea, which would require expelling the Tatars from the surrounding areas.', 'Peter forced Sophia to enter a convent, where she gave up her name and her position as a member of the royal family.', \"The rebellion was easily crushed before Peter returned home from England; of the Tsar's troops, only one was killed.\", 'Peter believed he did not have enough loyal and talented persons to put in full charge of the various departments.', 'In the summer of  Peter organized the Azov campaigns to take the fortress, but his attempts ended in failure.', 'Peter grew to be extremely tall as an adult, especially for the time period, reportedly standing  ft  in (.', 'The Tsar helped with the construction of an East Indiaman ship specially laid down for him: Peter and Paul.', 'Peter implemented a law that stipulated that no Russian man could join a monastery before the age of fifty.', \"Peter's other halfbrother, Ivan V of Russia, was next in line, but was chronically ill and of infirm mind.\", \"In , Peter had his second wife, Catherine, crowned as Empress, although he remained Russia's actual ruler.\", 'Peter, however, mistrusted the boyars; he instead abolished the Duma and created a Senate of ten members.', \"Peterhof (Dutch for Peter's Court) was a grand residence, becoming known as the Russian Versailles.\", 'On  September , Peter officially founded the first Russian Navy base, Taganrog on the Sea of Azov.', 'Peter, however, lacked the overall proportional heft and bulk generally found in a man that size.', \"Peter's primary objective became the capture of the Ottoman fortress of Azov, near the Don River.\", 'Western writers and political analysts recounted The Testimony or secret will of Peter the Great.', \"Peter's mother selected his first wife, Eudoxia Lopukhina, with the advice of other nobles in .\", 'These included three sons named Pavel and three sons named Peter, all of whom died in infancy.', 'It was only when Natalya died in  that Peter, then aged , became an independent sovereign.', 'Sophia was eventually overthrown, with Peter I and Ivan V continuing to act as cotsars.', 'Peter became the sole ruler when Ivan died in  without male offspring, two years later.', 'Peter declared war on Sweden, which was at the time led by the young King Charles XII.', 'Peter obtained the assistance of the Electorate of Hanover and the Kingdom of Prussia.', 'Peter preferred to rely on groups of individuals who would keep check on one another.', \"Peter later put his knowledge of shipbuilding to use in helping build Russia's navy.\", 'In , Peter investigated why the formerly Swedish province of Livonia was so orderly.', 'A large hole was cut in the back of the dualseated throne used by Ivan and Peter.', \"One goal was to seek the aid of European monarchs, but Peter's hopes were dashed.\", 'While visiting the Netherlands, Peter learned much about life in Western Europe.', 'Grand Embassy \\n\\nPeter knew that Russia could not face the Ottoman Empire alone.', 'He is interred in Saints Peter and Paul Cathedral, Saint Petersburg, Russia.', \"Later years \\n\\nPeter's last years were marked by further reform in Russia.\", 'In , Peter created a new order of precedence known as the Table of Ranks.', 'After crossing into Russia, Charles defeated Peter at Golovchin in July.', 'Reign \\n\\nPeter implemented sweeping reforms aimed at modernizing Russia.', \"Slavophiles in midth century deplored Peter's westernization of Russia.\", 'Peter returned to Moscow in November  and began building a large navy.', 'Formally, Ivan V was a coruler with Peter, though being ineffective.', 'Peter was not particularly concerned that others ruled in his name.', 'Still, Peter could not acquire actual control over Russian affairs.', 'Peter nevertheless acted ruthlessly towards the mutineers.', 'He had only two grandchildren: Peter II and Peter III.', 'He had only two grandchildren: Peter II and Peter III.', 'It was named after his patron saint Saint Peter.', 'Peter moved the capital to St. Petersburg in .', 'Peter remained bedridden until late autumn.', \"All of Peter's male children had died.\"], 'russia': ['James Cracraft argues:\\n\\nThe Petrine revolution in Russia—subsuming in this phrase the many military, naval, governmental, educational, architectural, linguistic, and other internal reforms enacted by Peter’s regime to promote Russia’s rise as a major European power—was essentially a cultural revolution, one that profoundly impacted both the basic constitution of the Russian Empire and, perforce, its subsequent development.', 'James Cracraft argues:\\n\\nThe Petrine revolution in Russia—subsuming in this phrase the many military, naval, governmental, educational, architectural, linguistic, and other internal reforms enacted by Peter’s regime to promote Russia’s rise as a major European power—was essentially a cultural revolution, one that profoundly impacted both the basic constitution of the Russian Empire and, perforce, its subsequent development.', \"Vodarsky said in  that Peter, did not lead the country on the path of accelerated economic, political and social development, did not force it to 'achieve a leap' through several stages.... On the contrary, these actions to the greatest degree put a brake on Russia's progress and created conditions for holding it back for one and a half centuries!\", \"According to Roger Tavernier, Peter the Great later acquired De Wilde's collection.Thanks to the mediation of Nicolaes Witsen, mayor of Amsterdam and an expert on Russia, the Tsar was given the opportunity to gain practical experience in the largest shipyard in the world, belonging to the Dutch East India Company, for a period of four months.\", \"Jacob de Wilde, a collectorgeneral with the Admiralty of Amsterdam, had a wellknown collection of art and coins, and De Wilde's daughter Maria de Wilde made an engraving of the meeting between Peter and her father, providing visual evidence of the beginning of the West European classical tradition in Russia.\", 'As a result, Soviet historiography emphasizes both the positive achievement and the negative factor of oppressing the common people.After the fall of Communism in , scholars and the general public in Russia and the West gave fresh attention to Peter and his role in Russian history.', \"By the summer of , Peter, then age , planned to take power from his halfsister Sophia, whose position had been weakened by two unsuccessful Crimean campaigns against the Crimean Khanate in an attempt to stop devastating Crimean Tatar raids into Russia's southern lands.\", 'After considerable success and the capture of many provinces and cities in the Caucasus and northern mainland Persia, the Safavids were forced to hand over territory to Russia, comprising Derbent, Shirvan, Gilan, Mazandaran, Baku, and Astrabad.', \"Riasanovsky points to a paradoxical dichotomy in the black and white images such as God/Antichrist, educator/ignoramus, architect of Russia's greatness/destroyer of national culture, father of his country/scourge of the common man.\", 'One means of achieving this end was the introduction of taxes for long beards and robes in September .In his process to westernize Russia, he wanted members of his family to marry other European royalty.', \"He forbade the building of stone edifices outside Saint Petersburg, which he intended to become Russia's capital, so that all stonemasons could participate in the construction of the new city.\", \"For example, by the end of the century Russia came to export more iron than any other country in the world.To improve his nation's position on the seas, Peter sought more maritime outlets.\", 'He adopted the title of Emperor in place of the old title of Tsar in , and founded and developed the city of Saint Petersburg, which remained the capital of Russia until .', \"As part of an agreement with Poland that ceded Kiev to Russia, Peter was forced to wage war against the Crimean Khan and against the Khan's overlord, the Ottoman Sultan.\", 'He was educated  from an early age by several tutors  commissioned by his father, Tsar Alexis of Russia, most notably Nikita Zotov, Patrick Gordon, and Paul Menesius.', \"Russia had defeated what was considered to be one of the world's best militaries, and the victory overturned the view that Russia was militarily incompetent.\", \"Russia had defeated what was considered to be one of the world's best militaries, and the victory overturned the view that Russia was militarily incompetent.\", 'Heavily influenced by his advisors from Western Europe, Peter reorganized the Russian army along modern lines and dreamed of making Russia a maritime power.', 'Russia was illprepared to fight the Swedes, and their first attempt at seizing the Baltic coast ended in disaster at the Battle of Narva in .', 'Without his signature no Senate decision could go into effect; the Senate became one of the most important institutions of Imperial Russia.', \"Sophia, one of Alexis' daughters from his first marriage, led a rebellion of the Streltsy (Russia's elite military corps) in April–May .\", 'The Tsaritsa had borne Peter three children, although only one, Alexei Petrovich, Tsarevich of Russia, had survived past his childhood.', \"Peter's reforms had a lasting impact on Russia, and many institutions of the Russian government trace their origins to his reign.\", 'It supposedly revealed his grand evil plot for Russia to control the world via conquest of Constantinople, Afghanistan and India.', 'January] ), most commonly known as Peter the Great, was a monarch of Russia who modernised it and made it a European power.', \"On  January , Alexis died, leaving the sovereignty to Peter's elder halfbrother, the weak and sickly Feodor III of Russia.\", \"Peter's other halfbrother, Ivan V of Russia, was next in line, but was chronically ill and of infirm mind.\", \"In , Peter had his second wife, Catherine, crowned as Empress, although he remained Russia's actual ruler.\", 'On  October , soon after peace was made with Sweden, he was officially proclaimed Emperor of All Russia.', \"It was a forgery made in Paris at Napoleon's command when he started his invasion of Russia in .\", \"Peter later put his knowledge of shipbuilding to use in helping build Russia's navy.\", 'Between  and , and from  to , Saint Petersburg was the capital of imperial Russia.', 'Grand Embassy \\n\\nPeter knew that Russia could not face the Ottoman Empire alone.', 'Russia acquired Ingria, Estonia, Livonia, and a substantial portion of Karelia.', 'After the battle near Åland, Sweden made peace with all powers but Russia by .', 'He is interred in Saints Peter and Paul Cathedral, Saint Petersburg, Russia.', 'In turn, Russia paid two million Riksdaler and surrendered most of Finland.', 'Swedish king Charles XII turned his attention to Russia, invading it in .', \"Later years \\n\\nPeter's last years were marked by further reform in Russia.\", 'After crossing into Russia, Charles defeated Peter at Golovchin in July.', 'Reign \\n\\nPeter implemented sweeping reforms aimed at modernizing Russia.', \"Slavophiles in midth century deplored Peter's westernization of Russia.\", 'He ruled the Tsardom of Russia from  May [O.S.'], 'tsar': ['Title \\nThe imperial title of Peter the Great was the following:\\nBy the grace of God, the most excellent and great sovereign emperor Pyotr Alekseevich the ruler of all the Russias: of Moscow, of Kiev, of Vladimir, of Novgorod, Tsar of Kazan, Tsar of Astrakhan and Tsar of Siberia, sovereign of Pskov, great prince of Smolensk, of Tver, of Yugorsk, of Perm, of Vyatka, of Bulgaria and others, sovereign and great prince of the Novgorod Lower lands, of Chernigov, of Ryazan, of Rostov, of Yaroslavl, of Belozersk, of Udora, of Kondia and the sovereign of all the northern lands, and the sovereign of the Iverian lands, of the Kartlian and Georgian Kings, of the Kabardin lands, of the Circassian and Mountain princes and many other states and lands western and eastern here and there and the successor and sovereign and ruler.', 'Title \\nThe imperial title of Peter the Great was the following:\\nBy the grace of God, the most excellent and great sovereign emperor Pyotr Alekseevich the ruler of all the Russias: of Moscow, of Kiev, of Vladimir, of Novgorod, Tsar of Kazan, Tsar of Astrakhan and Tsar of Siberia, sovereign of Pskov, great prince of Smolensk, of Tver, of Yugorsk, of Perm, of Vyatka, of Bulgaria and others, sovereign and great prince of the Novgorod Lower lands, of Chernigov, of Ryazan, of Rostov, of Yaroslavl, of Belozersk, of Udora, of Kondia and the sovereign of all the northern lands, and the sovereign of the Iverian lands, of the Kartlian and Georgian Kings, of the Kabardin lands, of the Circassian and Mountain princes and many other states and lands western and eastern here and there and the successor and sovereign and ruler.', 'Title \\nThe imperial title of Peter the Great was the following:\\nBy the grace of God, the most excellent and great sovereign emperor Pyotr Alekseevich the ruler of all the Russias: of Moscow, of Kiev, of Vladimir, of Novgorod, Tsar of Kazan, Tsar of Astrakhan and Tsar of Siberia, sovereign of Pskov, great prince of Smolensk, of Tver, of Yugorsk, of Perm, of Vyatka, of Bulgaria and others, sovereign and great prince of the Novgorod Lower lands, of Chernigov, of Ryazan, of Rostov, of Yaroslavl, of Belozersk, of Udora, of Kondia and the sovereign of all the northern lands, and the sovereign of the Iverian lands, of the Kartlian and Georgian Kings, of the Kabardin lands, of the Circassian and Mountain princes and many other states and lands western and eastern here and there and the successor and sovereign and ruler.', \"According to Roger Tavernier, Peter the Great later acquired De Wilde's collection.Thanks to the mediation of Nicolaes Witsen, mayor of Amsterdam and an expert on Russia, the Tsar was given the opportunity to gain practical experience in the largest shipyard in the world, belonging to the Dutch East India Company, for a period of four months.\", 'The Church reform of Peter the Great therefore abolished the Patriarchy, replacing it with a Holy Synod that was under the control of a Procurator, and the Tsar appointed all bishops.In , Peter followed the advice of Theophan Prokopovich in designing the Holy Synod as a council of ten clergymen.', \"During his stay the Tsar engaged many skilled workers such as builders of locks, fortresses, shipwrights, and seamen—including Cornelis Cruys, a viceadmiral who became, under Franz Lefort, the Tsar's advisor in maritime affairs.\", \"During his stay the Tsar engaged many skilled workers such as builders of locks, fortresses, shipwrights, and seamen—including Cornelis Cruys, a viceadmiral who became, under Franz Lefort, the Tsar's advisor in maritime affairs.\", \"Gavrila Golovkin, the State Chancellor, was the first to add the Great, Father of His Country, Emperor of All the Russias to Peter's traditional title Tsar following a speech by the archbishop of Pskov in .\", 'He adopted the title of Emperor in place of the old title of Tsar in , and founded and developed the city of Saint Petersburg, which remained the capital of Russia until .', 'He was educated  from an early age by several tutors  commissioned by his father, Tsar Alexis of Russia, most notably Nikita Zotov, Patrick Gordon, and Paul Menesius.', 'On  January  Peter organized a farewell party and invited Johan Huydecoper van Maarsseveen, who had to sit between Lefort and the Tsar and drink.', 'Peter could not tolerate the patriarch exercising power superior to the Tsar, as indeed had happened in the case of Philaret (–) and Nikon (–).', 'Consequently, the Boyar Duma (a council of Russian nobles) chose the yearold Peter to become Tsar, with his mother as regent.', \"The rebellion was easily crushed before Peter returned home from England; of the Tsar's troops, only one was killed.\", 'The Tsar helped with the construction of an East Indiaman ship specially laid down for him: Peter and Paul.', 'The Tsar retained some Finnish lands close to Saint Petersburg, which he had made his capital in .', 'In  and , the Tsar revisited the Netherlands and went to see Herman Boerhaave.', \"The Tsar's navy was powerful enough that the Russians could penetrate Sweden.\"], 'saint petersburg': ['However, within twelve years all the territories would be ceded back to Persia, now led by the charismatic military genius Nader Shah, as part of the Treaties of Resht and Ganja respectively, and the RussoPersian alliance against the Ottoman Empire, which was the common enemy of both.Peter introduced new taxes to fund improvements in Saint Petersburg.', 'However, the formation of local elites domestically was not his main priority, and the first Russian university—Saint Petersburg State University—was founded only a year before his death, in .', \"He forbade the building of stone edifices outside Saint Petersburg, which he intended to become Russia's capital, so that all stonemasons could participate in the construction of the new city.\", 'He adopted the title of Emperor in place of the old title of Tsar in , and founded and developed the city of Saint Petersburg, which remained the capital of Russia until .', 'He studied the English techniques of citybuilding he would later use to great effect at Saint Petersburg.The Embassy next went to Leipzig, Dresden, Prague and Vienna.', 'While the Poles fought the Swedes, Peter founded the city of Saint Petersburg in , in Ingermanland (a province of the Swedish Empire that he had captured).', \"Peter valued Catherine and married her again (this time officially) at Saint Isaac's Cathedral in Saint Petersburg on  February .\", 'The Tsar retained some Finnish lands close to Saint Petersburg, which he had made his capital in .', 'Between  and , and from  to , Saint Petersburg was the capital of imperial Russia.', 'In  the construction of Peterhof, a palace near Saint Petersburg, was completed.', 'He is interred in Saints Peter and Paul Cathedral, Saint Petersburg, Russia.'], 'great': ['Title \\nThe imperial title of Peter the Great was the following:\\nBy the grace of God, the most excellent and great sovereign emperor Pyotr Alekseevich the ruler of all the Russias: of Moscow, of Kiev, of Vladimir, of Novgorod, Tsar of Kazan, Tsar of Astrakhan and Tsar of Siberia, sovereign of Pskov, great prince of Smolensk, of Tver, of Yugorsk, of Perm, of Vyatka, of Bulgaria and others, sovereign and great prince of the Novgorod Lower lands, of Chernigov, of Ryazan, of Rostov, of Yaroslavl, of Belozersk, of Udora, of Kondia and the sovereign of all the northern lands, and the sovereign of the Iverian lands, of the Kartlian and Georgian Kings, of the Kabardin lands, of the Circassian and Mountain princes and many other states and lands western and eastern here and there and the successor and sovereign and ruler.', 'Title \\nThe imperial title of Peter the Great was the following:\\nBy the grace of God, the most excellent and great sovereign emperor Pyotr Alekseevich the ruler of all the Russias: of Moscow, of Kiev, of Vladimir, of Novgorod, Tsar of Kazan, Tsar of Astrakhan and Tsar of Siberia, sovereign of Pskov, great prince of Smolensk, of Tver, of Yugorsk, of Perm, of Vyatka, of Bulgaria and others, sovereign and great prince of the Novgorod Lower lands, of Chernigov, of Ryazan, of Rostov, of Yaroslavl, of Belozersk, of Udora, of Kondia and the sovereign of all the northern lands, and the sovereign of the Iverian lands, of the Kartlian and Georgian Kings, of the Kabardin lands, of the Circassian and Mountain princes and many other states and lands western and eastern here and there and the successor and sovereign and ruler.', 'Title \\nThe imperial title of Peter the Great was the following:\\nBy the grace of God, the most excellent and great sovereign emperor Pyotr Alekseevich the ruler of all the Russias: of Moscow, of Kiev, of Vladimir, of Novgorod, Tsar of Kazan, Tsar of Astrakhan and Tsar of Siberia, sovereign of Pskov, great prince of Smolensk, of Tver, of Yugorsk, of Perm, of Vyatka, of Bulgaria and others, sovereign and great prince of the Novgorod Lower lands, of Chernigov, of Ryazan, of Rostov, of Yaroslavl, of Belozersk, of Udora, of Kondia and the sovereign of all the northern lands, and the sovereign of the Iverian lands, of the Kartlian and Georgian Kings, of the Kabardin lands, of the Circassian and Mountain princes and many other states and lands western and eastern here and there and the successor and sovereign and ruler.', 'Title \\nThe imperial title of Peter the Great was the following:\\nBy the grace of God, the most excellent and great sovereign emperor Pyotr Alekseevich the ruler of all the Russias: of Moscow, of Kiev, of Vladimir, of Novgorod, Tsar of Kazan, Tsar of Astrakhan and Tsar of Siberia, sovereign of Pskov, great prince of Smolensk, of Tver, of Yugorsk, of Perm, of Vyatka, of Bulgaria and others, sovereign and great prince of the Novgorod Lower lands, of Chernigov, of Ryazan, of Rostov, of Yaroslavl, of Belozersk, of Udora, of Kondia and the sovereign of all the northern lands, and the sovereign of the Iverian lands, of the Kartlian and Georgian Kings, of the Kabardin lands, of the Circassian and Mountain princes and many other states and lands western and eastern here and there and the successor and sovereign and ruler.', \"According to Roger Tavernier, Peter the Great later acquired De Wilde's collection.Thanks to the mediation of Nicolaes Witsen, mayor of Amsterdam and an expert on Russia, the Tsar was given the opportunity to gain practical experience in the largest shipyard in the world, belonging to the Dutch East India Company, for a period of four months.\", 'Taking advantage of the profitable situation, Peter launched the RussoPersian War of –, otherwise known as The Persian Expedition of Peter the Great, which drastically increased Russian influence for the first time in the Caucasus and Caspian Sea region, and prevented the Ottoman Empire from making territorial gains in the region.', 'The Church reform of Peter the Great therefore abolished the Patriarchy, replacing it with a Holy Synod that was under the control of a Procurator, and the Tsar appointed all bishops.In , Peter followed the advice of Theophan Prokopovich in designing the Holy Synod as a council of ten clergymen.', \"Stalin wrote in , when Peter the Great, who had to deal with more developed countries in the West, feverishly built works in factories for supplying the army and strengthening the country's defenses, this was an original attempt to leap out of the framework of backwardness.\", \"Gavrila Golovkin, the State Chancellor, was the first to add the Great, Father of His Country, Emperor of All the Russias to Peter's traditional title Tsar following a speech by the archbishop of Pskov in .\", 'Great Northern War \\n\\nPeter made a temporary peace with the Ottoman Empire that allowed him to keep the captured fort of Azov, and turned his attention to Russian maritime supremacy.', 'He commanded all of his courtiers and officials to wear European clothing and cut off their long beards, causing his Boyars, who were very fond of their beards, great upset.', 'He studied the English techniques of citybuilding he would later use to great effect at Saint Petersburg.The Embassy next went to Leipzig, Dresden, Prague and Vienna.', 'Marriages and family \\n\\nPeter the Great had two wives, with whom he had fourteen children, three of whom survived to adulthood.', 'January] ), most commonly known as Peter the Great, was a monarch of Russia who modernised it and made it a European power.', 'Western writers and political analysts recounted The Testimony or secret will of Peter the Great.', 'In , the Treaty of Nystad ended the Great Northern War.'], 'russian affairs': ['Still, Peter could not acquire actual control over Russian affairs.']}\n"
          ]
        }
      ]
    },
    {
      "cell_type": "code",
      "source": [
        "#removing repeated sentences from the setences associated with each key_phrase\n",
        "for key in keyword_sentence_mapping.keys():\n",
        "  keyword_sentence_mapping[key] = list(set(keyword_sentence_mapping[key]))"
      ],
      "metadata": {
        "id": "OUdRrn-0E3TU"
      },
      "execution_count": null,
      "outputs": []
    },
    {
      "cell_type": "code",
      "source": [
        "print(keyword_sentence_mapping)"
      ],
      "metadata": {
        "colab": {
          "base_uri": "https://localhost:8080/"
        },
        "id": "-CTMwAQow7pP",
        "outputId": "f9aa52e0-19fb-4456-f580-427ce37b4f12"
      },
      "execution_count": null,
      "outputs": [
        {
          "output_type": "stream",
          "name": "stdout",
          "text": [
            "{'peter': ['Peter decided that all of the children of the nobility should have some early education, especially in the areas of sciences.', 'Consequently, the Boyar Duma (a council of Russian nobles) chose the yearold Peter to become Tsar, with his mother as regent.', 'January] ), most commonly known as Peter the Great, was a monarch of Russia who modernised it and made it a European power.', \"According to legend, in November, at Lakhta along the Finnish Gulf to inspect some ironworks, Peter saw a group of soldiers drowning near shore and, wading out into nearwaist deep water, came to their rescue.This icy water rescue is said to have exacerbated Peter's bladder problems and caused his death.\", 'Peter returned to Moscow in November  and began building a large navy.', 'The Church reform of Peter the Great therefore abolished the Patriarchy, replacing it with a Holy Synod that was under the control of a Procurator, and the Tsar appointed all bishops.In , Peter followed the advice of Theophan Prokopovich in designing the Holy Synod as a council of ten clergymen.', 'He is interred in Saints Peter and Paul Cathedral, Saint Petersburg, Russia.', \"Early life \\nPeter was named after the apostle, and described as a newborn as with good health, his mother's black, vaguely Tatar eyes, and a tuft of auburn hair.\", 'Peter withdrew his army southward, employing scorched earth, destroying along the way anything that could assist the Swedes.', \"In , Peter had his second wife, Catherine, crowned as Empress, although he remained Russia's actual ruler.\", 'Peter preferred to rely on groups of individuals who would keep check on one another.', \"By the summer of , Peter, then age , planned to take power from his halfsister Sophia, whose position had been weakened by two unsuccessful Crimean campaigns against the Crimean Khanate in an attempt to stop devastating Crimean Tatar raids into Russia's southern lands.\", 'Religion \\n\\nPeter founded The AllJoking, AllDrunken Synod of Fools and Jesters, an organization that mocked the Orthodox and Catholic Church when he was eighteen.', 'He also had a mistress from Holland, Anna Mons.Upon his return from his European tour in , Peter sought to end his unhappy marriage.', 'Peter attempted to acquire control of the Black Sea, which would require expelling the Tatars from the surrounding areas.', \"Vodarsky said in  that Peter, did not lead the country on the path of accelerated economic, political and social development, did not force it to 'achieve a leap' through several stages.... On the contrary, these actions to the greatest degree put a brake on Russia's progress and created conditions for holding it back for one and a half centuries!\", 'Illness and death \\n\\nIn the winter of , Peter, whose overall health was never robust, began having problems with his urinary tract and bladder.', 'These included three sons named Pavel and three sons named Peter, all of whom died in infancy.', 'In , Peter investigated why the formerly Swedish province of Livonia was so orderly.', 'A large hole was cut in the back of the dualseated throne used by Ivan and Peter.', 'Peter, warned by others from the Streltsy, escaped in the middle of the night to the impenetrable monastery of TroitseSergiyeva Lavra; there he slowly gathered adherents who perceived he would win the power struggle.', 'Peter paid a visit to surgeon Frederik Ruysch, who taught him how to draw teeth and catch butterflies, and to Ludolf Bakhuysen, a painter of seascapes.', 'The marriage was a failure, and ten years later Peter forced his wife to become a nun and thus freed himself from the union.', 'Peter declared war on Sweden, which was at the time led by the young King Charles XII.', 'Peter implemented a law that stipulated that no Russian man could join a monastery before the age of fifty.', 'Peter nevertheless acted ruthlessly towards the mutineers.', 'In the summer of  Peter organized the Azov campaigns to take the fortress, but his attempts ended in failure.', \"According to Roger Tavernier, Peter the Great later acquired De Wilde's collection.Thanks to the mediation of Nicolaes Witsen, mayor of Amsterdam and an expert on Russia, the Tsar was given the opportunity to gain practical experience in the largest shipyard in the world, belonging to the Dutch East India Company, for a period of four months.\", \"Peter's mother selected his first wife, Eudoxia Lopukhina, with the advice of other nobles in .\", 'Peter, overestimating the support he would receive from his Balkan allies, attacked the Ottoman Empire, initiating the RussoTurkish War of .', \"Peterhof (Dutch for Peter's Court) was a grand residence, becoming known as the Russian Versailles.\", 'Title \\nThe imperial title of Peter the Great was the following:\\nBy the grace of God, the most excellent and great sovereign emperor Pyotr Alekseevich the ruler of all the Russias: of Moscow, of Kiev, of Vladimir, of Novgorod, Tsar of Kazan, Tsar of Astrakhan and Tsar of Siberia, sovereign of Pskov, great prince of Smolensk, of Tver, of Yugorsk, of Perm, of Vyatka, of Bulgaria and others, sovereign and great prince of the Novgorod Lower lands, of Chernigov, of Ryazan, of Rostov, of Yaroslavl, of Belozersk, of Udora, of Kondia and the sovereign of all the northern lands, and the sovereign of the Iverian lands, of the Kartlian and Georgian Kings, of the Kabardin lands, of the Circassian and Mountain princes and many other states and lands western and eastern here and there and the successor and sovereign and ruler.', 'Peter was not particularly concerned that others ruled in his name.', 'Peter could not tolerate the patriarch exercising power superior to the Tsar, as indeed had happened in the case of Philaret (–) and Nikon (–).', \"As part of an agreement with Poland that ceded Kiev to Russia, Peter was forced to wage war against the Crimean Khan and against the Khan's overlord, the Ottoman Sultan.\", \"All of Peter's male children had died.\", \"The sentence could be carried out only with Peter's signed authorization, and Alexei died in prison, as Peter hesitated before making the decision.\", 'Taking advantage of the profitable situation, Peter launched the RussoPersian War of –, otherwise known as The Persian Expedition of Peter the Great, which drastically increased Russian influence for the first time in the Caucasus and Caspian Sea region, and prevented the Ottoman Empire from making territorial gains in the region.', 'Grand Embassy \\n\\nPeter knew that Russia could not face the Ottoman Empire alone.', \"One goal was to seek the aid of European monarchs, but Peter's hopes were dashed.\", \"Peter later put his knowledge of shipbuilding to use in helping build Russia's navy.\", 'After crossing into Russia, Charles defeated Peter at Golovchin in July.', \"Peter's northern armies took the Swedish province of Livonia (the northern half of modern Latvia, and the southern half of modern Estonia), driving the Swedes into Finland.\", \"Peter valued Catherine and married her again (this time officially) at Saint Isaac's Cathedral in Saint Petersburg on  February .\", \"Peter spoke with Augustus II the Strong and Leopold I, Holy Roman Emperor.Peter's visit was cut short in , when he was forced to rush home by a rebellion of the Streltsy.\", 'On  September , Peter officially founded the first Russian Navy base, Taganrog on the Sea of Azov.', 'Peter also sought to end arranged marriages, which were the norm among the Russian nobility, because he thought such a practice was barbaric and led to domestic violence, since the partners usually resented each other.In , Peter changed the date of the celebration of the new year from  September to  January.', 'Sophia would sit behind the throne and listen as Peter conversed with nobles, while feeding him information and giving him responses to questions and problems.', \"Throughout this period, the government was largely run by Artamon Matveev, an enlightened friend of Alexis, the political head of the Naryshkin family and one of Peter's greatest childhood benefactors.\", 'While visiting the Netherlands, Peter learned much about life in Western Europe.', 'Jan van der Heyden, the inventor of the fire hose, received Peter, who was keen to learn and pass on his knowledge to his countrymen.', 'Peter forced Sophia to enter a convent, where she gave up her name and her position as a member of the royal family.', 'Peter obtained the assistance of the Electorate of Hanover and the Kingdom of Prussia.', 'In the first week of October, restless and certain he was cured, Peter began a lengthy inspection tour of various projects.', 'Legend has it that before lapsing into unconsciousness Peter asked for a paper and pen and scrawled an unfinished note that read: Leave all to ... and then, exhausted by the effort, asked for his daughter Anna to be summoned.Peter died between four and five in the morning  February .', 'Peter believed he did not have enough loyal and talented persons to put in full charge of the various departments.', \"Jacob de Wilde, a collectorgeneral with the Admiralty of Amsterdam, had a wellknown collection of art and coins, and De Wilde's daughter Maria de Wilde made an engraving of the meeting between Peter and her father, providing visual evidence of the beginning of the West European classical tradition in Russia.\", 'However, within twelve years all the territories would be ceded back to Persia, now led by the charismatic military genius Nader Shah, as part of the Treaties of Resht and Ganja respectively, and the RussoPersian alliance against the Ottoman Empire, which was the common enemy of both.Peter introduced new taxes to fund improvements in Saint Petersburg.', 'In , Peter sent a delegation to Malta, under boyar Boris Sheremetev, to observe the training and abilities of the Knights of Malta and their fleet.', 'Peter remained bedridden until late autumn.', 'Peter became the sole ruler when Ivan died in  without male offspring, two years later.', \"Added to this were Peter's noticeable facial tics, and he may have suffered from petit mal seizures, a form of epilepsy.During his youth, Peter befriended Patrick Gordon, Franz Lefort and several other foreigners in Russian service and was a frequent guest in Moscow's German Quarter, where he met his Dutch mistress Anna Mons.\", \"Later years \\n\\nPeter's last years were marked by further reform in Russia.\", 'Marriages and family \\n\\nPeter the Great had two wives, with whom he had fourteen children, three of whom survived to adulthood.', 'Formally, Ivan V was a coruler with Peter, though being ineffective.', \"A special high official, the OberProcurator, served as the link between the ruler and the senate and acted, in Peter own words, as the sovereign's eye.\", 'Peter grew to be extremely tall as an adult, especially for the time period, reportedly standing  ft  in (.', 'Peter implemented social modernization in an absolute manner by introducing French and western dress to his court and requiring courtiers, state officials, and the military to shave their beards and adopt modern clothing styles.', \"For example, by the end of the century Russia came to export more iron than any other country in the world.To improve his nation's position on the seas, Peter sought more maritime outlets.\", 'He studied shipbuilding  in Zaandam (the house he lived in is now a museum, the Czar Peter House) and Amsterdam, where he visited, among others, the upperclass De Wilde family.', \"Peter's other halfbrother, Ivan V of Russia, was next in line, but was chronically ill and of infirm mind.\", \"Traditionally, the years were reckoned from the purported creation of the World, but after Peter's reforms, they were to be counted from the birth of Christ.\", 'Thus, in the year  of the old Russian calendar, Peter proclaimed that the Julian Calendar was in effect and the year was .', 'Sophia was eventually overthrown, with Peter I and Ivan V continuing to act as cotsars.', 'Several rulers feared that Peter would claim authority over them, just as the Holy Roman Emperor had claimed suzerainty over all Christian nations.', \"He was forced to dismantle the province's government.After , Peter established colleges in place of the old central agencies of government, including foreign affairs, war, navy, expense, income, justice, and inspection.\", 'Reign \\n\\nPeter implemented sweeping reforms aimed at modernizing Russia.', \"Slavophiles in midth century deplored Peter's westernization of Russia.\", \"Gavrila Golovkin, the State Chancellor, was the first to add the Great, Father of His Country, Emperor of All the Russias to Peter's traditional title Tsar following a speech by the archbishop of Pskov in .\", \"In the subsequent conflict, some of Peter's relatives and friends were murdered, including Matveev, and Peter witnessed some of these acts of political violence.The Streltsy made it possible for Sophia, the Miloslavskys (the clan of Ivan) and their allies to insist that Peter and Ivan be proclaimed joint Tsars, with Ivan being acclaimed as the senior.\", \"Peter's campaign in the Ottoman Empire was disastrous, and in the ensuing Treaty of the Pruth, Peter was forced to return the Black Sea ports he had seized in .\", 'Peter, however, lacked the overall proportional heft and bulk generally found in a man that size.', 'Peter hired Italian and German architects to design it.As part of his reforms, Peter started an industrialization effort that was slow but eventually successful.', 'It was only when Natalya died in  that Peter, then aged , became an independent sovereign.', \"Peter's mother sought to force him to adopt a more conventional approach and arranged his marriage to Eudoxia Lopukhina in .\", 'For leadership in the church, Peter turned increasingly to Ukrainians, who were more open to reform, but were not well loved by the Russian clergy.', \"Lady Mary Hamilton, Catherina I's lady in waiting of Scottish descent.miscarriage ()\\nUnnamed child ( – )\\nUnnamed child\\n\\n\\n Legacy \\n\\nPeter's legacy has always been a major concern of Russian intellectuals.\", 'Still, Peter could not acquire actual control over Russian affairs.', 'Peter moved the capital to St. Petersburg in .', 'James Cracraft argues:\\n\\nThe Petrine revolution in Russia—subsuming in this phrase the many military, naval, governmental, educational, architectural, linguistic, and other internal reforms enacted by Peter’s regime to promote Russia’s rise as a major European power—was essentially a cultural revolution, one that profoundly impacted both the basic constitution of the Russian Empire and, perforce, its subsequent development.', \"Peter's imperial title was recognized by Augustus II of Poland, Frederick William I of Prussia, and Frederick I of Sweden, but not by the other European monarchs.\", \"The Streltsy were disbanded, some of the rebels were deported to Siberia, and the individual they sought to put on the Throne —\\nPeter's halfsister Sophia — was forced to become a nun.\", \"Peter's primary objective became the capture of the Ottoman fortress of Azov, near the Don River.\", 'Peter, furthermore, had chosen an inopportune moment: the Europeans at the time were more concerned about the War of Spanish Succession over who would succeed the childless King Charles II of Spain than about fighting the Ottoman Sultan.The Grand Embassy continued nevertheless.', 'The autocratic powers that Stalin admired appeared as a liability to Evgeny Anisimov, who complained that Peter was, the creator of the administrative command system and the true ancestor of Stalin.While the cultural turn in historiography has downplayed diplomatic, economic and constitutional issues, new cultural roles have been found for Peter, for example in architecture and dress.', \"This, plus the interval of time between these actions and Peter's death seems to preclude any direct link.In early January , Peter was struck once again with uremia.\", 'It was named after his patron saint Saint Peter.', 'He had only two grandchildren: Peter II and Peter III.', 'To deprive the Boyars of their high positions, Peter directed that precedence should be determined by merit and service to the Emperor.', 'Over one thousand two hundred of the rebels were tortured and executed, and Peter ordered that their bodies be publicly exhibited as a warning to future conspirators.', 'As a result, Soviet historiography emphasizes both the positive achievement and the negative factor of oppressing the common people.After the fall of Communism in , scholars and the general public in Russia and the West gave fresh attention to Peter and his role in Russian history.', 'The Tsar helped with the construction of an East Indiaman ship specially laid down for him: Peter and Paul.', \"Peter's reforms had a lasting impact on Russia, and many institutions of the Russian government trace their origins to his reign.\", 'Peter, however, mistrusted the boyars; he instead abolished the Duma and created a Senate of ten members.', 'On  January  Peter organized a farewell party and invited Johan Huydecoper van Maarsseveen, who had to sit between Lefort and the Tsar and drink.', 'In the Battle of Lesnaya, Charles suffered his first loss after Peter crushed a group of Swedish reinforcements marching from Riga.', 'In England, Peter met with King William III, visited Greenwich and Oxford, posed for Sir Godfrey Kneller, and saw a Royal Navy Fleet Review at Deptford.', 'In January , Peter refused to partake in a traditional Russian Orthodox ceremony of the Epiphany Ceremony, and would often schedule events for The AllJoking, AllDrunken Synod of Fools and Jesters to directly conflict with the Church.Peter was brought up in the Russian Orthodox faith, but he had low regard for the Church hierarchy, which he kept under tight governmental control.', 'In , Peter created a new order of precedence known as the Table of Ranks.', 'Though no record exists, Catherine and Peter are described as having married secretly between  Oct and  December  in St. Petersburg.', \"Sheremetev investigated the possibility of future joint ventures with the Knights, including action against the Turks and the possibility of a future Russian naval base.Peter's visits to the West impressed upon him the notion that European customs were in several respects superior to Russian traditions.\", 'After the battle, Charles XII decided to concentrate his forces against the Polish–Lithuanian Commonwealth, which gave Peter time to reorganize the Russian army.', 'Great Northern War \\n\\nPeter made a temporary peace with the Ottoman Empire that allowed him to keep the captured fort of Azov, and turned his attention to Russian maritime supremacy.', 'Stalin however admired how Peter strengthened the state, and wartime, diplomacy, industry, higher education, and government administration.', \"The rebellion was easily crushed before Peter returned home from England; of the Tsar's troops, only one was killed.\", 'While the Poles fought the Swedes, Peter founded the city of Saint Petersburg in , in Ingermanland (a province of the Swedish Empire that he had captured).', 'Western writers and political analysts recounted The Testimony or secret will of Peter the Great.', \"In , when the office fell vacant, Peter refused to name a replacement, allowing the Patriarch's Coadjutor (or deputy) to discharge the duties of the office.\", \"Stalin wrote in , when Peter the Great, who had to deal with more developed countries in the West, feverishly built works in factories for supplying the army and strengthening the country's defenses, this was an original attempt to leap out of the framework of backwardness.\", 'Heavily influenced by his advisors from Western Europe, Peter reorganized the Russian army along modern lines and dreamed of making Russia a maritime power.', 'The Tsaritsa had borne Peter three children, although only one, Alexei Petrovich, Tsarevich of Russia, had survived past his childhood.', \"On  January , Alexis died, leaving the sovereignty to Peter's elder halfbrother, the weak and sickly Feodor III of Russia.\"], 'russia': ['On  October , soon after peace was made with Sweden, he was officially proclaimed Emperor of All Russia.', \"As part of an agreement with Poland that ceded Kiev to Russia, Peter was forced to wage war against the Crimean Khan and against the Khan's overlord, the Ottoman Sultan.\", 'January] ), most commonly known as Peter the Great, was a monarch of Russia who modernised it and made it a European power.', \"Later years \\n\\nPeter's last years were marked by further reform in Russia.\", 'As a result, Soviet historiography emphasizes both the positive achievement and the negative factor of oppressing the common people.After the fall of Communism in , scholars and the general public in Russia and the West gave fresh attention to Peter and his role in Russian history.', 'Swedish king Charles XII turned his attention to Russia, invading it in .', 'Russia acquired Ingria, Estonia, Livonia, and a substantial portion of Karelia.', \"For example, by the end of the century Russia came to export more iron than any other country in the world.To improve his nation's position on the seas, Peter sought more maritime outlets.\", \"Peter's other halfbrother, Ivan V of Russia, was next in line, but was chronically ill and of infirm mind.\", \"Russia had defeated what was considered to be one of the world's best militaries, and the victory overturned the view that Russia was militarily incompetent.\", 'Grand Embassy \\n\\nPeter knew that Russia could not face the Ottoman Empire alone.', \"Peter later put his knowledge of shipbuilding to use in helping build Russia's navy.\", 'After crossing into Russia, Charles defeated Peter at Golovchin in July.', \"Peter's reforms had a lasting impact on Russia, and many institutions of the Russian government trace their origins to his reign.\", 'He is interred in Saints Peter and Paul Cathedral, Saint Petersburg, Russia.', \"Riasanovsky points to a paradoxical dichotomy in the black and white images such as God/Antichrist, educator/ignoramus, architect of Russia's greatness/destroyer of national culture, father of his country/scourge of the common man.\", 'After the battle near Åland, Sweden made peace with all powers but Russia by .', 'In turn, Russia paid two million Riksdaler and surrendered most of Finland.', \"In , Peter had his second wife, Catherine, crowned as Empress, although he remained Russia's actual ruler.\", \"He forbade the building of stone edifices outside Saint Petersburg, which he intended to become Russia's capital, so that all stonemasons could participate in the construction of the new city.\", 'After considerable success and the capture of many provinces and cities in the Caucasus and northern mainland Persia, the Safavids were forced to hand over territory to Russia, comprising Derbent, Shirvan, Gilan, Mazandaran, Baku, and Astrabad.', \"Sophia, one of Alexis' daughters from his first marriage, led a rebellion of the Streltsy (Russia's elite military corps) in April–May .\", \"By the summer of , Peter, then age , planned to take power from his halfsister Sophia, whose position had been weakened by two unsuccessful Crimean campaigns against the Crimean Khanate in an attempt to stop devastating Crimean Tatar raids into Russia's southern lands.\", 'He ruled the Tsardom of Russia from  May [O.S.', 'Reign \\n\\nPeter implemented sweeping reforms aimed at modernizing Russia.', \"Vodarsky said in  that Peter, did not lead the country on the path of accelerated economic, political and social development, did not force it to 'achieve a leap' through several stages.... On the contrary, these actions to the greatest degree put a brake on Russia's progress and created conditions for holding it back for one and a half centuries!\", \"Slavophiles in midth century deplored Peter's westernization of Russia.\", 'One means of achieving this end was the introduction of taxes for long beards and robes in September .In his process to westernize Russia, he wanted members of his family to marry other European royalty.', 'He adopted the title of Emperor in place of the old title of Tsar in , and founded and developed the city of Saint Petersburg, which remained the capital of Russia until .', 'It supposedly revealed his grand evil plot for Russia to control the world via conquest of Constantinople, Afghanistan and India.', \"It was a forgery made in Paris at Napoleon's command when he started his invasion of Russia in .\", 'He was educated  from an early age by several tutors  commissioned by his father, Tsar Alexis of Russia, most notably Nikita Zotov, Patrick Gordon, and Paul Menesius.', 'James Cracraft argues:\\n\\nThe Petrine revolution in Russia—subsuming in this phrase the many military, naval, governmental, educational, architectural, linguistic, and other internal reforms enacted by Peter’s regime to promote Russia’s rise as a major European power—was essentially a cultural revolution, one that profoundly impacted both the basic constitution of the Russian Empire and, perforce, its subsequent development.', 'Without his signature no Senate decision could go into effect; the Senate became one of the most important institutions of Imperial Russia.', \"According to Roger Tavernier, Peter the Great later acquired De Wilde's collection.Thanks to the mediation of Nicolaes Witsen, mayor of Amsterdam and an expert on Russia, the Tsar was given the opportunity to gain practical experience in the largest shipyard in the world, belonging to the Dutch East India Company, for a period of four months.\", 'Russia was illprepared to fight the Swedes, and their first attempt at seizing the Baltic coast ended in disaster at the Battle of Narva in .', 'Between  and , and from  to , Saint Petersburg was the capital of imperial Russia.', \"Jacob de Wilde, a collectorgeneral with the Admiralty of Amsterdam, had a wellknown collection of art and coins, and De Wilde's daughter Maria de Wilde made an engraving of the meeting between Peter and her father, providing visual evidence of the beginning of the West European classical tradition in Russia.\", 'Heavily influenced by his advisors from Western Europe, Peter reorganized the Russian army along modern lines and dreamed of making Russia a maritime power.', 'The Tsaritsa had borne Peter three children, although only one, Alexei Petrovich, Tsarevich of Russia, had survived past his childhood.', \"On  January , Alexis died, leaving the sovereignty to Peter's elder halfbrother, the weak and sickly Feodor III of Russia.\"], 'tsar': [\"The rebellion was easily crushed before Peter returned home from England; of the Tsar's troops, only one was killed.\", 'The Church reform of Peter the Great therefore abolished the Patriarchy, replacing it with a Holy Synod that was under the control of a Procurator, and the Tsar appointed all bishops.In , Peter followed the advice of Theophan Prokopovich in designing the Holy Synod as a council of ten clergymen.', 'Title \\nThe imperial title of Peter the Great was the following:\\nBy the grace of God, the most excellent and great sovereign emperor Pyotr Alekseevich the ruler of all the Russias: of Moscow, of Kiev, of Vladimir, of Novgorod, Tsar of Kazan, Tsar of Astrakhan and Tsar of Siberia, sovereign of Pskov, great prince of Smolensk, of Tver, of Yugorsk, of Perm, of Vyatka, of Bulgaria and others, sovereign and great prince of the Novgorod Lower lands, of Chernigov, of Ryazan, of Rostov, of Yaroslavl, of Belozersk, of Udora, of Kondia and the sovereign of all the northern lands, and the sovereign of the Iverian lands, of the Kartlian and Georgian Kings, of the Kabardin lands, of the Circassian and Mountain princes and many other states and lands western and eastern here and there and the successor and sovereign and ruler.', 'The Tsar helped with the construction of an East Indiaman ship specially laid down for him: Peter and Paul.', 'Peter could not tolerate the patriarch exercising power superior to the Tsar, as indeed had happened in the case of Philaret (–) and Nikon (–).', 'In  and , the Tsar revisited the Netherlands and went to see Herman Boerhaave.', 'Consequently, the Boyar Duma (a council of Russian nobles) chose the yearold Peter to become Tsar, with his mother as regent.', 'On  January  Peter organized a farewell party and invited Johan Huydecoper van Maarsseveen, who had to sit between Lefort and the Tsar and drink.', 'The Tsar retained some Finnish lands close to Saint Petersburg, which he had made his capital in .', \"The Tsar's navy was powerful enough that the Russians could penetrate Sweden.\", \"Gavrila Golovkin, the State Chancellor, was the first to add the Great, Father of His Country, Emperor of All the Russias to Peter's traditional title Tsar following a speech by the archbishop of Pskov in .\", 'He was educated  from an early age by several tutors  commissioned by his father, Tsar Alexis of Russia, most notably Nikita Zotov, Patrick Gordon, and Paul Menesius.', \"According to Roger Tavernier, Peter the Great later acquired De Wilde's collection.Thanks to the mediation of Nicolaes Witsen, mayor of Amsterdam and an expert on Russia, the Tsar was given the opportunity to gain practical experience in the largest shipyard in the world, belonging to the Dutch East India Company, for a period of four months.\", \"During his stay the Tsar engaged many skilled workers such as builders of locks, fortresses, shipwrights, and seamen—including Cornelis Cruys, a viceadmiral who became, under Franz Lefort, the Tsar's advisor in maritime affairs.\", 'He adopted the title of Emperor in place of the old title of Tsar in , and founded and developed the city of Saint Petersburg, which remained the capital of Russia until .'], 'saint petersburg': ['While the Poles fought the Swedes, Peter founded the city of Saint Petersburg in , in Ingermanland (a province of the Swedish Empire that he had captured).', 'He is interred in Saints Peter and Paul Cathedral, Saint Petersburg, Russia.', 'However, the formation of local elites domestically was not his main priority, and the first Russian university—Saint Petersburg State University—was founded only a year before his death, in .', 'The Tsar retained some Finnish lands close to Saint Petersburg, which he had made his capital in .', 'In  the construction of Peterhof, a palace near Saint Petersburg, was completed.', \"Peter valued Catherine and married her again (this time officially) at Saint Isaac's Cathedral in Saint Petersburg on  February .\", \"He forbade the building of stone edifices outside Saint Petersburg, which he intended to become Russia's capital, so that all stonemasons could participate in the construction of the new city.\", 'Between  and , and from  to , Saint Petersburg was the capital of imperial Russia.', 'However, within twelve years all the territories would be ceded back to Persia, now led by the charismatic military genius Nader Shah, as part of the Treaties of Resht and Ganja respectively, and the RussoPersian alliance against the Ottoman Empire, which was the common enemy of both.Peter introduced new taxes to fund improvements in Saint Petersburg.', 'He adopted the title of Emperor in place of the old title of Tsar in , and founded and developed the city of Saint Petersburg, which remained the capital of Russia until .', 'He studied the English techniques of citybuilding he would later use to great effect at Saint Petersburg.The Embassy next went to Leipzig, Dresden, Prague and Vienna.'], 'great': ['The Church reform of Peter the Great therefore abolished the Patriarchy, replacing it with a Holy Synod that was under the control of a Procurator, and the Tsar appointed all bishops.In , Peter followed the advice of Theophan Prokopovich in designing the Holy Synod as a council of ten clergymen.', 'Title \\nThe imperial title of Peter the Great was the following:\\nBy the grace of God, the most excellent and great sovereign emperor Pyotr Alekseevich the ruler of all the Russias: of Moscow, of Kiev, of Vladimir, of Novgorod, Tsar of Kazan, Tsar of Astrakhan and Tsar of Siberia, sovereign of Pskov, great prince of Smolensk, of Tver, of Yugorsk, of Perm, of Vyatka, of Bulgaria and others, sovereign and great prince of the Novgorod Lower lands, of Chernigov, of Ryazan, of Rostov, of Yaroslavl, of Belozersk, of Udora, of Kondia and the sovereign of all the northern lands, and the sovereign of the Iverian lands, of the Kartlian and Georgian Kings, of the Kabardin lands, of the Circassian and Mountain princes and many other states and lands western and eastern here and there and the successor and sovereign and ruler.', 'January] ), most commonly known as Peter the Great, was a monarch of Russia who modernised it and made it a European power.', 'Marriages and family \\n\\nPeter the Great had two wives, with whom he had fourteen children, three of whom survived to adulthood.', \"Gavrila Golovkin, the State Chancellor, was the first to add the Great, Father of His Country, Emperor of All the Russias to Peter's traditional title Tsar following a speech by the archbishop of Pskov in .\", 'He commanded all of his courtiers and officials to wear European clothing and cut off their long beards, causing his Boyars, who were very fond of their beards, great upset.', 'Western writers and political analysts recounted The Testimony or secret will of Peter the Great.', \"According to Roger Tavernier, Peter the Great later acquired De Wilde's collection.Thanks to the mediation of Nicolaes Witsen, mayor of Amsterdam and an expert on Russia, the Tsar was given the opportunity to gain practical experience in the largest shipyard in the world, belonging to the Dutch East India Company, for a period of four months.\", 'In , the Treaty of Nystad ended the Great Northern War.', \"Stalin wrote in , when Peter the Great, who had to deal with more developed countries in the West, feverishly built works in factories for supplying the army and strengthening the country's defenses, this was an original attempt to leap out of the framework of backwardness.\", 'Taking advantage of the profitable situation, Peter launched the RussoPersian War of –, otherwise known as The Persian Expedition of Peter the Great, which drastically increased Russian influence for the first time in the Caucasus and Caspian Sea region, and prevented the Ottoman Empire from making territorial gains in the region.', 'Great Northern War \\n\\nPeter made a temporary peace with the Ottoman Empire that allowed him to keep the captured fort of Azov, and turned his attention to Russian maritime supremacy.', 'He studied the English techniques of citybuilding he would later use to great effect at Saint Petersburg.The Embassy next went to Leipzig, Dresden, Prague and Vienna.'], 'russian affairs': ['Still, Peter could not acquire actual control over Russian affairs.']}\n"
          ]
        }
      ]
    },
    {
      "cell_type": "code",
      "source": [
        "import pickle\n",
        "\n",
        "with open('/content/keyword_sentence_mapping.pkl', 'wb') as f:\n",
        "  pickle.dump(keyword_sentence_mapping, f)\n",
        "\n",
        "with open('/content/clean_text.pkl', 'wb') as f:\n",
        "  pickle.dump(clean_text, f)"
      ],
      "metadata": {
        "id": "Dz204uBBevQg"
      },
      "execution_count": null,
      "outputs": []
    }
  ]
}